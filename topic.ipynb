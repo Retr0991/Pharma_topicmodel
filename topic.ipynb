{
 "cells": [
  {
   "cell_type": "code",
   "execution_count": 2,
   "metadata": {},
   "outputs": [],
   "source": [
    "data_path = r\"C:\\Users\\Retr0991\\ML stuf\\Phama_topicmodel\\pharma_shit\\drugsComTrain_raw.csv\""
   ]
  },
  {
   "cell_type": "code",
   "execution_count": 3,
   "metadata": {},
   "outputs": [],
   "source": [
    "import pandas as pd\n",
    "df = pd.read_csv(data_path)"
   ]
  },
  {
   "cell_type": "code",
   "execution_count": 4,
   "metadata": {},
   "outputs": [
    {
     "data": {
      "text/html": [
       "<div>\n",
       "<style scoped>\n",
       "    .dataframe tbody tr th:only-of-type {\n",
       "        vertical-align: middle;\n",
       "    }\n",
       "\n",
       "    .dataframe tbody tr th {\n",
       "        vertical-align: top;\n",
       "    }\n",
       "\n",
       "    .dataframe thead th {\n",
       "        text-align: right;\n",
       "    }\n",
       "</style>\n",
       "<table border=\"1\" class=\"dataframe\">\n",
       "  <thead>\n",
       "    <tr style=\"text-align: right;\">\n",
       "      <th></th>\n",
       "      <th>uniqueID</th>\n",
       "      <th>drugName</th>\n",
       "      <th>condition</th>\n",
       "      <th>review</th>\n",
       "      <th>rating</th>\n",
       "      <th>date</th>\n",
       "      <th>usefulCount</th>\n",
       "    </tr>\n",
       "  </thead>\n",
       "  <tbody>\n",
       "    <tr>\n",
       "      <th>0</th>\n",
       "      <td>206461</td>\n",
       "      <td>Valsartan</td>\n",
       "      <td>Left Ventricular Dysfunction</td>\n",
       "      <td>\"It has no side effect, I take it in combinati...</td>\n",
       "      <td>9</td>\n",
       "      <td>20-May-12</td>\n",
       "      <td>27</td>\n",
       "    </tr>\n",
       "    <tr>\n",
       "      <th>1</th>\n",
       "      <td>95260</td>\n",
       "      <td>Guanfacine</td>\n",
       "      <td>ADHD</td>\n",
       "      <td>\"My son is halfway through his fourth week of ...</td>\n",
       "      <td>8</td>\n",
       "      <td>27-Apr-10</td>\n",
       "      <td>192</td>\n",
       "    </tr>\n",
       "    <tr>\n",
       "      <th>2</th>\n",
       "      <td>92703</td>\n",
       "      <td>Lybrel</td>\n",
       "      <td>Birth Control</td>\n",
       "      <td>\"I used to take another oral contraceptive, wh...</td>\n",
       "      <td>5</td>\n",
       "      <td>14-Dec-09</td>\n",
       "      <td>17</td>\n",
       "    </tr>\n",
       "    <tr>\n",
       "      <th>3</th>\n",
       "      <td>138000</td>\n",
       "      <td>Ortho Evra</td>\n",
       "      <td>Birth Control</td>\n",
       "      <td>\"This is my first time using any form of birth...</td>\n",
       "      <td>8</td>\n",
       "      <td>3-Nov-15</td>\n",
       "      <td>10</td>\n",
       "    </tr>\n",
       "    <tr>\n",
       "      <th>4</th>\n",
       "      <td>35696</td>\n",
       "      <td>Buprenorphine / naloxone</td>\n",
       "      <td>Opiate Dependence</td>\n",
       "      <td>\"Suboxone has completely turned my life around...</td>\n",
       "      <td>9</td>\n",
       "      <td>27-Nov-16</td>\n",
       "      <td>37</td>\n",
       "    </tr>\n",
       "    <tr>\n",
       "      <th>...</th>\n",
       "      <td>...</td>\n",
       "      <td>...</td>\n",
       "      <td>...</td>\n",
       "      <td>...</td>\n",
       "      <td>...</td>\n",
       "      <td>...</td>\n",
       "      <td>...</td>\n",
       "    </tr>\n",
       "    <tr>\n",
       "      <th>161292</th>\n",
       "      <td>191035</td>\n",
       "      <td>Campral</td>\n",
       "      <td>Alcohol Dependence</td>\n",
       "      <td>\"I wrote my first report in Mid-October of 201...</td>\n",
       "      <td>10</td>\n",
       "      <td>31-May-15</td>\n",
       "      <td>125</td>\n",
       "    </tr>\n",
       "    <tr>\n",
       "      <th>161293</th>\n",
       "      <td>127085</td>\n",
       "      <td>Metoclopramide</td>\n",
       "      <td>Nausea/Vomiting</td>\n",
       "      <td>\"I was given this in IV before surgey. I immed...</td>\n",
       "      <td>1</td>\n",
       "      <td>1-Nov-11</td>\n",
       "      <td>34</td>\n",
       "    </tr>\n",
       "    <tr>\n",
       "      <th>161294</th>\n",
       "      <td>187382</td>\n",
       "      <td>Orencia</td>\n",
       "      <td>Rheumatoid Arthritis</td>\n",
       "      <td>\"Limited improvement after 4 months, developed...</td>\n",
       "      <td>2</td>\n",
       "      <td>15-Mar-14</td>\n",
       "      <td>35</td>\n",
       "    </tr>\n",
       "    <tr>\n",
       "      <th>161295</th>\n",
       "      <td>47128</td>\n",
       "      <td>Thyroid desiccated</td>\n",
       "      <td>Underactive Thyroid</td>\n",
       "      <td>\"I&amp;#039;ve been on thyroid medication 49 years...</td>\n",
       "      <td>10</td>\n",
       "      <td>19-Sep-15</td>\n",
       "      <td>79</td>\n",
       "    </tr>\n",
       "    <tr>\n",
       "      <th>161296</th>\n",
       "      <td>215220</td>\n",
       "      <td>Lubiprostone</td>\n",
       "      <td>Constipation, Chronic</td>\n",
       "      <td>\"I&amp;#039;ve had chronic constipation all my adu...</td>\n",
       "      <td>9</td>\n",
       "      <td>13-Dec-14</td>\n",
       "      <td>116</td>\n",
       "    </tr>\n",
       "  </tbody>\n",
       "</table>\n",
       "<p>161297 rows × 7 columns</p>\n",
       "</div>"
      ],
      "text/plain": [
       "        uniqueID                  drugName                     condition  \\\n",
       "0         206461                 Valsartan  Left Ventricular Dysfunction   \n",
       "1          95260                Guanfacine                          ADHD   \n",
       "2          92703                    Lybrel                 Birth Control   \n",
       "3         138000                Ortho Evra                 Birth Control   \n",
       "4          35696  Buprenorphine / naloxone             Opiate Dependence   \n",
       "...          ...                       ...                           ...   \n",
       "161292    191035                   Campral            Alcohol Dependence   \n",
       "161293    127085            Metoclopramide               Nausea/Vomiting   \n",
       "161294    187382                   Orencia          Rheumatoid Arthritis   \n",
       "161295     47128        Thyroid desiccated           Underactive Thyroid   \n",
       "161296    215220              Lubiprostone         Constipation, Chronic   \n",
       "\n",
       "                                                   review  rating       date  \\\n",
       "0       \"It has no side effect, I take it in combinati...       9  20-May-12   \n",
       "1       \"My son is halfway through his fourth week of ...       8  27-Apr-10   \n",
       "2       \"I used to take another oral contraceptive, wh...       5  14-Dec-09   \n",
       "3       \"This is my first time using any form of birth...       8   3-Nov-15   \n",
       "4       \"Suboxone has completely turned my life around...       9  27-Nov-16   \n",
       "...                                                   ...     ...        ...   \n",
       "161292  \"I wrote my first report in Mid-October of 201...      10  31-May-15   \n",
       "161293  \"I was given this in IV before surgey. I immed...       1   1-Nov-11   \n",
       "161294  \"Limited improvement after 4 months, developed...       2  15-Mar-14   \n",
       "161295  \"I&#039;ve been on thyroid medication 49 years...      10  19-Sep-15   \n",
       "161296  \"I&#039;ve had chronic constipation all my adu...       9  13-Dec-14   \n",
       "\n",
       "        usefulCount  \n",
       "0                27  \n",
       "1               192  \n",
       "2                17  \n",
       "3                10  \n",
       "4                37  \n",
       "...             ...  \n",
       "161292          125  \n",
       "161293           34  \n",
       "161294           35  \n",
       "161295           79  \n",
       "161296          116  \n",
       "\n",
       "[161297 rows x 7 columns]"
      ]
     },
     "execution_count": 4,
     "metadata": {},
     "output_type": "execute_result"
    }
   ],
   "source": [
    "df"
   ]
  },
  {
   "cell_type": "code",
   "execution_count": 5,
   "metadata": {},
   "outputs": [],
   "source": [
    "li = df['drugName'].to_list()"
   ]
  },
  {
   "cell_type": "code",
   "execution_count": 6,
   "metadata": {},
   "outputs": [
    {
     "data": {
      "text/plain": [
       "161297"
      ]
     },
     "execution_count": 6,
     "metadata": {},
     "output_type": "execute_result"
    }
   ],
   "source": [
    "len(li)"
   ]
  },
  {
   "cell_type": "code",
   "execution_count": 7,
   "metadata": {},
   "outputs": [],
   "source": [
    "d = {}\n",
    "for ele in li:\n",
    "    if ele in d:\n",
    "        d[ele] += 1\n",
    "    else:\n",
    "        d[ele] = 1"
   ]
  },
  {
   "cell_type": "code",
   "execution_count": 8,
   "metadata": {},
   "outputs": [
    {
     "data": {
      "text/plain": [
       "3436"
      ]
     },
     "execution_count": 8,
     "metadata": {},
     "output_type": "execute_result"
    }
   ],
   "source": [
    "len(d)"
   ]
  },
  {
   "cell_type": "code",
   "execution_count": 9,
   "metadata": {},
   "outputs": [],
   "source": [
    "sorted_dict = dict(sorted(d.items(), key=lambda item: item[1]))"
   ]
  },
  {
   "cell_type": "code",
   "execution_count": 10,
   "metadata": {},
   "outputs": [],
   "source": [
    "li = []"
   ]
  },
  {
   "cell_type": "code",
   "execution_count": 11,
   "metadata": {},
   "outputs": [],
   "source": [
    "for i in range(40):\n",
    "    last_key, last_value = sorted_dict.popitem()\n",
    "    li.append(((last_key, last_value)))"
   ]
  },
  {
   "cell_type": "code",
   "execution_count": 12,
   "metadata": {},
   "outputs": [
    {
     "data": {
      "text/plain": [
       "['Levonorgestrel',\n",
       " 'Etonogestrel',\n",
       " 'Ethinyl estradiol / norethindrone',\n",
       " 'Nexplanon',\n",
       " 'Ethinyl estradiol / norgestimate',\n",
       " 'Ethinyl estradiol / levonorgestrel',\n",
       " 'Phentermine',\n",
       " 'Sertraline',\n",
       " 'Escitalopram',\n",
       " 'Mirena',\n",
       " 'Implanon',\n",
       " 'Gabapentin',\n",
       " 'Bupropion',\n",
       " 'Venlafaxine',\n",
       " 'Miconazole',\n",
       " 'Citalopram',\n",
       " 'Medroxyprogesterone',\n",
       " 'Lexapro',\n",
       " 'Bupropion / naltrexone',\n",
       " 'Duloxetine',\n",
       " 'Metronidazole',\n",
       " 'Contrave',\n",
       " 'Drospirenone / ethinyl estradiol',\n",
       " 'Depo-Provera',\n",
       " 'Cymbalta',\n",
       " 'Quetiapine',\n",
       " 'Clonazepam',\n",
       " 'Skyla',\n",
       " 'Tramadol',\n",
       " 'Zoloft',\n",
       " 'Varenicline',\n",
       " 'Fluoxetine',\n",
       " 'Liraglutide',\n",
       " 'Tioconazole',\n",
       " 'Alprazolam',\n",
       " 'Amitriptyline',\n",
       " 'Lo Loestrin Fe',\n",
       " 'Paroxetine',\n",
       " 'Chantix',\n",
       " 'Ethinyl estradiol / etonogestrel']"
      ]
     },
     "execution_count": 12,
     "metadata": {},
     "output_type": "execute_result"
    }
   ],
   "source": [
    "drug_list = [x[0] for x in li]\n",
    "drug_list"
   ]
  },
  {
   "cell_type": "code",
   "execution_count": 13,
   "metadata": {},
   "outputs": [
    {
     "data": {
      "text/plain": [
       "['Levonorgestrel',\n",
       " 'Etonogestrel',\n",
       " 'Ethinyl estradiol / norethindrone',\n",
       " 'Nexplanon',\n",
       " 'Ethinyl estradiol / norgestimate',\n",
       " 'Ethinyl estradiol / levonorgestrel',\n",
       " 'Phentermine',\n",
       " 'Sertraline',\n",
       " 'Escitalopram',\n",
       " 'Mirena',\n",
       " 'Implanon',\n",
       " 'Gabapentin',\n",
       " 'Bupropion',\n",
       " 'Venlafaxine',\n",
       " 'Miconazole',\n",
       " 'Citalopram',\n",
       " 'Medroxyprogesterone',\n",
       " 'Lexapro',\n",
       " 'Bupropion / naltrexone',\n",
       " 'Duloxetine',\n",
       " 'Metronidazole',\n",
       " 'Contrave',\n",
       " 'Drospirenone / ethinyl estradiol',\n",
       " 'Depo-Provera',\n",
       " 'Cymbalta',\n",
       " 'Quetiapine',\n",
       " 'Clonazepam',\n",
       " 'Skyla',\n",
       " 'Tramadol',\n",
       " 'Zoloft',\n",
       " 'Varenicline',\n",
       " 'Fluoxetine',\n",
       " 'Liraglutide',\n",
       " 'Tioconazole',\n",
       " 'Alprazolam',\n",
       " 'Amitriptyline',\n",
       " 'Lo Loestrin Fe',\n",
       " 'Paroxetine',\n",
       " 'Chantix',\n",
       " 'Ethinyl estradiol / etonogestrel']"
      ]
     },
     "execution_count": 13,
     "metadata": {},
     "output_type": "execute_result"
    }
   ],
   "source": [
    "li_new = []\n",
    "# for i in drug_list:\n",
    "#     text = i.replace(\" \", \"_\")\n",
    "#     text = text.split('/')\n",
    "#     li_new.append(text[0].rstrip(\"_\"))\n",
    "\n",
    "# drug_list = li_new\n",
    "drug_list"
   ]
  },
  {
   "cell_type": "code",
   "execution_count": 28,
   "metadata": {},
   "outputs": [
    {
     "data": {
      "text/plain": [
       "'Mirena'"
      ]
     },
     "execution_count": 28,
     "metadata": {},
     "output_type": "execute_result"
    }
   ],
   "source": [
    "drug_list[9]"
   ]
  },
  {
   "cell_type": "code",
   "execution_count": 30,
   "metadata": {},
   "outputs": [
    {
     "ename": "KeyError",
     "evalue": "'drugName'",
     "output_type": "error",
     "traceback": [
      "\u001b[1;31m---------------------------------------------------------------------------\u001b[0m",
      "\u001b[1;31mKeyError\u001b[0m                                  Traceback (most recent call last)",
      "File \u001b[1;32mc:\\Users\\Retr0991\\miniconda3\\envs\\temp\\Lib\\site-packages\\pandas\\core\\indexes\\base.py:3805\u001b[0m, in \u001b[0;36mIndex.get_loc\u001b[1;34m(self, key)\u001b[0m\n\u001b[0;32m   3804\u001b[0m \u001b[38;5;28;01mtry\u001b[39;00m:\n\u001b[1;32m-> 3805\u001b[0m     \u001b[38;5;28;01mreturn\u001b[39;00m \u001b[38;5;28;43mself\u001b[39;49m\u001b[38;5;241;43m.\u001b[39;49m\u001b[43m_engine\u001b[49m\u001b[38;5;241;43m.\u001b[39;49m\u001b[43mget_loc\u001b[49m\u001b[43m(\u001b[49m\u001b[43mcasted_key\u001b[49m\u001b[43m)\u001b[49m\n\u001b[0;32m   3806\u001b[0m \u001b[38;5;28;01mexcept\u001b[39;00m \u001b[38;5;167;01mKeyError\u001b[39;00m \u001b[38;5;28;01mas\u001b[39;00m err:\n",
      "File \u001b[1;32mindex.pyx:167\u001b[0m, in \u001b[0;36mpandas._libs.index.IndexEngine.get_loc\u001b[1;34m()\u001b[0m\n",
      "File \u001b[1;32mindex.pyx:196\u001b[0m, in \u001b[0;36mpandas._libs.index.IndexEngine.get_loc\u001b[1;34m()\u001b[0m\n",
      "File \u001b[1;32mpandas\\\\_libs\\\\hashtable_class_helper.pxi:7081\u001b[0m, in \u001b[0;36mpandas._libs.hashtable.PyObjectHashTable.get_item\u001b[1;34m()\u001b[0m\n",
      "File \u001b[1;32mpandas\\\\_libs\\\\hashtable_class_helper.pxi:7089\u001b[0m, in \u001b[0;36mpandas._libs.hashtable.PyObjectHashTable.get_item\u001b[1;34m()\u001b[0m\n",
      "\u001b[1;31mKeyError\u001b[0m: 'drugName'",
      "\nThe above exception was the direct cause of the following exception:\n",
      "\u001b[1;31mKeyError\u001b[0m                                  Traceback (most recent call last)",
      "Cell \u001b[1;32mIn[30], line 2\u001b[0m\n\u001b[0;32m      1\u001b[0m li_drug \u001b[38;5;241m=\u001b[39m []\n\u001b[1;32m----> 2\u001b[0m df1 \u001b[38;5;241m=\u001b[39m df[\u001b[43mdf\u001b[49m\u001b[43m[\u001b[49m\u001b[38;5;124;43m'\u001b[39;49m\u001b[38;5;124;43mdrugName\u001b[39;49m\u001b[38;5;124;43m'\u001b[39;49m\u001b[43m]\u001b[49m \u001b[38;5;241m==\u001b[39m drug_list[\u001b[38;5;241m9\u001b[39m:\u001b[38;5;241m10\u001b[39m]]\n\u001b[0;32m      3\u001b[0m \u001b[38;5;66;03m# for drug in drug_list[1:]:\u001b[39;00m\n\u001b[0;32m      4\u001b[0m \u001b[38;5;66;03m#     df1 = pd.concat([df1, df[df['drugName'] == drug]], ignore_index=True)\u001b[39;00m\n",
      "File \u001b[1;32mc:\\Users\\Retr0991\\miniconda3\\envs\\temp\\Lib\\site-packages\\pandas\\core\\frame.py:4090\u001b[0m, in \u001b[0;36mDataFrame.__getitem__\u001b[1;34m(self, key)\u001b[0m\n\u001b[0;32m   4088\u001b[0m \u001b[38;5;28;01mif\u001b[39;00m \u001b[38;5;28mself\u001b[39m\u001b[38;5;241m.\u001b[39mcolumns\u001b[38;5;241m.\u001b[39mnlevels \u001b[38;5;241m>\u001b[39m \u001b[38;5;241m1\u001b[39m:\n\u001b[0;32m   4089\u001b[0m     \u001b[38;5;28;01mreturn\u001b[39;00m \u001b[38;5;28mself\u001b[39m\u001b[38;5;241m.\u001b[39m_getitem_multilevel(key)\n\u001b[1;32m-> 4090\u001b[0m indexer \u001b[38;5;241m=\u001b[39m \u001b[38;5;28;43mself\u001b[39;49m\u001b[38;5;241;43m.\u001b[39;49m\u001b[43mcolumns\u001b[49m\u001b[38;5;241;43m.\u001b[39;49m\u001b[43mget_loc\u001b[49m\u001b[43m(\u001b[49m\u001b[43mkey\u001b[49m\u001b[43m)\u001b[49m\n\u001b[0;32m   4091\u001b[0m \u001b[38;5;28;01mif\u001b[39;00m is_integer(indexer):\n\u001b[0;32m   4092\u001b[0m     indexer \u001b[38;5;241m=\u001b[39m [indexer]\n",
      "File \u001b[1;32mc:\\Users\\Retr0991\\miniconda3\\envs\\temp\\Lib\\site-packages\\pandas\\core\\indexes\\base.py:3812\u001b[0m, in \u001b[0;36mIndex.get_loc\u001b[1;34m(self, key)\u001b[0m\n\u001b[0;32m   3807\u001b[0m     \u001b[38;5;28;01mif\u001b[39;00m \u001b[38;5;28misinstance\u001b[39m(casted_key, \u001b[38;5;28mslice\u001b[39m) \u001b[38;5;129;01mor\u001b[39;00m (\n\u001b[0;32m   3808\u001b[0m         \u001b[38;5;28misinstance\u001b[39m(casted_key, abc\u001b[38;5;241m.\u001b[39mIterable)\n\u001b[0;32m   3809\u001b[0m         \u001b[38;5;129;01mand\u001b[39;00m \u001b[38;5;28many\u001b[39m(\u001b[38;5;28misinstance\u001b[39m(x, \u001b[38;5;28mslice\u001b[39m) \u001b[38;5;28;01mfor\u001b[39;00m x \u001b[38;5;129;01min\u001b[39;00m casted_key)\n\u001b[0;32m   3810\u001b[0m     ):\n\u001b[0;32m   3811\u001b[0m         \u001b[38;5;28;01mraise\u001b[39;00m InvalidIndexError(key)\n\u001b[1;32m-> 3812\u001b[0m     \u001b[38;5;28;01mraise\u001b[39;00m \u001b[38;5;167;01mKeyError\u001b[39;00m(key) \u001b[38;5;28;01mfrom\u001b[39;00m \u001b[38;5;21;01merr\u001b[39;00m\n\u001b[0;32m   3813\u001b[0m \u001b[38;5;28;01mexcept\u001b[39;00m \u001b[38;5;167;01mTypeError\u001b[39;00m:\n\u001b[0;32m   3814\u001b[0m     \u001b[38;5;66;03m# If we have a listlike key, _check_indexing_error will raise\u001b[39;00m\n\u001b[0;32m   3815\u001b[0m     \u001b[38;5;66;03m#  InvalidIndexError. Otherwise we fall through and re-raise\u001b[39;00m\n\u001b[0;32m   3816\u001b[0m     \u001b[38;5;66;03m#  the TypeError.\u001b[39;00m\n\u001b[0;32m   3817\u001b[0m     \u001b[38;5;28mself\u001b[39m\u001b[38;5;241m.\u001b[39m_check_indexing_error(key)\n",
      "\u001b[1;31mKeyError\u001b[0m: 'drugName'"
     ]
    }
   ],
   "source": [
    "li_drug = []\n",
    "df1 = df[df['drugName'] == drug_list[9:10]]\n",
    "# for drug in drug_list[1:]:\n",
    "#     df1 = pd.concat([df1, df[df['drugName'] == drug]], ignore_index=True)"
   ]
  },
  {
   "cell_type": "code",
   "execution_count": null,
   "metadata": {},
   "outputs": [
    {
     "data": {
      "text/html": [
       "<div>\n",
       "<style scoped>\n",
       "    .dataframe tbody tr th:only-of-type {\n",
       "        vertical-align: middle;\n",
       "    }\n",
       "\n",
       "    .dataframe tbody tr th {\n",
       "        vertical-align: top;\n",
       "    }\n",
       "\n",
       "    .dataframe thead th {\n",
       "        text-align: right;\n",
       "    }\n",
       "</style>\n",
       "<table border=\"1\" class=\"dataframe\">\n",
       "  <thead>\n",
       "    <tr style=\"text-align: right;\">\n",
       "      <th></th>\n",
       "      <th>index</th>\n",
       "      <th>uniqueID</th>\n",
       "      <th>drugName</th>\n",
       "      <th>condition</th>\n",
       "      <th>review</th>\n",
       "      <th>rating</th>\n",
       "      <th>date</th>\n",
       "      <th>usefulCount</th>\n",
       "    </tr>\n",
       "  </thead>\n",
       "  <tbody>\n",
       "    <tr>\n",
       "      <th>0</th>\n",
       "      <td>17</td>\n",
       "      <td>219869</td>\n",
       "      <td>Amitriptyline</td>\n",
       "      <td>ibromyalgia</td>\n",
       "      <td>\"I&amp;#039;ve been taking amitriptyline since Jan...</td>\n",
       "      <td>9</td>\n",
       "      <td>15-Mar-17</td>\n",
       "      <td>39</td>\n",
       "    </tr>\n",
       "    <tr>\n",
       "      <th>1</th>\n",
       "      <td>411</td>\n",
       "      <td>220053</td>\n",
       "      <td>Amitriptyline</td>\n",
       "      <td>Insomnia</td>\n",
       "      <td>\"I have been on Ambien for many years and it s...</td>\n",
       "      <td>1</td>\n",
       "      <td>19-Apr-16</td>\n",
       "      <td>15</td>\n",
       "    </tr>\n",
       "    <tr>\n",
       "      <th>2</th>\n",
       "      <td>419</td>\n",
       "      <td>219810</td>\n",
       "      <td>Amitriptyline</td>\n",
       "      <td>Migraine Prevention</td>\n",
       "      <td>\"Wanted to share this with everyone. I was giv...</td>\n",
       "      <td>9</td>\n",
       "      <td>13-Jun-17</td>\n",
       "      <td>36</td>\n",
       "    </tr>\n",
       "    <tr>\n",
       "      <th>3</th>\n",
       "      <td>1144</td>\n",
       "      <td>220208</td>\n",
       "      <td>Amitriptyline</td>\n",
       "      <td>Interstitial Cystitis</td>\n",
       "      <td>\"I was diagnosed with interstitial cystitis se...</td>\n",
       "      <td>10</td>\n",
       "      <td>20-Mar-15</td>\n",
       "      <td>66</td>\n",
       "    </tr>\n",
       "    <tr>\n",
       "      <th>4</th>\n",
       "      <td>1159</td>\n",
       "      <td>220398</td>\n",
       "      <td>Amitriptyline</td>\n",
       "      <td>Pain</td>\n",
       "      <td>\"I suffered with chronic pain for about seven ...</td>\n",
       "      <td>8</td>\n",
       "      <td>13-Nov-13</td>\n",
       "      <td>176</td>\n",
       "    </tr>\n",
       "    <tr>\n",
       "      <th>...</th>\n",
       "      <td>...</td>\n",
       "      <td>...</td>\n",
       "      <td>...</td>\n",
       "      <td>...</td>\n",
       "      <td>...</td>\n",
       "      <td>...</td>\n",
       "      <td>...</td>\n",
       "      <td>...</td>\n",
       "    </tr>\n",
       "    <tr>\n",
       "      <th>690</th>\n",
       "      <td>160298</td>\n",
       "      <td>219939</td>\n",
       "      <td>Amitriptyline</td>\n",
       "      <td>Migraine Prevention</td>\n",
       "      <td>\"I suffered from Chronic Tension Headaches tha...</td>\n",
       "      <td>10</td>\n",
       "      <td>16-Aug-16</td>\n",
       "      <td>53</td>\n",
       "    </tr>\n",
       "    <tr>\n",
       "      <th>691</th>\n",
       "      <td>160455</td>\n",
       "      <td>219728</td>\n",
       "      <td>Amitriptyline</td>\n",
       "      <td>Migraine Prevention</td>\n",
       "      <td>\"My first migraine came at 16 years of age.  E...</td>\n",
       "      <td>10</td>\n",
       "      <td>27-Sep-17</td>\n",
       "      <td>15</td>\n",
       "    </tr>\n",
       "    <tr>\n",
       "      <th>692</th>\n",
       "      <td>160564</td>\n",
       "      <td>220243</td>\n",
       "      <td>Amitriptyline</td>\n",
       "      <td>Interstitial Cystitis</td>\n",
       "      <td>\"I didn&amp;#039;t think this medication was worki...</td>\n",
       "      <td>7</td>\n",
       "      <td>3-Dec-14</td>\n",
       "      <td>30</td>\n",
       "    </tr>\n",
       "    <tr>\n",
       "      <th>693</th>\n",
       "      <td>160731</td>\n",
       "      <td>219913</td>\n",
       "      <td>Amitriptyline</td>\n",
       "      <td>Pain</td>\n",
       "      <td>\"Hello everyone.I was prescribed this medicati...</td>\n",
       "      <td>1</td>\n",
       "      <td>9-Nov-16</td>\n",
       "      <td>45</td>\n",
       "    </tr>\n",
       "    <tr>\n",
       "      <th>694</th>\n",
       "      <td>160785</td>\n",
       "      <td>220346</td>\n",
       "      <td>Amitriptyline</td>\n",
       "      <td>Pain</td>\n",
       "      <td>\"I have interstitial cystitis for 15 yrs now. ...</td>\n",
       "      <td>9</td>\n",
       "      <td>25-Mar-14</td>\n",
       "      <td>117</td>\n",
       "    </tr>\n",
       "  </tbody>\n",
       "</table>\n",
       "<p>695 rows × 8 columns</p>\n",
       "</div>"
      ],
      "text/plain": [
       "      index  uniqueID       drugName              condition  \\\n",
       "0        17    219869  Amitriptyline            ibromyalgia   \n",
       "1       411    220053  Amitriptyline               Insomnia   \n",
       "2       419    219810  Amitriptyline    Migraine Prevention   \n",
       "3      1144    220208  Amitriptyline  Interstitial Cystitis   \n",
       "4      1159    220398  Amitriptyline                   Pain   \n",
       "..      ...       ...            ...                    ...   \n",
       "690  160298    219939  Amitriptyline    Migraine Prevention   \n",
       "691  160455    219728  Amitriptyline    Migraine Prevention   \n",
       "692  160564    220243  Amitriptyline  Interstitial Cystitis   \n",
       "693  160731    219913  Amitriptyline                   Pain   \n",
       "694  160785    220346  Amitriptyline                   Pain   \n",
       "\n",
       "                                                review  rating       date  \\\n",
       "0    \"I&#039;ve been taking amitriptyline since Jan...       9  15-Mar-17   \n",
       "1    \"I have been on Ambien for many years and it s...       1  19-Apr-16   \n",
       "2    \"Wanted to share this with everyone. I was giv...       9  13-Jun-17   \n",
       "3    \"I was diagnosed with interstitial cystitis se...      10  20-Mar-15   \n",
       "4    \"I suffered with chronic pain for about seven ...       8  13-Nov-13   \n",
       "..                                                 ...     ...        ...   \n",
       "690  \"I suffered from Chronic Tension Headaches tha...      10  16-Aug-16   \n",
       "691  \"My first migraine came at 16 years of age.  E...      10  27-Sep-17   \n",
       "692  \"I didn&#039;t think this medication was worki...       7   3-Dec-14   \n",
       "693  \"Hello everyone.I was prescribed this medicati...       1   9-Nov-16   \n",
       "694  \"I have interstitial cystitis for 15 yrs now. ...       9  25-Mar-14   \n",
       "\n",
       "     usefulCount  \n",
       "0             39  \n",
       "1             15  \n",
       "2             36  \n",
       "3             66  \n",
       "4            176  \n",
       "..           ...  \n",
       "690           53  \n",
       "691           15  \n",
       "692           30  \n",
       "693           45  \n",
       "694          117  \n",
       "\n",
       "[695 rows x 8 columns]"
      ]
     },
     "execution_count": 16,
     "metadata": {},
     "output_type": "execute_result"
    }
   ],
   "source": [
    "df1.reset_index()"
   ]
  },
  {
   "cell_type": "code",
   "execution_count": null,
   "metadata": {},
   "outputs": [],
   "source": []
  },
  {
   "cell_type": "code",
   "execution_count": null,
   "metadata": {},
   "outputs": [
    {
     "data": {
      "text/plain": [
       "array(['ibromyalgia', 'Insomnia', 'Migraine Prevention',\n",
       "       'Interstitial Cystitis', 'Pain',\n",
       "       'Reflex Sympathetic Dystrophy Syndrome', 'Anxiety and Stress',\n",
       "       'Dysautonomia', 'Depression', 'Post Traumatic Stress Disorde',\n",
       "       'Cyclic Vomiting Syndrome', 'Irritable Bowel Syndrome',\n",
       "       'Vulvodynia', 'Chronic Myofascial Pain', 'Pudendal Neuralgia',\n",
       "       'Persistent Depressive Disorde', 'Urinary Incontinence',\n",
       "       'Not Listed / Othe', 'Neurotic Depression',\n",
       "       'Burning Mouth Syndrome', 'Hyperhidrosis'], dtype=object)"
      ]
     },
     "execution_count": 17,
     "metadata": {},
     "output_type": "execute_result"
    }
   ],
   "source": [
    "df1.condition.unique()"
   ]
  },
  {
   "cell_type": "code",
   "execution_count": null,
   "metadata": {},
   "outputs": [
    {
     "data": {
      "text/plain": [
       "array(['ibromyalgia', 'Insomnia', 'Migraine Prevention',\n",
       "       'Interstitial Cystitis', 'Pain',\n",
       "       'Reflex Sympathetic Dystrophy Syndrome', 'Anxiety and Stress',\n",
       "       'Dysautonomia', 'Depression', 'Post Traumatic Stress Disorde',\n",
       "       'Cyclic Vomiting Syndrome', 'Irritable Bowel Syndrome',\n",
       "       'Vulvodynia', 'Chronic Myofascial Pain', 'Pudendal Neuralgia',\n",
       "       'Persistent Depressive Disorde', 'Urinary Incontinence',\n",
       "       'Neurotic Depression', 'Burning Mouth Syndrome', 'Hyperhidrosis'],\n",
       "      dtype=object)"
      ]
     },
     "execution_count": 18,
     "metadata": {},
     "output_type": "execute_result"
    }
   ],
   "source": [
    "df1 = df1[df1['condition'] != 'Not Listed / Othe']\n",
    "df1.dropna(inplace=True)\n",
    "df1.condition.unique()"
   ]
  },
  {
   "cell_type": "code",
   "execution_count": null,
   "metadata": {},
   "outputs": [],
   "source": [
    "li_drug = df1.review.to_list()"
   ]
  },
  {
   "cell_type": "code",
   "execution_count": null,
   "metadata": {},
   "outputs": [],
   "source": [
    "li = li_drug"
   ]
  },
  {
   "cell_type": "code",
   "execution_count": null,
   "metadata": {},
   "outputs": [],
   "source": [
    "li_new = []\n",
    "for ele in li:\n",
    "    li_new.append(ele[1:-1])\n",
    "li = li_new"
   ]
  },
  {
   "cell_type": "code",
   "execution_count": null,
   "metadata": {},
   "outputs": [
    {
     "data": {
      "text/plain": [
       "1242"
      ]
     },
     "execution_count": 253,
     "metadata": {},
     "output_type": "execute_result"
    }
   ],
   "source": [
    "len(li)"
   ]
  },
  {
   "cell_type": "code",
   "execution_count": null,
   "metadata": {},
   "outputs": [
    {
     "data": {
      "text/plain": [
       "['I&#039;ve been taking amitriptyline since January 2013 after being diagnosed with fibromyalgia. I tried cymbalta for a week and my Dr decided that since it kept me awake 24/7 that it wasn&#039;t a good fit for me even though it relieved my pain. I started with 25 mg. After 2 weeks I had some breakthrough pain, so my Dr increased my dosage to 50mg and I&#039;m still on that dosage today. For the first full year I was on this I never had pain and felt &#039;cured&#039;. As time went on, it seems to help control my pain. I do still have pain, but at a low manageable level. I take this around 7pm each evening to avoid feeling overly drowsy in the mornings. This med allows me to have a fairly normal life.',\n",
       " 'I have been on Ambien for many years and it stopped working for me. My dr. has tried some other meds, but so far nothing seems to work. I&#039;ve been on Elavil for about a week now and it seems as if I&#039;m taking a sugar pill. It&#039;s just not working for me I wish it did work as well for as it has for others.',\n",
       " 'Wanted to share this with everyone. I was given this mediation 6 years ago. I had a lot of problems like fibromyalgia, migraines, depression, insomnia, IBS -C. I was taken a lot of different meds for all these problems, but nothing worked. When I was first put on this medication at 25mg I could sleep for the first time in years. I was waking up on the morning refreshed and happy. I noticed about 6 months later my migraines were not as often as I normally would have them. As time went on I needed my meds to be increased. I now take 150mg. This drug is a life saver. My fibromyalgia pain is less, migraines less, anxiety way less and it also improved my IBS C symptoms. I would recommend this Medication to anyone with any of these problem',\n",
       " 'I was diagnosed with interstitial cystitis several months ago.  The pain was so debilitating that I couldn&#039;t even see patients for about 3 days (I&#039;m a dentist).  The pain brought me to tears.  I was afraid that I would have to go on disibility.  My new urologist put me on amytripyline a few weeks ago.  It worked almost immediately. Most days I&#039;m almost pain-free.  I got my life back.',\n",
       " 'I suffered with chronic pain for about seven years.  Went to many specialist who told me either nothing was wrong or I had fibromyalgia.  I tried all medications out there for pain, muscle relaxers, anti-depressants and medication for epilepsy.  As well as meds for fibro.   Nothing helped.  Finally I found a new Nerologist who put me on a combo of Amitriptyline and Prozac.  I am on both the smallest doses.  It has been a miracle for my pain.  I wish I would have known about this 7 years ago.  My biggest problem with it is weight gain like 13 pounds.  My diet has not changed and I took up running.  But no weight comes off.  I guess I rather have less pain and be a little over weight then skinny and in tons of pain:)',\n",
       " 'Started at 10 mg up to 25mg. Doesn&#039;t help pain but I do sleep better. Extremely dry mouth and skin since I began 2 months ago. Not sure if the sleep is worth the sore dry mouth and skin that when I rub  it, snows dead skin cells everywhere.',\n",
       " 'Scared to death of taking it but broke tabs in half to 5mg in order to increase dose slowly. I have developed a bit of chronic tooth pain so taking it for pain. \\r\\n\\r\\nTook it at 7 pm and felt mildly sedated by 11pm. Actually didn&#039;t sleep well but I think I was on high alert for the side effects which didn&#039;t happen. A bit groggy in morning but nothing special that I can&#039;t deal with. I think the way to go is to build up if you are scared of meds like me. \\r\\n\\r\\nI wrote this to encourage others to try the medicine because I am as scared as anyone to take drugs like this. \\r\\nI',\n",
       " 'Works great to control my migraines it cut the frequency in half. Before starting this medication I would suffer migraines 3-4x/week. And the days that I didn&#039;t have a migraine, I still felt &quot;foggy&quot;.  However after only 6 weeks on it I gained 30 lbs, had urinary retention.',\n",
       " 'After taking only one 10mg pill I keep having panic attacks. Stay away!',\n",
       " 'Improved neurological functions, less flare-ups of the autonomic system.  Helps - body temperature regulation has become a little better, able to sweat a little now, able to swallow now with no problems, hand tremors a majority of the time, and about half the adrenaline rushes than before.  Does not help - sleep, heart rate and blood pressure, GI problems (gastroparesis, stomach pains, or constipation), heat intolerance, brain fog (memory problems).  Has had to increase medication a few times, but am still on it.  I am still on this medication and would not want to go off this - I have seen improvement.',\n",
       " 'Miracle drug suffered for many years with depression and stress since prescribed I love a normal life again.',\n",
       " 'Though it certainly helped me stay asleep once I had gone to bed, it caused me to be groggy the next day and I had the hardest time just getting out of bed. That could have been tolerable, however, if it were not for the hallucinations I suffered once I would lay down. It felt as though people were pushing on the mattress and grabbing at my feet. It was so bad, in fact, that it caused me to have to sleep with the light on, and I&#039;m a 32 year old man! This ultimately caused me to have to stop taking this.',\n",
       " 'I take 30mg at bedtime, and after only 3 days, I was able to sleep through the night (without having to pee).\\r\\n\\r\\nI couldn&#039;t be happier with the results. 80% improvement in my Interstitial Cystitis. ',\n",
       " 'I have been on Amitriptyline 75mg for a year and a half. It does amazing things for depression and even pain. I was suicidal everyday until I was prescribed this medicine. I have had only one side affect. Dry mouth! The dry mouth is terrible. I carry gum with me always lol. I recommend this medicine to ANYONE with depression, nerve pain, and insomnia. It will change your life for the better! I promise you! Give it a try!',\n",
       " 'I was one of those people who thought nothing would work for me - I was too far gone and beyond help.   Restless, sleepless nights and all the anxiety and depression were killing me.  And then I found Amitriptyline.    At last.....Sleep.   That&#039;s all that mattered to begin with.  You simply cannot underestimate the power of sleep.  During the day I felt far less agitated and less stressed.  Of course life can still throw slings and arrows your way and there are side effects for sure but none as bad as the frazzled state I was in before I took them.',\n",
       " 'I have been dealing with anxiety/ panic attacks and migraines for 10mths and have tried about everything out there (Prozac/ Buspirone/ Setraline/ Ativan) and NOTHING seemed to work but Ativan. Everything else gave me really bad reactions from burning skin to heart burn, palpitations, shortness of breath, insomnia just to name a few and even worsened my anxiety and led to more panic attacks. The only problem with Ativan was that because it is a Benzo and it is highly addictive so my doctor did not want to prescribe that anymore. My migraines got so severe that I was seen by a Neurologist last week and he prescribed AMITRIPTYLINE so far it&#039;s working wonders . I am able sleep through the whole night and my panic attacks are gone!!!!!',\n",
       " 'This medication literally is a life saver. I&#039;ve had chronic migraines for 10 years. I was on 10mg for 6 months then my migraines came back. My doctor upped my dosage to 20 and now it&#039;s back to normal. But one side effect I can&#039;t seem to shake off is sleepiness. I&#039;m sleeping close to 16 hours+ a day.',\n",
       " 'Works wonderful for insomnia. Just the side effects are terrible. Headaches, drowsiness and WEIGHT GAIN!',\n",
       " 'Keep you from wanting to kill yourself  make you feel more comfortable just meadows you out keeps me from having  back  flashing. First time I didn&#039;t like bad side affects  the Dr gave me 50mg a day but I take 50mg bed time then I cut pill in half  late morning and early evening. First time  taking  make you sleep really good. I have know side affect. I like keeps you calm',\n",
       " 'I take this for Bipolar disoder 2, with severe depressive episodes. Helps tremendously for my depression symptoms, as well as aiding in controlling mood swings along with a mood stabilizer. Helps with insomnia tremendously. Sometimes the daytime sedation can last a long time at higher doses, and you&#039;ll probably get dry mouth, constipation, or blurry vision/dizziness, at least at first. This medication works great for a lot of people when other things fail, just be aware that the trade off is that some annoying side effects are fairly common. Myself, the benefits far outweigh the negatives.',\n",
       " 'Take for migraines not sure it does much good as I still get them twice a month it did however see off my sciatica after 3 years of constant pain!',\n",
       " 'This was a phenomenal find! I could not function everyday tasks until beginning amitriptyline. I couldn&#039;t even try to upset myself, or feel worried while on amitriptyline. I went from constant unknown fear and breathing difficulty to floating on a cloud without a fear in the world. \\r\\nFirst few weeks had some challenging side effects. Blackouts, memory loss, numbness in face, lathargic, more sleepy than usual, dry mouth and munchies. All those disappeared after a month or so.\\r\\nDid try to get off it to see how my anxiety could manage on its own. Withdrawals were pretty miserable. Two weeks of headaches, nausea, irritability, and dizziness.\\r\\nDid get back on it when anxiety came back full blown. Slowly increased up to 75mg. \\r\\nHope it works for you!',\n",
       " 'After one of the worst years of my life I developed anxiety, was prescribed Endep 25mg, progressed to 50mg then 100mg. Side effects were full on and included but were not limited to dizziness, short term memory loss, black outs (momentary but scary), nightmares, indigestion, incredible tiredness (cloudy head, fuzziness), dry mouth and one of the deepest most horrible depressive states I have ever been in which included suicide thoughts , but hey, I didn&#039;t have anxiety! THIS IS A WARNING, if you develop suicidal thoughts while taking this drug see a doctor immediately!',\n",
       " 'I was prescribed Amitriptyline for insomnia after having a negative experience with taking Ambien. Ambien worked fine until its side effects kicked in then I stopped taking it because the side effects were unreasonable. \\r\\nAmitriptyline helped me sleep until one night I awoke to buzzing in my ears/head. \\r\\nFrom reasoning there might be lifelong buzzing in my head I discontinued the Amitriptyline. Shortly after discontinuing the buzzing went away and never returned. \\r\\nBottome line: there are much better oral&#039;s to take to assist in sleeping.\\r\\nI feel Amitriptyline did however correct a brain imbalance that was produced by the Ambien; and I found the culprit to my insomnia: I have an adrenaline allergy, from stress, anxiety and screen-time.',\n",
       " 'This medication has been very effective for my anxiety. I&#039;ve taken 75mg for the past 9yrs. No more heart palpitations or tightness in my chest. I have tried others prior to the Elavil, but found I woke up with a hangover and a out of body feeling. If Ii forget to order refill before I run out it takes a 3 days to feel the effects. ',\n",
       " 'it wasnt til last year my sophomore year i finally just couldnt take the headaches, they got soo bad i had to go to the doctor and they prescribed me amitriptyline. Let me say they started off as a miracle worker and definetely recommend it to prevent it. But it does has its side affects, i am suffering from depression , panic attacks , suicidal thoughts and makes me feel so tired and sleepy its not funny. Im a junior now in highschool , my hardest and most important year and i kinda hate that i took and am taking amitriptyline. I cant take this med anymore. My grades are so bad right now because i can never stay focus at school and feel so damm tired i dont want to do anything.cant concetrate, i act different now and i dont feel myelf.',\n",
       " 'Currently at 200mg to control insomnia and migraines. Only small side effect is occasional slight dizziness. Other than that, now that I am on correct dosage, minimal side effects and complete relief from issues.. as an aside, was unable to get refill for a week once and experienced extreme, worsening withdrawal symptoms: constant, mild headaches. Diarrhea. Vomiting. Debilitating nausea, dizziness and vertigo. Runny nose. Complete loss of appetite. Feeling dehydrated. Constant panic attacks: uncontrollable anxiety, racing heart, profuse sweating and feeling dehydrated and like I&#039;m gasping for air. I&#039;ve had remarkable success with the drug, but I caution anyone considering stopping to confer w their dr and wean off rather than cold turkey.',\n",
       " 'Caused blurred vision and left me feeling drowsy.',\n",
       " 'I was diagnosed with Interstitial Cystitis in March of this year. The first few weeks were some of the worst of my life. I changed my diet, was put on Elmiron, Zyrtec and Vesicare with zero relief in any symptoms. Was at the end of my rope when my PCP suggested Elavil.  In 3 days my symptoms were nearly gone. Pain was gone. Urgency/frequency cut in half.  But I immediately started gaining weight. A lot of weight, and fast.  And I am diabetic and any weight gain is very bad for me.  So I&#039;ve had to choose to not take it and live with the pain and constant peeing because I cannot afford to gain any weight due the diabetes.  I&#039;m basically distraught.  Diabetes will kill me, but the Interstitial Cystitis pain is causing major depression.  I am at a loss as nothing else has worked.',\n",
       " 'I started amitriptyline about 5 or 6 years ago. It was a miracle drug. But it has stopped working in the last 2 months. I&#039;ve been in the ER 5 times in 2 months. 2 episodes fell on a day I had wakes to go to, and missed them due to CVS. Has anyone had success with any other medications? I am desperate for a new med before I loose my job!!!!',\n",
       " 'I could barely function after 2pm until I went on this medicine.  I was diagnosed with Interstitial Cystitis in August-it was devastating.  My quality of life was horrible--pain through the roof and urgency.  I could barely get my kids to school every day.  After 1 day of 25 mg Amytriptiline at bedtime, my pain virtually disappeared.  It saved my life.',\n",
       " 'The first time I was aware of the existence of this drug, a gastroenterologist gave it to me for sharp stomach pain. The cause was idiopathic and/or overdetermined by a variety of problems, especially some damage to the hypothalamus. \\r\\r\\n\\r\\r\\nThat was in 2001, and worked IMMEDIATELY. Stomach pain? Gone. Only had about a 2-week supply and stopped with no ill effects. In fact, it perked up my mood! I always remembered that this was the drug that solved a serious pain problem. \\r\\r\\n\\r\\r\\nIn 2015, I had severe anxiety &amp; my appetite was completely gone. I knew what I needed. The psych. gave me Elavil, even though he was inclined toward Effexor. I ate! I felt good again. I am still on it. I am concerned re: withdrawal. Short-term use recommended if possible.',\n",
       " 'I was prescribed 50mg and the first time I took it this way WAY too high of a dosage. I felt drowsy for the entire day the next day like I was on drugs. I was prescribed this a few months go and I still have a many pills left because I only take it when I feel like I won&#039;t be able to sleep and I cut the pill in half so that it&#039;s only 25mg. I usually sleep like a baby but it is really hard to wake up. If I take it on the weekend I end up sleeping about 10 hours. I still feel pretty drowsy with 25mg but it wears off by the middle of the day.',\n",
       " 'I was very tired the first week, but after pushing through it I felt better.  Headaches took about 2-3 weeks to go away, but they were gone.  I had been having headaches almost daily and they were getting severe.  I felt pain free, HOWEVER, I felt like my IQ had dropped about 20 points.  I couldnt think of things quickly anymore and it was getting worse.  My typing was getting worse and I was forgetting everyday things like family members names.  I pulled backwards out of my driveway one day and with myself turned around looking out the rear window, I couldnt orient myself to figure out which side of the road to be on.  I was on Elavil for almost 2 months.  I took myself off 1 week ago.  Headaches are coming back, but my memory is returning',\n",
       " 'I hate this medicine I think I ruined me I lost a year of my life on this pill I didn&#039;t do anything for my migraines at all, I slept for up to 16 hours a day on it and it made me stupid. I became a d average student my jr year of high school if I accidentally missed a days dose I would have to skip school because I would be puking all day because of it. I absolutely hate the medicine if you can&#039;t tell.',\n",
       " 'I&#039;ve had Fibromyalgia for a long, very long time.  I was diagnosed in the year of 1995, I also found out that due to the fibromyalgia that I have weak bones, and taking medicines increased my already there asthma.  What worked for me was the amitriptyline 25mg 1 a day also a great medicine called Tolmetin Sodium 600mg, 3 x&#039;s a day.  I&#039;ve been taking these two medicines and have been able to work 40 hours a week with no side effects. I walk over 4 miles, hardly any pain and do strength training without having to take more medications.  If you are having lots of pain due to fibromyalgia you might want to talk to your doctor and find out if you can take these two medicines together. All in all I was hugged and it didn&#039;t hurt for the first time in eight years.',\n",
       " 'After vomiting for 3-4 days solid, every 4/5 weeks for 6/7 months (starting at age 45), went to see consultant Doctor.  Underwent brain scan etc. to rule out any other causes to the vomiting, diagnosed as cyclic vomiting syndrome and started 10mg amitriptyline a day.  Cured! No vomiting for 3 months now, brilliant!',\n",
       " 'I have been talking amitriptyaline for migraine prevention for the past year and it has completely improved the quality of my life! ',\n",
       " 'I was very recently prescribed amitriptyline at 10 mg for fibromyalgia.\\r\\r\\n, which was also just recently diagnosed after complaints since the age of at least 18 ( now 38). \\r\\r\\nIt doesn&#039;t help me sleep, even with my low dose of Xanax that was prescribed a year ago, for sleep. Combining the two has given me a more restless sleep, BUT......\\r\\r\\nIt has helped with my pain tremendously!!!\\r\\r\\nWithin days, I noticed I could work longer hours ( self employed, thank god), and when I do get sore, it&#039;s not as extreme as pre- amitriptyline. \\r\\r\\nI&#039;ve lost weight in these two weeks, as before I only ate once a day, and I think my body was holding on to any fat it could, now I graze throughout the day and think my metabolism has been kick started again.',\n",
       " 'You are extremely tired in the beginning but it goes away and you are back to your normal routine. I take 20mg at night and am and headache and migraine free. Its great.',\n",
       " 'I&#039;ve tried about every medication out there for my anxiety and depression; welbutrin Zoloft Paxil , Cymbalta, Emsam, Xanax , etc.. At 75mg Elavil helped me sleep, I had more energy, I didn&#039;t feel restless, and I rarely got upset. I thought I had found the perfect cure until I started to gain weight. I decreased my calorie intake increased my exercise  and the weight just kept coming. In 4 months I had gained 26 pounds. I also started to such severe dry mouth my throat was dry and my voice was hoarse, I also started to have blurred vision.  I really like this medicine but know if I can handle the side effects.',\n",
       " 'I have been on quite a few different sleep meds because of my head injury. I now have &quot;Alpha Wave Intrusion&quot;, so my brain won&#039;t shut down. Been this way for 16 years now. Elival is the only Med that is able to get me to sleep and let me fall me back to sleep if I wake up. I&#039;m on 200mg and right now it seems to be okak. In a few months I&#039;ll probably have to adjust, but that&#039;s okak, I can deal with that. This is definitely an excellent choice for me.',\n",
       " 'I suffer from post concussion headaches, no other medicine helped. Seemed to make everything worse, sensitive to light headaches, pain in eye and neck. One little pill and its gone slept like a baby ....highly recommend.',\n",
       " 'I just started this medication for my fibromyalgia about 3 days ago.  I&#039;m already sleeping better, getting relief from my chronic migraines AND it has helped my irritable bowel syndrome.  I know it&#039;s still too soon to tell but I really didn&#039;t expect results this soon.  Hopefully things stay on the up and up.  I have suffered from fibro for over 16 years now and have tried numerous meds.',\n",
       " 'I can&#039;t believe that after 3 years of severe widespread neuropathic pain of unknown origin, I am sleeping 8-10 hours and have had total pain reduction from about a 8 at worst to now a 1.5\\r\\r\\nI&#039;ve only been on 10 mg at night for 3 days. I hope it&#039;s not coincidence or placebo affect. \\r\\r\\nA bit drowsy and a dizzy spell today. But completely worth it. \\r\\r\\nI&#039;m falling asleep faster now. My mood seems to be more calm as well. I hope to get off of oxycodone now.',\n",
       " 'After 20 years of migraine suffering I went private and was prescribed Amitriptyline 10mg.  I took these for 5 months and barely had a headache never mind migraine.  I got dry mouth and my sleeping improved also.  However after 5 months the migraines have started to come back so I increased the dosage to 20-25mg, again the first few weeks I noticed the dry mouth and disturbed sleeping but this has not settled down again and migraine free.  It&#039;s the best medicine I&#039;ve ever had and had also helped with my neck and arm pain.  I couldn&#039;t recommend it enough, a lifesaver.',\n",
       " 'Not only did it not help with migraines, it made me gain 40 pounds.',\n",
       " 'Only lasts for a month, no matter what I couldn&#039;t concentration.',\n",
       " 'I have been on Amitriptyline for 2 months and I have only one side effect - dry cough occasionally. I suffered from migraines from childhood and first my doctor tried a blood pressure medicine that also treats migraines. While somewhat effective, I still had headaches and migraines after 1-2 months, up to 3-5 per week. Once he put me on Amitriptyline, all headaches are gone and I have had no recurrences of either regular headache or migraine. I no longer need pain medication and I feel like I have my life back. This medicine has been wonderful!',\n",
       " 'Today I am on 100mg of Elavil and it is working quite well.  Best of all, Elavil has the added bonus of curbing my neuropathy which had forced me to be on fentanyl for over 4 years.  Been about eight years now and it is still doing a great job.  I have been on just about every drug they have for panic and other than Prozac this is one of the only drugs that has worked or worked without nasty side effects.  paxil worked but TOTALLY wiped out my sex drive and ability to perform.  Zoloft did nothing at all good or bad.  Alcohol was good at knocking down the panic attacks but the bad there was the attacks became more frequent.  Imipramine only masked the symptoms causing some nasty muscle tension that lead to migraines.',\n",
       " 'At first it helped a little. Didn&#039;t help me fall to sleep but I woke up less. The effects were short lived 9 months later and I am up to 300 MG experiencing 2-6 hours of broken sleep per night.',\n",
       " 'I&#039;m a 16 year old girl. I have been on tons of medicines for migrane pevention and nothing seemed to help. One day ended up in the E.R. and missed much school. When I started on Elavil 10mg seemed to do not do much but when my dose was increased to 30 mg I tend to have less frequent (2-3) migranes a week. My migraines are less intense and I&#039;m able to do my studies. The dry mouth is much less when I chew gum but I tend to be tired all the time. This medication has worked the best for me, although not perfect.',\n",
       " 'I have been taking amitriptyline for the last 4 months, Have suffered daily migraines since being a young teen. I was started on one tablet 10mg at night for a month which gave little change to my migraines, then upped to 20mg before bed a month later to 30mg at night which delayed them starting until about midday each day. My doctor has now started me on 10mg 3 times daily and has so far been life changing I have only had one migraine attack out of each week. Hoping this keeps up.',\n",
       " 'Started taking 10mg then up to 25 for severe long term migraines/ headaches. Meds work well, am considering lowering dosages and getting off medicines all together to start family now though.',\n",
       " 'I was on Acutane for acne. However, it caused my IBS. I was in severe pain. I tried diet changes and that seemed to help. My doctor gave me this wonderful pill! If i take it every night, I have almost no pain. I would recommend this to anyone! The only side effect that I have is a dry mouth, but I can handle that any day!',\n",
       " 'Unable to urinate.',\n",
       " 'I am 15 and I have had migranes ever since I can remember, but when I was around 13 it got to the point where I couldn&#039;t do anything in any of my classes because I got around 15 a day. So I stated taking amitriplynine and now I only get around 1 or 2 a week, it is a process on what the right dosage is, but it has helped me so much.',\n",
       " 'I told my doctor about my symptoms and he told me that my symptoms did not appear in his medical handbook so he disregarded my symptoms completely. He said it was mandatory for him to report any symptom not listed in his book to the proper health authorities to update the handbook. However, he didn&#039;t report the side effects that I told him about because it was &quot;too much paperwork.&quot; Instead, he tried to convince me that it had nothing to do with Elavil and in a threatening demeanour tried to change my mind about my symptoms so that he would not be forced to do any paperwork. After reading this site on Elavil, I see the symptoms that I told my doctor about. I find that my doctor acted in an unsafe, unprofessional, and negligent manner.',\n",
       " 'Have had migraine since 15. Tried everything including this medication over the past 18 years and nothing ever helped. This is just one of the meds that made my migraines worse which sometimes I thought was impossible. Started Botox for chronic migraine in March and it&#039;s amazing!',\n",
       " 'I have just started to use Elavil - this is my third day of taking this medication and I already feel a little better.',\n",
       " 'I started with a low dose (10mg) for two weeks then started 25 mg for the last couple of weeks. So far so good. I used to have a bout with diarrhea at least 4-5 times a week before taking this medicine, but now have not had any.',\n",
       " 'Awesome pain inhibitor for this condition but I had too many side effects like heart palpitations and hair loss.',\n",
       " 'After trying many other medications &amp; various limits on certain types of food, my Dr. ordered 10 mg at bedtime. Within 2 days, my Irritable Bowel was controllable. I still have to watch what I eat, but at least I can leave the house and have a normal life.',\n",
       " 'I have been on Endep for 35 years. I have fibromyalgia, chronic fatigue syndrome and plenty more. In the last six months I have been getting very odd  symptoms such as the ones provided within this article!( sudden weight gain, inability to eat properly, tiredness, rounded face,weakness, sore mouth and tongue, to slight more depression, At the moment I am on a doctor treadmill ...everyone from my endocrinologist to a neurologist, GP and many more have put their hands up saying I don&#039;t know!! The medicines work really well for fibromyalgia but after some time they can work against you! Please look at the list of side effects. I have a lot of them. \\r\\nGood luck!',\n",
       " 'I have been taking this medication for my migraines for about a year and a half. I take it at night and within 30 minutes I am asleep. This combined with verapamil 120mg ER has decreased my migraines from weekly to about one every 8 weeks or so. I have noticed I am calmer and more focused the next day. I have gained a little weight but I&#039;m not sure if that&#039;s age or the medicine. I&#039;m 46.',\n",
       " 'This really does help with my IBS-d .When I don&#039;t take it I suffer really bad as my IBS flares up',\n",
       " 'I have only taken this drug for 2 nights at a dosage of 10 MG.  It has not improved my sleep as of yet. I have just experienced some restless leg syndrome.',\n",
       " 'I had been tested for everything to try and find the cause of constant bladder infections, or so I thought. It wasn&#039;t till I saw a urologist that I found the answer to my problem. I never had Bladder infections, but chronic cystitis, found after some very intrusive camera shots of my bladder. She first tried stretching my bladder to see if this helped. It didn&#039;t. She then suggested Endep, not for depression but it had been used for cystitis and burning mouth, which I also suffer from. It has helped my burning bladder problem 100% as long as I don&#039;t forget to take my tablets. If I forget just one, I have the pain back for about two weeks before I get back on track.\\r\\nMy burning mouth is also about 60% better but not gone. &quot;Side effects weight gain&quot;.',\n",
       " 'Makes me sleep all night and all the next day, even if I don&#039;t take a whole pill.  I tossed it in the trash.  I hate it.',\n",
       " 'My problem was waking very early (eg 3.30) and slight depression and anxiety. This drug has been very effective with no side effects. I only need 10mg and only take it occasionally if I have recurrence of symptoms - it is still effective.',\n",
       " 'I was in a car accident and have chronic pain. Amitriptyline takes the edge off. The side effects are dry mouth, confusion, dizziness, nausea and chronic lethargy to name a few. The one that put me off completely is risk of LIVER DAMAGE. My feet have been swelling for 3 weeks. For the last week my calves have been swelling as well. \\r\\n\\r\\n',\n",
       " 'Three years ago I developed bad pain, numbess and tingling in my right arm, I was referred for physio and was\\r\\n told I had a trapped nerve in my neck. The pain hung around for a couple of months but then I was prescribed amitriptyline. Within two weeks the pain had stopped. Not sure if this was down to the medicine or was just a coincidence but the pain has now come back so I will be trying it again.',\n",
       " 'Works alright but loses effectiveness over time, so i only take every now and then.',\n",
       " 'I have taken amitriptyline for 3 months for IBS. I take 20mg at night and 10mg in morning. I cannot believe how well I feel. I put a little weight on but can now make arrangements to go out and not have to cancel due to the IBS.',\n",
       " 'I have been on 100mg for 1 year now. Works great for sleep and pain. Downfall, I have gained 50lbs.',\n",
       " 'Took it for depression, anxiety and insomnia. It has taken just under 2 months at 75mg daily to kick in properly, but when it did, I found it to be a God send! I&#039;ve been taking it for 4 months now, and cannot remember last time I felt anxious, and my sleep is best its ever been.\\r\\n\\r\\nSide effects are dissapearing slowly, and I feel very happy, and look forward to the future again. Highly recommend.',\n",
       " 'absolutely horrendous - I don&#039;t understand how anybody can take these drugs. All it did was put me in a fog and laid awake for hours on end. My doctor wanted me to try something besides Ambien, because it causes dependency - big deal - at least I can get some sleep. The only plus would be the cost - 13 cents for 30 pills. Not worth it though.',\n",
       " 'Try one of the newer meds out there first. GP prescribed me this for anxiety and I blindly took it thinking doc knows best, went to a Pdoc a few months later and she was mortified that I was prescribed this. I have been weaning off since and finally at 0mgs for past few days, but all the weaning side effects have been terrible. I feel nauseous all day and cannot sleep at all, and have chest pains,with constantly feeling in a fog. Do yourself a favor and trust how far medicine has come since they made this drug and try one from this era first',\n",
       " 'I was recently in a bad car accident, and I haven&#039;t slept in 2 days. I feel like this pill keeps me awake. Does not work for me. I hate it',\n",
       " 'I started at 10 mg on this, but quickly went to 25 mg, as the pain was too much. Now I&acute;ve levelled it to 20 mg per day, in the evening, and it has been wonderful, This, along with a careful diet, have helped and almost put in remission my IC symptoms. Side effects for me include grogginess, but that&acute;s wearing away the more I take it and, for sure, a huge spike in my apetite, which I&acute;ve had to be careful about as I don&acute;t want to gain weight on it. It&acute;s not a miracle drug, but it worked for me, and I think anyone suffering from this condition should give it a try.',\n",
       " 'I have been taking 20mg at night for a couple of years and can&#039;t praise it highly enough. I had terrible muscle cramps and twitching and constant burning pain in my arms and legs, within a few days of starting the drug, my symptoms began to ease. The twitching is now only very mild, the pain is  2 out of 10 and the spasms non existent! Magic.',\n",
       " 'It does work for me, but have to take it twice daily - 25mg morning and 25mg at night, rather than 50 mg at night. Only negative side effect - dry mouth all day, have to drink a lot of water',\n",
       " 'Hi, I am sharing my opinion with maximum respect to all readers and based only on my own experience. \\r\\nI&#039;ve had migraine almost all my life. I am 44. My migraine was 50% pain and 50% mood change (which was terrible or even worse than the pain). This has been deeply affecting my quality of life, my relations (mood changes) and also at work.  The last neurologist I visited put me on Amitriptyline 25mg. The medicine helped a bit reducing the frequency of the migraines. However migraines came back and the last attack lasted for 3 weeks. \\r\\nHe changed the dose to 50 mg. I am now 71 days without migraine and still counting. I am a new person and I wish my comment may help others.',\n",
       " 'After trying many different anti-depressants and sleep aids with little to no results, my doctor put me on 75mg of Amitriptyline for severe postpartum depression and anxiety with insomnia.  This was the miracle I needed. I sleep really well now am back to my happy,healthy self.  \\r\\r\\nI have dry mouth as a side effect, but I have learned to chew gum and use biotene at bed time. This regimen has made that one side effect tolerable and I don&#039;t mind it, considering what this medicine has done for me. I workout regularly and watch what I eat so I have not experienced any weight gain.',\n",
       " 'I have a depressive disorder called disthymia, post traumatic stress disorder and have been struggling with sleep/insomnia for a while.\\r\\nI was on zopiclone and tamazepam often put could only take them 3 days at a time with a break as to not become addicted to them etc.\\r\\n\\r\\nAfter a few months of this my doctor gave me Amitriptyline and it also boosts my anti depressant. I have a couple of pills at about 8 or so and its been great.\\r\\nI fall asleep at the right times - start yawning around 11pm, jump into bed and get to sleep. I wake up about 7 or 8 and im able to get up.\\r\\n\\r\\nIt has also been great for my moods. I love it',\n",
       " 'I take 25mg at bedtime for interstitial cystitis and it works great for me. It does take some time to get used to  and it makes you tired but after a month or so I had no complaints.',\n",
       " 'Amazing medicine. I had migraines for 20 years and they had worsened to twice a week with no relief from Axert, which had worked relatively well in the past.  I tried Topamax and experienced horrible mood swings, anger and hyperactivity.  Went on Amitriptyline and gradually moved up to 50mg as it wasn&#039;t fully effective at lower doses.  Once I reached 50mg my migraines went down to twice a month.  Even better, the Axert works much more effectively when I do have a migraine.  I had dry mouth early on but this went away.  The only other side effect is occasional dizziness when I stand up (but this only happens about once a week and clears after a few seconds), which is common on this medicine.  It has totally changed my life.',\n",
       " 'I was having an anxiety disorder (shaking hands, blushing, obsessions) I was put on sertraline but had a terrible side effect to this and was put on 20mg amitriptyline to counteract this. From moment I took it my hands stopped shaking and intrusive thoughts reduced. I was upped to 50mg and I am back to my old self. Hardly any worries at all, no shaking, feel happy. No dry mouth but I have put probably a stone of weight on and gone up 1-2 dress sizes. This side effect is worth it for the benefits it has given me.',\n",
       " 'I am on 50 mg at night for pain and sleep. I sleep so well that I am sleeping 16-18 hours. I sleep all night then pretty much all the next day. I can&#039;t seem to stay awake!!!',\n",
       " 'Drug worked like a miracle on anxiety and depression - BUT, it made my ears ring and caused hearing loss. NOW more depressed than ever. 75 mg for 6 days and ear went numb. Nightmare scenario and I&#039;m living it.',\n",
       " 'Sleepy like a baby! Two days into taking it for my endometrosis pain. Doc said to start with 10mgs at first which does seem to knock me out.\\r\\n\\r\\nI take Citalapram too, but this is for that midnight pain and excruciating pain in the early hours.\\r\\n\\r\\nIt&#039;s swings and roundabouts as each person reacts so differently to drugs. This for me is a 10 out of 10.',\n",
       " 'I have stress for 5 years since I had car accident. Every day I feel very uncomfortable and wish I could have a normal life. I went to this page and decided to take this drug. I got my life back.',\n",
       " 'As far as helping me with my migraines it helped out a lot. I had absolutely none after 3 weeks of taking the medication, however it made me feel like a zombie throughout the day and for some reason when I didn&#039;t take it exactly on time I wouldn&#039;t be unable to fall asleep at night. I also gained a great amount of weight. ',\n",
       " 'I use this medicine as an antidepressant and for my Irritable Bowel Syndrome. It works miracles. I am sleepy a lot because of it and at first I had dry mouth, but compared to the cramps and upset stomach pains I was used to before this medicine, I could deal with the sleepiness and dry mouth!',\n",
       " 'Chronic back pain for two years. I have a herniated disc touching a nerve and a ripped disc. Though my pain isn&#039;t severe over time it builds up to what feels like an endless spiral of pain. A few of these later and the pain goes and I feel like a normal human being again. I take for a few months and then I&#039;m okay until I find that next uncomfortable twist. Then back on them for a short while. They have given me my life back.',\n",
       " 'I was diagnosed with Interstitial Cystitis about 10 years ago. At that time I was prescribed this at 25mg a day. I was going to the potty about 20 times a night.  I took the meds for about 2 weeks but could not handle the side effects of confusion and listlessness. I quit taking it for a long time and suffered with the frequent urination. I was at my wits end (no sleep!) and found the old pill bottle of amitriptyline in my drawer.  I am no longer working so I decided that I would give it another try since I didn&#039;t have a schedule to keep. Even though I&#039;m a little groggy in the mornings I am sleeping at least 6 hours straight without having to go to the bathroom.  I have gone from waking up approx. 20 times a night down to 2 times. It is a miracle.',\n",
       " 'Amitriptyline is nothing short of a miracle for me.  I used to be plagued by terrible migraines.  I&#039;ve been taking amitriptyline for about 25 years, and I have not had a single migraine in all that time.',\n",
       " 'Diagnosed with atypical facial pain this was the only medication to help. Been on it 3 years 25mg every night , weight gain a side effect. ',\n",
       " 'Started on 10mg of amitriptyline for my Interstitial Cystitis related nerve pain.  Went up to 20mg after a month and it has been a miracle at reducing my pain for the last six months that I have been on it.  I haven&#039;t experienced any weight gain while on it.  I felt groggy at first but that went away after a few weeks.',\n",
       " 'I have had severe pain in my stomach for the last 5-6 years. Sometimes the pain was so bad I could not even move in my own bed. I started this medication after I was told that I have a nerve disorder. I am so pleased to say I have not felt any pain in over 7 days! Not only am I not in pain but I am sleeping so much better! I can also wake up easier and I feel less stressed. This medicine is amazing and it has saved me from more years of pain!',\n",
       " 'Absolutely the worst medicine I have ever been on. I&#039;ve been on antidepressants for years and they all suppressed my emotions. I was on trazodone for depression/chronic insomnia but unfortunately the medicine quit working for me so my doctor prescribed me amitriptyline 25mg and when I tell you every single horrible emotion was brought forward, I&#039;m not even lying. Everyone around me noticed a difference and I felt trapped but was expressing externally. I had a psychotic break on this medication however I was not suocidal. If I had the power to take this medicine off the market, I&#039;m sorry I would. The range of emotions I had was sadness to anger to agitation and it was on a repeat cycle and I couldn&#039;t control it no matter how much I wanted to',\n",
       " 'Was prescribed 25mg for post traumatic stress from a motorcycle vs. Drunk driver wreck I survived.  I also have insomnia and panic/anxiety attacks as a result.  I had negative experiences with Xanax. So started amitript 25mg did nothing for me, kept me awake, even.  50mg helped a little (5-6 hours of sleep).  I went back to the doc and he said &#039;a guy your size, try taking 2 50mg before bed&#039; (I weight 215).  I took 2 while making dinner and could barely keep my head up while eating.   I slept 10 hours straight!  This is fantastic as I have &#039;interrupted sleep cycles&#039; where my body comes out of REM sleep from the PTSD.  Doc says I need 10-12 hours of sleep on a good night.  I like that it&#039;s not addictive as well.',\n",
       " 'I&#039;ve had amitriptyline prescribed for insomnia, non restorative sleep and fatigue. Started at 10mg and now at 50mg. It does nothing at all for me so far.',\n",
       " 'I have had migraines going on 20 yrs now.  I&#039;ve been on a beta blocker blood pressure medicine and Topamax.    Topamax decreased the headaches somewhat, but at the cost of very debilitating side effects of fatigue and depression and rapid weight loss that never stopped, therefore my Dr. stopped it. I recently changed drs and for the 1st time in twenty years someone decided to try something new, amitriptyline. I&#039;ve also suffered insomnia.  My doctor suggested preventing migraines and treating insomnia with amitriptyline.  I&#039;ve had one flare up in the past 3 months and sleep soundly through the night!  Amitripyline has caused weight gain but I am still healthy.  I&#039;ll take the weight gain over the migraines any day!',\n",
       " 'I am 16 years old and have had migraines off and on since I can remember. They get to the point where I can&#039;t function, can&#039;t eat, sleep, think of anything and they last for days some times even weeks. I have been on amitriptyline for just over a month and it has helped so much! I can already notice that I&#039;m in much less pain, and not getting migraine&#039;s half as much. This is an amazing thing and is very very helpful.',\n",
       " 'Elavil works in my case as a pain killer/anti depressant. I does have some cons that I was not warned about. I was told by my doctor to take 150mg before bed so I did as told and woke up only when my wife shook me for a second I would eat and go right back to sleep this happened for the first 24 hours the next I had no choice but to stay awake. being awake I had problems with balance and depth perception. my mind was racing with what felt like hundreds of thoughts. my ability to speak was reduced to short sentences. it felt like my jaw was not moving fast enough to make more than a few sentences. after taking that dosage down from 150mg to 37.5mg I am able to speak clearly but my mind is still a little foggy. and the back pain is not as bad',\n",
       " 'I was diagnosed 14 yrs ago with Fibromyalgia. My doctor prescribed Elavil.10 mg. per day. It helped me sleep better but heart began beating to fast and was discontinued. Helped a little with pain.',\n",
       " 'Been on endep 10mg for 4 weeks .for insomnia. Although it helps me sleep the longer I take it the dopier I get during day. Feel like I am permanently  sedated. Like my brain is shrinking and my head is full of cotton wool all day. No motivation to do anything..',\n",
       " 'I  just started this med for insomnia and anxiety.  The dr told me to take 75mg.  I got super dizzy, and had to have my husband help me to bed. \\r\\n After reading other comments, I just think I took too much to start with. \\r\\n Maybe I will cut a pill in half and try that.  I need something, that&#039;s for sure..',\n",
       " 'I have found this medication very good for my stress levels and makes me very relaxed. I do seem to sweat alot and my mouth becomes dry and sometimes I have vivid dreams. I take 40mg a night.',\n",
       " 'I have had at least 18 migraines a month for sometime and have been on every medicine but did not work until now. I started taking Elavil 25mg a little over a month ago and I had two migraines the first week for which I used Fioricet because it really works. But after that so far I have not had any migraines. It&#039;s been awesome and my family love it because I am not constantly asking for everyone to be quite and run to a dark room. I use it a night because it does help me sleep, but has been a wonder drug for me so far.',\n",
       " 'I&#039;m on 100mg a day for depression. I was on 75mg which was then upped to 100mg. It helps me feel relaxed and also helps me sleep.',\n",
       " 'I&#039;ve been taking 25mg amitriptyline for a little over a year. For migraines it works fantastic but I think I might need to start a higher dose due to a slowly decreasing effectiveness. Still working great though.',\n",
       " 'My husband has bi-polar disorder and suffers from chronic back / sciatic work-related pain. He&#039;d only been (restlessly) sleeping 2-3 hours a night for past 10 years. This had increased his mood swings and cyclothymia to unmanageable proportions!!\\r\\nUK doctor prescribed 10mg amitriptyline, to be taken at night 2 hours before bed. After two weeks this was increased to 20mg per night.\\r\\nThe effect has been nothing short of miraculous.\\r\\nHe sleeps really well for 7-8 hours a night, wakes refreshed &amp; cheerful.\\r\\nIt&#039;s helped him cope differently with depression - staying calm &amp; getting CBT therapy. (Something he&#039;d never have volunteered for in his &#039;normal&#039; bi-polar anger / depression cycling).\\r\\nHas also noticed lessening of pain. \\r\\nIt&#039;s saved our marriage.',\n",
       " 'I have only been on amitriptyline for about 6 weeks for chronic pain in arms and hands due to nerve damage. So far so good. I am able to sleep at night and am pain free during the day. I take 50mg before bed and 25mg twice a day. For the first time in five years I actually sleep at night!',\n",
       " 'My migraines went from several a week to once a month. It is sedating and it also serves as a mild sleep aid.',\n",
       " 'For years I couldn&#039;t sleep properly, i could get to sleep most nights but woke every 2-3hours or to any slight noise. \\r\\r\\nIt all caught up with me &amp; I was an anxious sleep deprived freak who was on prozac.\\r\\r\\nI went to a new Dr about constant migraines &amp; he started me on amitriptyline 75mg, the first few days I felt so weird but after a week or so it kicked in. My migraines stopped, my anxiety was so much better &amp; a strange side effect was that I could finally sleep through a whole night!\\r\\r\\nI am so grateful this drug is around, I am no longer a sleep deprived freak :D  good for my depression too mixed with 40mg prozac. YaY Endep',\n",
       " 'I have had cyclic vomiting syndrome (CVS) for 15 years or so. CVS started when I was about 18-19 years old. \\r\\nI have been &quot;sick&quot; at least 2 days per week, this whole time, sometimes 7 days per week I&#039;m sick, but never just 1 day. ER visits, IV meds, week long hospital stays, and doctors literally worldwide scratching there heads trying to figure out what was wrong with me. I settled into the fact that I was destined to be sick and that it was going to kill me. \\r\\nAt 33, I FINALLY got the diagnosis of CVS and have been prescribed 50mg amitriptyline, and I have slowly been improving. I have gained weight, and sleep 10hrs nightly, only side effects so far, so I&#039;ll take it! Been 6 months,I&#039;m down to 4-6 sick days per month, so it&#039;s working!',\n",
       " 'Been on Elavil 20 mg for 6 months for migraine prevention, at first felt really loopy and actually stopped taking them after first dose, did not like feeling like that. But my doc urged me to try them and my migraines are down from 6-8 a month to 1-2 a month, so far so good.',\n",
       " 'I was prescribed Amitriptyline for Odie Sphincter dysfunction, which is a spasm in the Gallbladder sphincter.  The wonderful side affect is my migraines were cured by this as well.\\r\\nNOTE: The smallest dosage of generic amitriptyline is 10 mg.  I have gotten the dose down to about 1.5 mg by breaking each 10 mg into 8ths.  This has eliminated the constipation I was experiencing at the higher dose, and costs me about $10/year for prescription.',\n",
       " 'I suffered with anxiety for years and have tried many many SSRIs as well as benzos. Nothing really helped. I was put on this med for migraines and within a couple of weeks my anxiety began to melt away. My friends and family noticed a huge difference. I feel like a different person. Like I am living the life I always wanted to live, I was just always too afraid and anxious to before.',\n",
       " 'Took it for burning nerve pain - reached 50 mg (after 5 weeks). Did absolutely nothing - at the end even did not help with sleep.',\n",
       " 'Been on amitriptyline for 2 weeks for nerve pain after shingles. It has reduced discomfort from an 8 to a 3 most days. I take 10 mg at night and other than some grogginess the first 3-4 days, no side effects. I sleep well on it too.',\n",
       " 'I was diagnosed with Interstitial Cystitis, had severe baldder pain and pressure for a couple of months. I used OTC meds and even low dose hydromorphone, but it did not help. My doctor prescribed amitriptyline 25mg, however told me to cut it in half and initially use 12.5mg to see if it helps, if not, increase to 25. \\r\\r\\nI took the half pill in the evening, and in the morning I woke up with no bladder pain, first time in months. During the day I still had some bladder pressure, but no pain. After 2 weeks on the amitriptyline my pain and pressure are all gone. Have not noticed any side effects, perhaps An occasional constipation, so I started taking fiber.',\n",
       " 'I have really, really bad insomnia. I&#039;m up for 3 -4 days straight and after my doctor prescribed me a combination of zopiclone and amitriptyline I&#039;m able to sleep 4-5 hours but your body can become tolerant after a while meaning you may have to increase your dosage. I&#039;ve had to do this but what I&#039;ve started to do is try to keep really busy throughout the day and IF needed at night I&#039;ll take a smaller dose than prescribed to me or try to go a few days without it then take my regular dose.  ',\n",
       " 'Since being on amitriptyline my IBS symptoms are pretty much not there. I used to be in horrific pain all day everyday and would even feel hot, dizzy and in so much pain that I would actually faint off the toilet. I didn&#039;t want to leave the house and IBS literally took over my life. I never write any reviews like this but if I can help even just one IBS sufferer then it&#039;s worth it. I gradually increased my dose to 50mg per night. Seems like a lot but it&#039;s worth it in order to live a normal 21 year old girls life. For the first week I did get the side effects (tired, dry mouth, a bit faint) but after that I felt absolutely fine again. Please try this drug, I didn&#039;t think it would work but it did and I have honestly never been happier!',\n",
       " 'I&#039;m bipolar. I&#039;ve been on various medicines for almost 10 years. Well, my Dad died a few months ago. The depression and anxiety was so bad I could not function. My Doctor prescribed this along with my 40mg of Celexa. It took about a month -6 weeks before I felt any better. But I also have chronic pain from spinal arthritis. This medication has helped me get my life back! But in the process, I&#039;ve gained 20lbs in 8 weeks and I was already overweight. Its helped with my chronic pain and with the depression. I love how I feel on this but not the weight gain. ',\n",
       " 'I have suffered from migraines most of my life and tried many preventive meds that did not work.I had to get a new doctor and he started me on Elavil 50 mg at bedtime.Not only did it cut down on the frequency and severity of the headaches now I sleep like a baby and that has cut now 100% on morning migraines.It is a God send.',\n",
       " 'After one year of MRI, CT scan, ultrasound exams for unexplained sharp chest pain (neuropathic, possible neuroma) I was prescribed 10 mg amytriptiline to be taken at night. After 2 months this has brought me back to normal having failed wth all other medications including tramadol. No symptoms at all now though it was necessary to persevere as it took about a month to kick in. Worth trying if you have drawn a blank with everything else...',\n",
       " 'Last night was my first dose.  Half of a amitriptyline 25mg tablet.  I took it at quarter to midnight, but did not finally fall asleep until around 5AM.  I slept for almost twelve hours.  I guess I need to take it earlier if it doesn&#039;t knock me out like I expected.  The light hurts my eyes today.  I can&#039;t look out my window.  Artificial light isn&#039;t as bad, but still hurts.  Despite these problems, I feel more clear than I have in months. Maybe even years.  Any pain that I have is very slight, so I&#039;m thinking that&#039;s why my doctor wanted me to take ibuprofen with this - because it will actually be able to help with my pain now.  This is only after my first dose, but I am pretty excited.  I can move around the house again like a normal person!',\n",
       " 'Have been taking 10mg for 4 &amp; half weeks. Third week in felt fine with less pain. Now severe  stomach cramps &amp; back pain has returned. Unsure if I should continue with them.',\n",
       " 'Since my diagnosis of acute bipolar disorder I&#039;ve been getting severe migraines almost constantly, or if there was a short respite, it lasted only hours. I was put on a self-titrating dose of amitripyline by my GP and at around 50-60mg daily I was getting no migraines. However, I found that several weeks after finding my &#039;correct&#039; dose, I was finding myself in constant anhedonia and ennui. I&#039;m now off the amitriptyline, and my migraines have returned, but my mood is back to normal.',\n",
       " 'Took 10 mg for the first time last night for insomnia. To my great surprise, today it seemed to help with both muscle achyness &amp; with anxiety. I slept all day (&amp; needed it), but I suspect that won&#039;t be a big issue once I take this med more regularly (which was the case when I was on mirtazapine/Remeron).',\n",
       " 'I was prescribed this at a low dose for various sleep problems associated with CFS/ME. Helps tremendously with remaining asleep (used to wake up 4-8 times a night) but basically completely useless aiding someone who has trouble getting to sleep - one of my main problems. Horrific and vivid nightmares frequently occurring since I&#039;ve been taking it &amp; v. dry mouth. Staying on it as GP very reluctant to give me anything stronger for my sleep unfortunately',\n",
       " 'I have tried Cymbalta, tramadol, gabapentin, Lyrica, and other but this medicine took all my pain away. This pill only took my pain away for 8 months then it wasn&#039;t as effective. Also made me gain a lot of weight. I still take it because it removes my pain after taking it last a few hours. Also the medication helps me sleep. It will knock you out.',\n",
       " 'This really has changed my life! I suffered a whole year thinking my urethral stricture was the cause, after that was sorted I still carried on with what felt like constant cystitis. My urologist finally diagnosed Interstitial Cystitis and started me on 20mg of amitriptyline. After 10-14days it worked! Have the very odd day of mild discomfort but it&#039;s changed my life. I haven&#039;t noticed side effects as yet, on my 9th week on them.',\n",
       " 'I started this medication a few weeks ago and it&#039;s already working.  I don&#039;t wake up as much in the middle of the night to go to the bathroom and I sleep a lot better.  I haven&#039;t felt this good in awhile.  I can even eat/drink things I normally wouldn&#039;t be able to (in moderation of course).',\n",
       " 'I have been very against any kind of mental health medication, and was very reluctant to try amitryptaline, but my anxiety and insomnia were eroding my quality of life. This has literally been a wonder drug for me, and on such a low dosage. 20mg at night and 10mg each morning. My anxiety is greatly reduced, and intrusive nagging thoughts have vanished. I don&#039;t know if this is because I am now sleeping well for the first time ever, or because of the mild sedating effects. But whatever, it certainly works, and I was so sure it wouldn&#039;t. Only side effect is a dry mouth, but that&#039;s easily remedied with a sip of water.\\r\\r\\nA very positive experience. It really has changed my life for the better.',\n",
       " 'I&#039;ve suffered from cluster tension headaches and migraines for years. My doctor prescribed me different kinds of things to deal with the pain, tramadol, codeine, diazepam and shots of voltaren, diclofenac and various other muscle relaxants.He then referred me to a psychiatrist to see if there was another cause for my headaches, as I suffer from serious anxiety problems.  The psych. thought it would be a good idea to run me through a gauntlet of antidepressants (sertraline, and venlafaxine to name a couple) none of which helped.  He then tried me on Amitriptyline, which didn&#039;t really help me, but did make me gain weight, and feel extremely nauseous. Mirtazipine has helped me a lot better used with Temazepam at night and Clonazepam in the day',\n",
       " 'Been taking it for 6 years initially for depression then anxiety and stress and it&#039;s one of the worst things to happen to me. Constant eczema where my skins gets very itchy and sore that I have scars all over, constipation is probably the worst as I&#039;ve had periods of vomiting to stomach being sore and bloated, blurred vision, it&#039;s addictive contrary to what doctors say as I have been trying to get off it for 2 years slowly and been admitted to hospital twice in that time for substance abuse relating to endep. Doctors can&#039;t understand why I have been on it for so long. Take mine at night as you get drowsy of a day on higher than 50mg (most I taken was 75mg) now on 10mg and still get constipation.',\n",
       " 'My brother (22) and I (25) both take this for migraines or as my doctor calls ours, tension headaches. It is the greatest medication ever. I was suffering through headaches on a daily basis, and this has put a complete stop to them. It also helps me fall asleep quickly at night and wake rested. LOVE it!',\n",
       " 'I have had migraines everyday for the past 4 years and I&#039;ve tried Elavil and it didn&#039;t do a thing!  But I didn&#039;t have any negative side-effects.',\n",
       " 'I had been on this medication in the past and discontinued usage after I got pregnant. I  started back a few months ago, not realizing what the side effects were. I started gaining weight incredibly fast with no change to my diet and exercise and wasn&#039;t going to the bathroom unless I used a laxative. I was stumped and depressed about it up until yesterday when I spoke with a GI doctor. FINALLY I had an answer only after many visits to my family doctor and many co-payments which added up quickly (with no solution). Needless to say, I am so relieved to finally know what is going on with me... 20 lbs later but I see the light at the end of tunnel. Hope this helps.',\n",
       " 'Only been on it a week, but a miracle so far!\\r\\r\\nI&#039;ve suffered from IC for years had all the tests etc, a urologist recommended this to me 5 yrs. ago... I refused on the basis that it was an anti depressant, modified my diet  and went into remission with only the odd flare.\\r\\r\\n6 months ago, I had another baby and a second C Section, this resulted in a 5 month long &#039;twinge period&#039; with 4 excruciating flare ups. I was in the midst of a agonising flare up when I gave in and took 10mg of Amitriptyline! Next day still had twinges but no pain. The 2nd no twinges, no pain, just some urgency. 3rd feeling totally normal!! It&#039;s brilliant!! Still feeling normal after a whole week!! \\r\\r\\nNo side effects as yet, but not helping me sleep like I thought it would!',\n",
       " 'I have been diagnosed with migraines since I was 9. I am 33 today. My migraines are acute and chronic. As I got older, they increased in frequency and severity. At a certaine point I was hospitalized weekly. I could no longer function as a normal person. School, excerise, relationships, friendships were impossible. It made me even more depressed that noone understood my pain and some thought I was faking it. I was finally pronounced &quot;disabled&quot; afew years ago which made getting a job nearly impossible. I wanted to end my life because of this many times. The 6 months ago, an ER doctor suggested Tryptizol. To me, it is a miracle drug. I only have migraines once a month with my period. I am proof that hope exists. I wish I used it sooner.',\n",
       " 'I used this medication in &#039;94/&#039;95 and in &#039;97/&#039;98 to treat major depressive episodes. It was the first antidepressant I ever tried, and it worked wonders the first time I used it. I could sleep and eat again, depression was gone within 2-3 weeks, no side effects. I was given amitriptyline again in &#039;97/&#039;98 after months of trying several newer anti-depressants which doctors were convinced would be better, even though I told them amitriptyline had worked for me previously. It worked very well then too, but I developed side effects (irregular heart rhythm.) I chose to take beta blockers along with amitriptyline so I could complete the course of treatment.',\n",
       " 'Tried SSRI antidepressants for two years. No relief until took this medicine.',\n",
       " '&quot;Been on amitriptyline for 2 weeks for nerve pain following MRI scan, which revealed a soft disc touching main nerve. It has reduced discomfort from an 9 to a 3 most days. I take 2x10 mg at night and other than some grogginess the first 3-4 days, . I sleep well on it too.&quot;',\n",
       " 'I was given 100 mg a day to treat migraines. I ended up not having migraines but chronic tension headaches which it did not help BUT it helped my anxiety. I was having daily panic attacks and slowly, they were reduced. I gained 20 pounds in a few months and decided to stop taking it a month ago, feeling fine. This week the anixety has started coming back-dizziness, short of breath, panicky, etc. so I started back on 25mg. Other than the weight gain the other side effect was dry mouth so the trade of of being able tot live a normal life was worth it.',\n",
       " 'I started on 10mg for acute myofascial pain and bursitis in both hips it absolutely changed my life,  Almost all pain has stopped unless I exacerbate the bursitis with a 10 mile walk !  After about 4 years I had to increase the dossage to 20mg as I was beginning to notice I was experiencing pain again but the increased dosage has rendered me almost pain free again.  I could not cope now without it although I do worry about being so reliant on drugs for pain relief the side affects are negligible as I take dose before bedtime so do not experience undue fatigue.',\n",
       " 'I suffer from chronic migraines, but I am only 15 years old. I had to be taken out of school for some time because of them. I was prescribed 10 mg of amitriptyline to take everyday it it has been great. I now get very few migraines and of lesser severity. I do though experience some dizziness wich made it harder to participate in sports, but over all my experience has been good.',\n",
       " 'I have suffered with irritable bowel syndrome for over 15 years. In the last two years it got so bad I could not continue working. Seventeen months ago my GP gave me a prescription for 100mg to take at bedtime.  The first night I slept 14 hours and woke up high as a kite.  The following two nights I took a half and the next night a quarter with the same results and decided this medicine was not for me and returned to suffering.  Three months ago in desperation I took another 100mg pill and had the same experience for three days on just the one dose. After reading reviews stating that IBS patients were taking 10 to 20 mg I started on lower doses with success. I am now trying to determine my best dosage.',\n",
       " 'I&#039;m diabetic and I&#039;ve been taking amitriptyline hydrochloride for five weeks for pain from peripheral neuropathy in my feet and hands. I&#039;m amazed at how well this medication works. I&#039;m on 30mg daily and my hands are 90% improved and the pain in my feet has vanished for the first time in years. I do have a few of the more common side effects ... vivid dreams, occasional dry mouth, and once in while I feel lightheaded if I stand up too quickly. I can live with all of these if I can be pain-free.',\n",
       " 'I was prescribed this for migranes/constant headaches. It made me very sleepy and didn&#039;t seem to help at all with the headaches. I&#039;m a 24 year old female.',\n",
       " 'For a long time it seemed that everything I ate would cause my belly to swell so I looked pregnant. My constipation and belly pain also worsened significantly the last few years.  After a battery of testing it was determined that I had SIBO and IBS-C.  After treatment with the antibiotics, my bloat was better but not gone. Tried linzess for the constipation but I hated it.  Then doctor prescribed Amitiza for constipation and Amitriptine 25mg at night for bloat and pain. It has SAVED me. The pain is gone and the bloat is almost gone! Plus, the side effects work to my advantage. Don&#039;t get up to pee 4 times a night anymore and I have never slept better! Dry mouth is pretty bad but I will take that over the pain, any day.',\n",
       " 'Felt a bit groggy at first but now I&#039;m good! Mood swings cut way down now that I&#039;m sleeping!',\n",
       " 'I have been on amitriptyline for almost one year.  I was hesitant to take a daily medication and something that was for depression, which I did not feel I needed.  This medication has been a God send for me.  I have gotten maybe 3 headaches since I have been on it, one severe and the others mild.  I have not had weight gain.  I am able to lead a normal life now whereas before my activities depended on whether I had a headache or not.',\n",
       " 'I started taking Elavil at the onset of my Fibromyalgia in 1997, had great sleep and was able to continue my work and study without pain.  In early 2010 I read the side effects of the medicine and recognized what was happening to me.  I had been falling for no reason, broke an ankle, lumbar vertebrate, thumb and many bruises.  I had dry mouth so bad could hardly talk, could not remember my words I wanted to say, and lost all sex drive.  I slowly removed myself off of the Elavil with the help of my doctor.  I have had lots of pain since February 2010 and cannot find a medicine to help me with my sleep and pain, but I will not use Elavil again.  I have not fallen, lost my memory or had any other side effects of this medicine since.',\n",
       " 'I have had cyclic vomiting syndrome (CVS) since I was at young as 16 but only got diagnosed a week ago at almost 31. I was misdiagnosed even told I was anorexic and bulimic at the same time but never got any answers and never comfort. My CVS went dormant for a while when I was 18 and I believed the dr that told me I produced too much acid but at 28 my CVS came back with a vengeance. I couldn&#039;t keep a job until I went back to an employer I had prior to getting sick again that knew my worth and was willing to work with me and keep me employed thankfully. I would have had no way to come up with 1200 bucks for my tests to rule out everything else and finally found my miracle doctor.  He gave me amitriptyline 25mg at bedtime 5 nights ago and since I have been fine no episodes or symptoms',\n",
       " 'I&#039;m always super nervous about taking new meds. So before I do, I always check up online to see other&#039;s experience with it. I saw a lot of really negative stuff about amitriptyline. I have to say, I was happily surprised with the outcome.  I get really good, heavy sleep and even after the first dose I noticed less anxiety and a happier mood, which is only getting better day by day. This med, along with yoga, lots of meditation, calming teas, and a healthy diet can truly go a long way if you&#039;re sincerely dedicated. 10/10 from me. Good luck!',\n",
       " 'Oops! I had put my review under the wrong category. Long story short- I got a concussion and was unexpectedly bed-ridden and in the dark both metaphorically and literally for almost 3 months. Migraines wracked me every day among other symptoms- it was basically hell on earth. My doctor prescribed me 25 mg of amitriptyline, said most of his concussion patients had a lot of success with it. Anyway, it gave me my life back. I&#039;ve been on it for 4 mnths now... I don&#039;t get aura migraines anymore, head aches now are duller and infrequent :) Dry mouth, a little more constipation, had some depressed feelings when I first started but my body adjusted. I really do recommend this! Give yourself enough hours to sleep at first.',\n",
       " 'Elavil, good drug but am starting to depend on it... started with 12.5mg, within few months I was off it...\\r\\n\\r\\nHowever, I had a relapse after 5 months of abruptly tapering off,  which was terrible, like I was going to pass out in minutes. \\r\\nNow, I am on 100mg but it seems I need to increase the dosage because I have a hodgepodge of headaches and balance issues..\\r\\nSleep as been wonderful regardless of mentioned symptoms...\\r\\n Is this feeling normal and will I need to increase it...????',\n",
       " 'I had 3 to 4 migraines a week and was sleeping very badly.\\r\\n2 weeks into taking amitriptylne and the migraine gone.\\r\\nI&#039;m sleeping at least 7 hours a night too.\\r\\nI don&#039;t know if this will last, but it&#039;s working brilliantly at the moment. The initial tiredness side effect stopped 1 week in.',\n",
       " 'I&#039;ve been getting moderate migraines and missing school because of them and they were causing a lot of stress and my grades were dropping. Now I take amitriptyline 10mg morning and night and if I didn&#039;t have much sleep or other problems I get these pseudo migraines which feel similar without being miserable and having a lot of pain and symptoms. I used to get migraines from too little fluids so I don&#039;t know if the medicines are causing the dry mouth or if I have it anyway. I don&#039;t get sleepiness during the day, but I do get 9 1/2 hrs to sleep (I&#039;m a teenager and I need that much sleep). It also helped me with social anxiety which I&#039;ve dealt with all my life. Only problem is if I skip a night dose, I wake up feeling stressed and headachy.',\n",
       " 'I was put on this medication 50mg nightly to stop migraine/headaches during the day, I have multiple sclerosis and suffer from a lot of neuropathic pain also. I am on Lyrica 300mg twice daily, both of these medications have caused weight gain. I have slowly weaned myself off the endep and now am suffering from dizziness, hoping this will pass. But my concern is that endep is also for treatment of depression, was I being medicated under false pretenses and now that I am off it will suffer from depression. MS is a hard illness to deal with at the best of times, will I now not handle my disease ?? Time will tell.',\n",
       " 'I have been stricken with IBS-C for about 9 months. Have been through multiple GI&#039;s like most people with this syndrome, went through every test - to no avail. Bloating started as soon as I woke up and lasted all day with severe constipation every day. Have been on the SCD/FODMAP diet for the past 6 months, without much relief. My new GI prescribed this drug. I am taking a much higher dose than the other posters - 50mg once per night. This has given me SIGNIFICANT improvement - I would say at least 75% better. I am able to expand my diet now, and bloating is virtually non existent, even with those new foods. This has been a life changer. I do have the trouble urinating side effect, but only in the morning waking up. Rest of the day is fine.',\n",
       " 'After probably a little less than 2 weeks I started having auditory and visual hallucinations at night. It also hasn&#039;t really improved my sleep or helped my fibro pain. It has significant worsened my depression and possibly worsened my anxiety which I somewhat expected while my body adjusted to the medication change but I cannot deal with the hallucinations and am planning on changing it',\n",
       " 'I was recently diagnosed with a pinched nerve in the mid-upper back due to scoliosis (at age 66).  I have suffered pain in both the mid to upper back as well as my lower back.  A friend who recently broke her back told me I needed to ask my doctor about Elavil.  I was very familiar with this drug as I took it 40 years ago for panic attacks.  I was on 10 mg for 2 weeks and have now been on 25 mg for 2 weeks.  My upper back pain is virtually gone and if I do have break through pain, I can usually control it with Chinese Herbal Warming gel, Biofreez and DMSO.  I am sold on this medication!  Not 100% pain free yet but am at last 95% pain free.',\n",
       " 'Absolutely Effective! \\r\\r\\nI suffered most of my adult life with debilitating migraines. My Doc recommend that I try 25 mg at bed time (half a yellow pill) .. I rarely get migraines anymore.\\r\\r\\nI use to get migraines 4+ times a week .. now I get them MAYBE once a month (if that)\\r\\r\\n\\r\\r\\nSide effects: I take this medication within one hour of wanting to be asleep. This medication kicks my ass. Knocks me out.',\n",
       " 'For my IC/PBS, I get bladder infections every two weeks, try as hard as I can to watch my diet (though it&#039;s difficult not to cheat), get pelvic floor physical therapy, take Uribel and Klonapin as needed, and take 25 mg of amitriptyline each night.  When I first started taking it, after about a couple of weeks, I felt completely normal for the first time in months.  No symptoms at all for about 4 weeks.  Now I have some creeping back.  I&#039;m going to try upping my dose to 50 mg each night and see how I tolerate it.  It does make you dopey in the morning at first, but that goes away eventually.',\n",
       " 'I have been taking Amitriptyline for nearly a year since I had a particularly bad migraine that left me hospitalized and it lasted nearly 2 weeks.  Before that migraine, I would have less severe ones every month, however after that I would have moderate migraines daily for a couple of months.  After trying a couple of medications we tried Amitriptyline.  At first it did nothing at 25mg, so we put it up to 50mg and it made the migraines weaker but it still had them almost daily.  I then went off of it and moved to Topamax, but decided to give Amitriptyline more of a chance and we then pushed it up to 75mg.  It&#039;s been about 7 months since I started taking the 75mg and it has been so much better.',\n",
       " 'Take at night, and once I fall asleep, it helps. Doesn&#039;t stop the pain/discomfort of trying to get comfortable to fall asleep.',\n",
       " 'Searing, burning and gnawing pain in the groin, vagina and rectum. Add at times feeling like you have a golf  ball lodge in the vagina/rectum and that is pudendal neuralgia.\\r\\r\\n\\r\\r\\nStrong opiate pain killers did nothing, ditto that with another anti depressant and anti epileptic medication.\\r\\r\\n\\r\\r\\nBut this, 20mg in the evening did, ending 5 months of hell.',\n",
       " 'I have Parkinson&#039;s, which often has insomnia as a symptom.  Sometimes I could not get any sleep at all for three or four nights. True. I tried Zopiclone which gave me four hours sleep at doses of 7.5mg, but I felt yucky next day.  My GP recommended 30mg of amitriptyline per night which generally gives me five hours sleep and I feel OK the next day. This is a wonderful medicine which has improved my life.',\n",
       " 'Amitriptyline has helped my insomnia by a ten fold. I have issues staying asleep due to my fibromyalgia and anxiety. I sleep all night for once.\\r\\r\\nUnfortunately it has side effects:\\r\\r\\n- No Appetite \\r\\r\\n- Impotence \\r\\r\\n- Daytime Drowsiness\\r\\r\\n- Constipation',\n",
       " 'I used to get migraines 3-5 times a week, one of which was usually severe.\\r\\r\\n\\r\\r\\nElavil reduced my migraine frequency to about once a week (if that!) The migraines I get now are extremely mild.\\r\\r\\n\\r\\r\\nI would highly recommend this medication for migraine prevention',\n",
       " 'Doctors could not figure out why I had pain and sleepless nights.  I finally told the docs lets pretend its fibromyalgia and treat it.  Doctor prescribed amitriptyline and I am 90% better. I still have occasional difficult nights but my life is much better.',\n",
       " 'Helped me sleep through the night with no side effects.',\n",
       " 'I have been on this for 6 weeks. The first 4 weeks 25mgs at night and now the next two weeks 50 mgs at night. I have multiple herniated and torn discs from an accident and could not sleep. I have tried many other sleeping aid (Ambien ETC.) and none of them are even close. This medicine is amazing. I sleep through the night now(6 -9 hrs) amazing. Once in awhile a little groggy in the morning for about 20 minutes but that&#039;s it. Unbelievable. In a league of it own for sleep.',\n",
       " 'I have been on about everything you can imagine for my stress and anxiety. Nothing worked and for years I have been miserable. I was put on Elavil and didn&#039;t feel much of an effect but once the doctor bumped me up to 100mgs a day, I am a new person. It has changed my life. I wake up and feel like dancing!',\n",
       " 'So far, Elavil is the only thing that seems to help on a daily basis with my cyclic vomiting syndrome. A drug I have used to abort an episode is Maxalt, which I think it is the same class of as Imitrex.',\n",
       " 'This has been a godsend for me. Years of  insomnia which resulted in depression and general lack of life quality due to exhaustion. I had tried sleep clinic, hypnotherapy , meditation and other drugs - but nothing was effective. Now on 25mg initially on 125mg. The only negative is the weight gain. Initially put on 11 kg, lost 3kg but struggle to lose anymore. The sleep is worth the weight!',\n",
       " 'I have migraine and depression. I couldn&#039;t sleep before and had at least four migraine attacks every month. A GP started me on Amitriptyline 25 mg every night for migraine prevention but she doesn&#039;t know that I also have depression (diagnosed by a psychiatrist). Now I&#039;m able to sleep well, and only have migraines one or two times a month. Depression is more manageable now since I get enough sleep. Killing two birds with one stone, ha.',\n",
       " 'Use to sleep through night time back pain.  When I wake up at night it is easy to get back to sleep.  I use 10 mg.\\r\\r\\nInitially woke in morning with headaches but learned to take 3 hours before bedtime and no more headaches.  Sometimes slightly groggy in morning but short lived.  Sometimes wake in morning really stiff but had good sleep.  Couple stretching exercises and good to go.',\n",
       " 'I have fibromyalgia, SLE, migraines and nerve pain and was started on Amitriptyline 10mg in January of 2008, was increased to 20mg that fall, and have been increased to 30 mg for the last 4 months. I found it helpful, it decreased all my symptoms, but increases were needed as the effectiveness wore off in time. My physician informed me that he would not increase the dosage past 30 mg as anything over 30mg was only effective in treating the antidepressant symptoms, not nerve related symptoms. He added Gabapentin 1 month ago, but I felt no change. He would now like me to stop both of these meds, and try Lyrica. I would like to add that I too have gained 50 lbs, and crave sweets always.',\n",
       " 'I feel very refreshed the next morning and have lots of energy. I use it as needed and it works great to get me back to my sleep cycle.',\n",
       " 'My Dr prescribed 10mg Amitriptyline/day for chronic migraines (daily with no apparent cause) and I managed to last 5 days on the meds.\\r\\nI had horrible dizziness, was lightheaded whenever I stood up, had the weirdest dreams (to the point where I did not want to go to sleep and face whatever dream/nightmare that was waiting for me) and on the last night I took them I had such terrible stomach pain that it woke me up and my mother almost took me to the ER because I nearly blacked out from the pain when I got up to go to the washroom.\\r\\nThe meds also didn&#039;t actually help with my migraine situation. Based off of my reactions to other medications, I would say that I&#039;m particularly prone to side effects so they may/may not happen to you.',\n",
       " 'I had migraines for 11+ years. It took probably 7 years to finally find sumatriptan for abortion of acute attack which would happen 2-6 times a week. I would react to weather, stress, lack of sleep, 3-d movies... u name it. Once I started PA school due to stress migraines became almost daily thing and it would debilitate my life and studying to the point I couldn&#039;t not stand anymore. Since I have insomnia for many years Amitryptiline sounded superior to other options and I started taking 10 mg before going to sleep. It&#039;s my week 3 with all possible triggers and absolutely zero migraines! I am so happy I cant even believe it worked so well. I only had one small headache ( which used to be often too). And I definitely fall asleep better !',\n",
       " 'I&#039;ve had migraines since I was 21 (I am now 69).  Absolutely horrible and debilitating migraines sometimes lasting several days.  My neurologist started me on Elavil recently.  I still have head pain but it&#039;s not as severe as it has been.  It is bearable now.  My life is beginning to be something to look forward to; I am even going to visit one of my sons in Arizona, something that I haven&#039;t done for a number of years.',\n",
       " 'To me amptripline  is a miracle, for me i would not sleep after detoxing off  tramadol an Loratabs an menopause  .the first pill was 50 mg worked fine then after a year I went on 100 mg .it is a calming drug an I don&#039;t have anxiety. .i go some times without but after 3days I&#039;m back not sleeping .take one pill an im like a normal  petson so calm.',\n",
       " 'Have been using it to treat Trigeminal Neuralgia, 10 mg at night, and it works great for keeping the pain away at night and to get a good nights sleep.',\n",
       " 'I take amitriptyline for prevention of migraine with aura. The aura was so bad I couldn&#039;t function, dizziness/vertigo, facial numbness, vomiting, light sensitivity and forgetfulness/memory fog. Although I&#039;m not back to &quot;normal&quot; I am able to function. I still experience dizziness from time to time and my memory isn&#039;t what it used to be but overall about 85% improvement. I have experienced some weight gain from craving sweets and other junk. Also the first month I was very tired but that stopped. I&#039;m afraid to try something else because I fear the symptoms returning.',\n",
       " 'This has worked very well for me.I Still have bouts now and then, but nothing like before the medication. I take 25 mg per day. If I am having cramps and/or frequent loose stools, I&#039;ll take an additional 12.5 mg (split a 25mg tab) during the day. I take the 25 at night, which also aids in sleep. Only negative side affect is some mild to moderate urine retention. This is in part due to also having BPH. But the goods  outweigh the negatives.',\n",
       " 'We find this medication one of our lifesavers.  My son began Cyclic vomiting syndrome when he was 5 years old. Started out with a bang and he would spend one week per month in the hospital for over a year and a half. We did finally resort to both a G and J Tube. One for nutrition and one to bypass the stomach during episodes to give medicines, fluids and nutrition. However, we use the Elavil every night and use Ativan as well as Zofran during an active cycle or right when we see one coming on to abort as well as loads of fluids.\\r\\nWe have tried to experiment and &quot;see&quot; what happens without the Elavil and it was bad. Within a week of not having it, right on the money comes an active Episode. My son is now 13, we still have the Tubes in place and use all the medicines listed.',\n",
       " 'Was prescribed 10 mg for cystitis 1 pill one hour before bed time. After taking the second pill I got severe anxiety attack which led me down on the road of developing GAD and panic disorder. I did not know what was happening to me why I felt so hyper and kind of sick, had heart palpitations, like I had a ton of coffee. The morning I still felt severe anxiety, called the doctor, made appointments to figure it out what is wrong with me. I started loosing weight because I lost my appetite and I guess all the worry created more worries and eventually panic attacks. It may work for others but be very careful when trying it the first time.',\n",
       " 'I was prescribed Elavil to help me sleep. I use to toss and turn and think about the day, the next day, and the day after. I take this medication and I am asleep within 20 minutes. I sleep all night without waking up. I also take it to get a complete night sleep to refresh my body to fight the next day with fibromyalgia.',\n",
       " 'This drug has been the best drug for me. It helps me with staying calm also helps me get to sleep better. They do say it can make you sleepy well it doesn&#039;t have this effect on me.',\n",
       " 'This medication caused me to have very horrible nightmares to the point where I would not go to sleep until I was taken off the medicine.',\n",
       " 'Worked wonders for sleep but I&#039;m constantly hungry. I exercise 3 times per week to help keep the weight off. If weight is an issue this might not be the medicine for you. ',\n",
       " 'Taking this medicine is like taking speed ?\\r\\nTotally shaking and can&#039;t sleep heart racing and just plain miserable?  Don&#039;t get it ',\n",
       " 'I have been suffering from depression almost all my life. Ive been on several different medications though out the last 10 years. I ended up with peripheral neuropathy last year and was sent to a neurologist, he put me on amitriptyline for the burning and he also said it will help with insomnia and my depression. I absolutely am happy with this drug!!! Better then Prozac, I still have feelings.(lol). Anyhow if you r debating on this medication, I recommend it 100 percent.  I take 100mg a couple hours before bed, unless I get upset during the day,(then ill take 25mg just to take the edge off.) Then I&#039;ll just take 75 mgs before bed,',\n",
       " 'After 12 years of dealing with EVERY DAY a tugging and pulling feeling in my brain, causing me to be determined disabled. I have a new doctor who yesterday started me on 10mg Elavil.  I came to this website to read the comments to see if I dared believe that I could be feeling like I was finally given a miracle that might cure my diagnosed &quot;transformed migraine&quot; condition!  TODAY, for the FIRST time in 12 years, there is no debilitating tugging and pulling, although I feel sleepy and I do feel a slight steady &quot;pull&quot;.',\n",
       " 'I really like this medicine because it calms my nerves right down. I am now entering week 3 of a rather bad episode of cyclic vomiting syndrome. (Started 5/3/12) but any how when I can keep them down these are the best for my nerves and reasonably priced as well.',\n",
       " 'Started getting migraines at 18. I&#039;m now 46. Vomiting so bad I used to go to hospital 1-2x per month to go on a drip to rehydrate. Made a professional career virtually impossible. Been on Sandomigran for 25 years. Had every possible treatment. Then 5 years ago a hospital locum prescribed Endep. That was the end of my migraines. I was suicidal for 2-3 weeks but then back to normal. I now take 1 x 50mg tab every second night. Endep is brilliant!',\n",
       " 'I was taking an SSRI antidepressant and other depression medicines but they didn&#039;t work. I started taking this and felt way better than I did before. I&#039;ve been taking it for a while and got used to the sedating side effects and it&#039;s helped me from the first time I took it.',\n",
       " 'I was given this pill for pain relief. It only worked for 3 nights, becuz I would fall asleep as soon as I went to bed. The fourth night the pain in my jaw and ear were back.\\r\\r\\nI have a dry mouth constantly and am drowsy. I had a back tooth filled, becuz I had a cavity. It hurt last night a little  but my jaw and ear was worse. I told dentist to pull it, but he thought he could save it and just fill it. Wrong. Now I have to call him back and get off this pill. I am sure it is my tooth.',\n",
       " 'I&#039;m prescribed 200mg nightly for depression/ borderline personality disorder along with qutepine 600mg .\\r\\n\\r\\nAmitripyline are so sedating for me which I like , it&#039;s better than any benzodiazepines like temazepam .\\r\\nThe trick is take your dose for bedtime about 2 hours before you want to sleep .\\r\\nFor me I take mine around 8pm -9pm and I&#039;m gone by 11pm some nights it takes only an hour other nights 3 hours but they&#039;re great for sleep .\\r\\nI was once taken off them in hospital and nothing compared.\\r\\nWord of advise - do not drink alcohol unless it&#039;s hours and hours before you take your dose.\\r\\nI&#039;ve blacked out drinking and taking them after drinking loads .',\n",
       " 'I&#039;m 59 years old and have suffered with migraines as well as hard to get rid of &quot;regular&quot; daily headaches since my early teens. A three day migraine would loose 9 pounds for me. I had been to countless doctors and a neurologist with no triggers found. No one ever tried a preventive medication for me. Finally, four years ago, my VA doctor suggested Amitriptyline. It&#039;s been a lifesaver. He suggested building up to 30 mg per day at bedtime. I developed dry mouth, eyes and throat as well as nosebleeds. I reduced to 10 mgs with good results as far as the headache and migraine relief, but still the side effects. Cut the pills in half with good results. So, now I&#039;m taking 5 mg per day, with virtually no side effects and NO headaches at all.',\n",
       " 'I&#039;m 15 and have been getting migraines since I was 10 or 11. They got so bad I was going home early from school and have the next day off twice a week. I started taking amitriptyline when I was 13 or 14 and have had one migraine since',\n",
       " 'I was given 10mg a night of amitriptyline for insomnia. I slept all night but was very dopey the next day so now take half (5mg). \\r\\r\\nI&#039;m still a bit slow in the morning but am sleeping well. I just have a dry mouth next morning. Not much of a price to pay.',\n",
       " 'I was prescribed this medication for insomnia and depression. I suffer from Lupus, Hashimoto&#039;s disease, fibromyalgia, CFS and C-PTSD. \\r\\r\\nI&quot;ve been on it for about four weeks. I&#039;ve noticed a significant drop in pain on many days than not. I sleep a solid eight to nine hours a night. I&#039;ve noticed that I&#039;m calmer, but I&#039;m on a very low dose of 10mg, but will requesting an increase. I also hope to drop my narcotic pain medication intake to ZERO, if this continues to work as well as it has. Getting sleep is a MAJOR issue and one that cannot be undermined when considering the elements that contribute to chronic illness of any kind. This is AMAZING. Dry mouth and night time vertigo during the first few weeks of use.',\n",
       " 'After reading some of the reviews I just want to say that amitriptyline is not prescribed to help with the daily pain of fibromyalgia. It is used to help ease the other symptoms it can cause. If you are taking it in hopes that your daily aches and pains are going to go away then I suggest you see a different doctor and try something else. I take Savella also and that has helped me a great deal. But I am using amitriptyline because I suffer from tension headaches and migraines. Out of the month, I can go every day with a headache. I have not been on it long enough to give you a full review but since I have been on it I can say that I am sleeping much better and my headaches are getting better. I have been on it for a little more than a week.',\n",
       " 'Due to menopausal hot flashes, I was unable to sleep more than 30 to 90 minutes per night.  20 mg before bedtime helps me sleep through the night and calms my agitation due to menopause.',\n",
       " 'I have been dealing with IBS for about 2 years now, NOTHING was working. The doctors tried everything to see if they could help my pain and stomach problems. About 1 month ago my doctor prescribed this medication and my stomach pains are 99% gone. I take a 10 mg pill every night and it not only helps with my IBS, it also helps with my anxiety. I would recommend this medication to anyone! I can start living the life that I had before IBS, its amazing!',\n",
       " 'I have had migraines my entire adult life. When I got the most recent pain, the doctors were quick to call it a migraine. I felt like my head would explode, and I had none of the other side effects attributed to migraines. My doctor instead now calls it &quot;severe head pain&quot;. I had it every other day for about a month. I actually called &quot;911&quot; at one point because I thought I was dying the pain was so horrible. When I was first given elavil I was skeptical since it was touted as an &quot;anit-depressant&quot;. I took it, and the first three days I actually had to take naps because it made me so sleepy. On the fourth day I realized that although I still felt a little sleepy, I was now officially four days head pain free. It has been a Godsend.',\n",
       " 'Wonderful for my fibromyalgia. It helps reduce pain and helps me get a solid nights sleep. I take 50mg 2 hours before bedtime. Recommend this highly.',\n",
       " 'So far I am AMAZED. I have had chronic migriane for past 15 years at least twice a week on a good week, I am 45 now. Before it was occasional like once a month since a teenager. I work in a fairly high stress professional office environment. It has affected my work and mood negatively.  I have absolutely tried everything before I recently tried amitriptyline from acupuncture, diet, meditation, homeopath, blood pressure pills, massage therapy and 3 neurologists. (Imitrex works but I was to reliant on it). I was very groggy the next day for 1 week on 25 ml of amitriptyline at night around dinner time. Which didn&#039;t go well with my career and thought I would have to stop it but I read here it does go away and it did!  3 Weeks in and no migraine.',\n",
       " 'December 2012 was a nightmare. I get migraine average 6x a week. My migraine comes usually 30-45min after I wake up. I was taking Zomig daily for a week each took 45-2hr and a good nap to cure the pain. Heard Zomig is not for daily use so I went to doctor. Doctor prescribe me with 10mg for night time. 1st day was amazing. Migraine free. 2nd day was migraine free. However today morning I had one but less severe. \\r\\n\\r\\nOverall - so far so good. Other than I&#039;m 1/2 asleep throughout the day and wake up in the morning with extreme dry mouth. I hope this medication will work for me.',\n",
       " 'I&#039;ve been taking this drug for 15 years. It saved me. Within 3 days of starting it my fog lifted (to me, the fog was like looking at life through a movie camera). The deep tissue pain went away. It has never had any affect on my sleep patterns. For the first 10 years I was able to keep it to one 10 mg pill per day. The last five, I&#039;ve had to double it to 20mg (headaches). Way back, about 3 years into this I was having trouble sleeping - quite a few nights I couldn&#039;t sleep at all, so I thought if I could take 1/2 a lorazepam it would help. Not wanting to combine the medications, I didn&#039;t take the amitriptyline for 3 nights. On the following day I was on the floor in agony. I&#039;ve NEVER missed another dose.',\n",
       " 'This medication really does help when it comes to my bladder pain. I however don&#039;t like how it is some what addicting. If I run out of this medication I get restless and I cannot sleep. Other than that it is well for pain.',\n",
       " 'I have been suffering from Irritable Bowel Syndrome-Diarrhea for several years, with pain, bloating, diarrhea and loud intestinal gurgling after every meal.  Gastro doc put me on Amitriptyline started with 5mg and worked up to 25mg over 2 months.  It really works.  I forgot to take it for a couple of days and all the symptoms came back.  It also helps with my neck and shoulder pain and neuropathy from pinched nerves in my neck.  Another bonus is this medication is very inexpensive.',\n",
       " 'I was given this for pain and insomnia.  Didn&#039;t take it at first because I have a fear of drugs but after being on this for a week I wish I had taken it sooner.  I am sleeping better and my pain is less.  I have fibromyalgia along with Panic/Anxiety.  This is a drug that helps it all with very few side effects for me (just dry mouth).',\n",
       " 'I have been taking Elavil for a month now, and I am almost migraine free.  I was started on 25mg at bedtime.  My headaches lessend, but still had them.  Maybe one out of 4 was really bad.  So my MD doubled the dose to 50mg a night, and boy that did the trick but I stayed tired all the time.  I went back to 25mg every night and now it seems to be working very well for me.  Just takes time to adjust. So if you have just started, hang in there, it will get better!',\n",
       " 'I have been on this anti-depressant for many years and while it has helped me to sleep, I have had really bad tinnitus, so I won&#039;t be taking it again.',\n",
       " 'I have been taking Amitriptyline for Fibromyalgia and have found it has worked well up until recently when I was put on Mirtazapine for depression.  Since then I have noticed the joint pain has increased markedly.',\n",
       " 'I started with 2 days of bad indigestion then nausea and frequent small movements all day soft but tiny amounts. After few days took amitriptyline and next day was completely fine and no motion all day. Down side had very dry mouth. Doctor said to try going back on. Voiceless which I had taken some time before and was okay for 5 days but then irritable bowel syndrome came back. So will try amitriptyline again.',\n",
       " 'I have suffered with post surgery (heart valve replacement) nerve pain for over a year.  Nothing helped I have only been on this drug for 10 days and I can sleep and I&#039;m also beginning to feel better.  I am hoping as time goes on over the next 2 weeks I will see more improvement.',\n",
       " 'So far (4 weeks) has had a positive effect for progressive burning/tingling sensation of feet and legs.',\n",
       " 'I have difficulty falling asleep, and staying asleep. I took 50-100 mg nightly. It did not help me get to sleep any earlier than 4-6am, and when I finally would go to sleep, I would sleep for 10 hours. Totally not useful when I get up \\r\\r\\nfor work at 7am! Very vivid enjoyable dreams though.',\n",
       " 'I have had sleeping issues since a teenager and was finally diagnosed with Childhood Onset Insomnia. At times less than 1 hour total sleep a day for 3-4 days in a row. At the age of 42 my Dr prescribed Elavil (Amitriptlyne) and it changed my life. Its really cheap about $30 CDN per month, doesn&#039;t store in your fat cells and is non addictive. I take 50mg at around 9pm, fall asleep around 11 and get a great sleep straight through until 6-7am. No grogginess, some slight dry mouth. For me, it doesn&#039;t make me drowzy but it does help me stay asleep which was my problem- waking regularly through the night. Good, luck, hope it works for you as well as it has for me!',\n",
       " 'I have borderline personality disorder and this medication combined with buspar and cymbalta has really helped the anxiety and depression I struggle with without worsening my BPD symptoms.',\n",
       " 'I was prescribed this for breakthrough pain, but it did not help it at all. I also got severely depressed the first day I started taking it, and it did not let up.  However, the one thing it did help with was my MAV (migraine associated vertigo)!  Immediately after taking it, I was no longer dizzy!  Every day I took this, I wasn&#039;t dizzy and could actually function normally.  I would have stayed on it for this reason but the depression was too much.  My sleep specialist also almost prescribed this for my insomnia but I was already on other antidepressants at the time.  I&#039;m no longer on any of those (It was PMDD the entire time) but still this wouldn&#039;t have helped anyway (like every other sleep medicine I&#039;ve tried).',\n",
       " 'I was diagnosed with IC shortly after the birth of my second son, in 1998.  Tried Elmiron and it did nothing to help with the pain or urgency.  I spent about 8 months thinking I had frequent UTI&#039;s, before diagnosing this correctly.  Once I went on the elavil, and changed my diet, my symptoms improved dramatically and quickly.  It worked very well.  After about 10 years, I decided to wean myself off of it and see if I could live without the medication and just watch my diet.  I was good for about a month.  The awful pain and urgency came back with a vengence.  I was in tears.  As soon as I went back on the elavil, within 1 day I was feeling almost completely normal again.  I am resigned to being on 25 mg daily of elavil for life.',\n",
       " 'I&#039;m from the UK, and  have had severe migraine for the past 20 years. They have affected not only me but my family in many ways. I don&#039;t know how they put up with it really.  I have been taking 10mg at night for the past 3 months and apart from a little sleepiness in the morning it has transformed my life.  My migraines initially lessened in intensity to the extent that now I just feel very tired on the days when I would have had one - this I can cope with.  My regret is that I did not find out about this medicine sooner as I could have enjoyed my life and my children when they were younger more.',\n",
       " 'Currently being 15, I&#039;ve had migraines about everyday since I was 11 and I was prescribed this medication a few months ago. It worked okay for a few weeks, most days of the week I&#039;d be migraine free. Now though, I get my daily migraines regardless of taking it and I believe I&#039;ve been heavily hallucinating for the past month or two and I had a night terror. And because of these hallucinations, I haven&#039;t been able to sleep well. I get maybe 4-5 hours of sleep everyday.\\r\\nThe only positive aspect I can think of is that its helped me socialize better, I&#039;m not so nervous about speaking anymore.',\n",
       " 'After one year on this I haven&#039;t felt anything good or bad I took a vacation and forgot it at home and went without it for about three weeks and I didn&#039;t feel any different and when I told my doctor about this. If I could stop taking it  he told me no I should take it before bedtime even if it does not do anything. So what gives ??',\n",
       " 'After having constant headaches for 4 years and being unable to take painkillers  because of rebound headaches I was prescribed amitriptyline. I sleep right through and on 25mg my headaches are gone. This medicine has given me back my life!',\n",
       " 'Amitriptyline give me a good sleep every night, I take 1x10mg 2 hrs before sleep. Also the tablet takes away any aches and pains on your body. \\r\\nA cure for panic attacks for which I used to have 6 approx a month is : Stop drinking Coffee or Tea unless you change it to Decaffinated only and the other cure that helps is : 4 or more cups of Camomile Tea every day ,no sugar and no milk in it. I normally leave the t-bag in the cup until I have drunk it.\\r\\nAll these things have worked for me and I have not had any Panic attacks for approx 3 years.\\r\\nAlso if you suffer with Policeman&#039;s heel while walking, the only cure for that is : Sketcher&#039;s Shape-ups, I have been wearing them  for years and my pain has completely disappeared, I buy mine on line.',\n",
       " 'I have fibromyalgia and suffered with anxiety and migraines also menopause is setting in. More recently I had an mri and they also found a syrinx ( cyst  like in my spinal cord) in the neck area. I have taken anti depessants before and have reacted badly too them. Amitryptiline 10mg at night was offered to me to help with sleep and pain. It&#039;s great, I sleep through no more toilet trips or lying awake all night. I have an interest in life again I had become quite house bound but I&#039;m up and about even walked round town which I haven&#039;t done in years. It&#039;s only a small dose and it&#039;s worked brilliantly.',\n",
       " 'I started taking 10mg of amitriptyline in December of 2015 when I was diagnosed with interstitial cystitis. It takes away the constant sharp burning pain I was having along with the constant urge to urinate. Once in a while I will have a flare up of symptoms but even then my pain is very minimal. The only side effects I&#039;ve noticed are that it makes me drowsy in the first few hours of taking my dose. The first month or two of taking I would experience extremely vivid nightmares, but those have subsided to simply being vivid dreams some of the time. I&#039;ve also noticed that if I forget to take it one night I have difficulty falling asleep, and some anxiety similar to the feeling of drinking a little too much coffee, which is tolerable.',\n",
       " 'I have not taken this drug yet, but I will be doing in 4 hours and I&rsquo;m excited but nervous. \\r\\nI have had shooting/pricking pains in the left side of my head for around 3 months now, and I have always put it to one side thinking that it&rsquo;s just normal or it&rsquo;s a headache / stress / pressure / apart of growing up ( I&#039;m 22 ) and I&rsquo;ve not looked into it. I decided to ring 111, they directed me to a walk in centre then to the GP and I&rsquo;ve now been prescribed with Amitriptyline. \\r\\nAfter reading through all of the comments, I have been given 10mg tablets and I will be taking it whole. There are solutions for the side effects so dosage is ok. \\r\\nI am scared a tiny bit that I have a bloods test, if no result, I will be getting a head scan :( fingers crossed',\n",
       " 'Upped dose from 5mg to 10mg and again was scared. Still no signs of pain relief but it has only been about 6 days since starting. As for side effects - a bit of a dry mouth and slight grogginess for an hour. Nothing that I can&#039;t deal with. The dry mouth only lasts for ten minutes. \\r\\n\\r\\nNot sure what If I will have to increase dose but so far so good.',\n",
       " 'I was given this medication to replace Toprimate. I took a pill Friday night and Saturday night (10mg). Given I was feeling well prior to taking this, I soon discovered/realized that it made me more emotional and it felt like I wanted to cry at any small thing. Combined with the feeling that it revved me up even at 3am in the morning, I have since stopped.',\n",
       " 'Worst experience I&rsquo;ve ever had on meds. The first 3 days of taking it I was a complete zombie. No exaggeration, I did not talk for an entire weekend. It basically just turned my brain off. I had no interest in saying or doing anything. Once that wore off, the worse side effects trickled in. I started feeling weak and tingling everywhere. This got worse to the point where my husband and I had to walk out of a restaurant because of the symptoms. the tingling got so bad that I thought I was either having a stroke or entering Paralysis. Stopped the meds and all symptoms went away almost instantly. It did help my migraines but frankly I&rsquo;m used to dealing/managing/living with those so I&rsquo;d rather have them than than these awful side effects!',\n",
       " 'I wish I had know about amitriptyline 25 years ago.   After 20  years of taking Midrin, then Maxalt, then Imitrex, I finally found a preventative that has reduced my migraines by 95%. I took propranolol for two years, but it didn&#039;t reduce the frequency or severity of my migraines at all.   I strongly recommend that every migraine sufferer try this preventative. After much reading, I discovered that I have a serotonin deficiency.  Amitriptyline works to keep serotonin levels elevated which is the root cause of migraines for many folks.  If you have tried this medicine before, try it again and try a different dosage.   Amitriptyline at 25 mg only reduced my migraines by 10%.   50 mg per day has reduced them by 95%.',\n",
       " 'I had epilepsy surgery last year and I have suffered with headaches ever since. After over a year of trying different remedies my doctor prescribed Elavil. I was so tired of having headaches everyday that I was willing to try anything. I take one 25mg tablet at bedtime and my headaches have gone away. It&#039;s like I never had them. Elavil has been a blessing to me.',\n",
       " 'I take 10mg at night. Been on it 6 weeks no migraines maybe 2 headaches. Wouldn&#039;t take more than 10mg tho.',\n",
       " 'Unfortunately this medication had a very negative effect on me. I was supposed to take it for occasional nerve zaps that I get from having IC. When I took it, it didn&#039;t take the pain away. Instead it changed it into a CONSTANT burning pain which is way worse than the previous zaps. I stopped taking it, and although I was on a low dose 25mg a night, I got horrible withdrawal symptoms and am still dealing with panic attacks upon waking up. I know this drug has been a godsend for some people, but please be careful because it has the potential to make things way worse.',\n",
       " 'Took this for leg pain that was from unknown cause, possibly pinched nerve or peripheral neuropathy.  It seemed to help some with pain, maybe 30% reduction at 25mg dose.  But I was sleeping 20 hours a day, real groggy when awake, and having severe stomach pains and constipation.  I stopped after 2 weeks of this.  I thought it was just side effects but my doctor diagnosed it as an allergic reaction.',\n",
       " 'This medicine helps me lots.  I had a lot of stress in my life  and if it wasn&#039;t for amitript I don&#039;t think I would be here now .',\n",
       " 'I went to see my Dr about restless legs at night which is quite painful. She prescribed 25mg at night before bed. It&#039;s was working well..no pain. However I fell over a couple of times which I thought was odd but didn&#039;t set any alarms off. I began to feel stiff and unable to bend over to pick things up. I was afraid I would hurt myself. Not realizing this was the drug. I figured this is what happens when you are close to 50. The worst side effect was the weight gain. I was on the drug for 3.5 months and gained 30 lbs.  Once again I figured it was because I was getting older. So the drug certainly helped my leg pain...but altered my body to look like the pilsner dough girl.',\n",
       " 'I had my first episode of Cyclic Vomiting Syndrome about 3.5 years ago. It was sometime until the doctors and I figured out what it actually was. Nonstop throwing up for 2-6 days about once a month.  What made them severe I guess was the amount of vomiting. A few times I had double I.V&#039;s  because they could not rehydrate me as fast as the vomiting was dehydrating me.  If you have CVS and are reading this I just want to say I am truly sorry. It was a miserable and emotional ride for me and the people that care about me.  I can truly say I feel your pain and I pray that you find peace. I fought the doctors about taking this but when I finally gave in, IT WORKED. Not one episode since then (about 1 year and 6 months). I was skeptical at first BUT IT WORKED! 25MG.',\n",
       " 'I have been on Elavil for depression for 20 years. I did have some problem with not remembering that I had told someone something already. This has gotten better as I made a conscious effort to remember things. I still have some problems with memory in forgetting where I put things. The best thing that happened is I have not had a headache in 20 years. I used to have bad headaches 2-3 times a week so this has been well worth putting up with side-effects.',\n",
       " 'I was on 75mg of Endep &amp; noticed 2 extreme side effects which lead to me having to stop taking the medication.\\r\\nThe first was rapid &amp; excessive weight gain; I gained 6 kgs (13 pounds) within 8 weeks (at 160cm, this is quite a bit of weight). I had no change in my diet, my exercise stayed the same, so the Endep was the only thing that could have caused the weight gain.\\r\\nThe second was extreme Night Terrors. These occurred every night &amp; were extremely frightening for myself &amp; family, as I would wake up screaming &amp; kicking every night. This occurred almost immediately after starting the Endep.\\r\\nSince stopping the Endep 2 weeks ago, the Night Terrors have ceased completely, &amp; I have lost 1kg with no change in diet.',\n",
       " 'Was given this medication after being diagnosed with herniated disks in the cervical spine. For years before I tried all kinds of pain medication with no relief at all. Amitriptyline did what none of them did.',\n",
       " 'Be careful if you have IBS-C as this can make it worse, particularly at high doses, try and take it at a low dose if you do for anxiety which is good for numbing in IBS in general. However seeing as IBS-C is basically an issue with bowels not moving fast enough you can imagine how adding a sedative essentially isn&#039;t really the best thing to add lol made mine so much worse after a year, anyways what works for some doesn&#039;t always work for others, good luck whatever you do :-)',\n",
       " 'I have taken this medication for six years and it has really helped with my migraines and my inability to sleep or stay asleep. I started off at 10mg and slowly increased to 50mg and have been on the same dosage for the past four. The only downside is my absolute need to take it at the same time every night in order for it to make me sleepy otherwise I can stay up the entire night if I take it later than 9pm.',\n",
       " 'After a car accident a year ago and having horrible life disrupting headaches everyday I finally got prescribed Elavil at 25mg once before bed. It has improved most of my headaches and I sleep like a champ...all the time! Only downfalls are I sleep more now than ever and I have gained 15 lbs. I almost think I&#039;d rather have headaches than gain this weight.',\n",
       " 'Amitriptyline made a huge difference to my daily life in terms of pain relief from Vulvodynia, but it has many side effects.  I stuck to a low level 25mg and had to wiegh up benefits vs side-effects.  Changed to Nortriptyline and had the same benefits but less side-effects.  Now take 30mg of Nortriptyline.',\n",
       " 'For many years I was very resistant to taking medications for my anxiety because I watched my mother who is bipolar try many types of medications without success. My anxiety was constant: racing thoughts, hypochondria, worry about my kids, etc. The stress was actually causing me physical pain. I was even tense in my sleep and woke up every morning feeling like I had been in a fight. Elavil was life changing. I started out at 10mg and was bumped up to 25mg after a couple of weeks. The only side effects that I experience are drowsiness (you take it at night, so no big deal) and sometimes weird dreams. I am so at ease these days. I no longer have any stress-related pain. My quality of life has been vastly improved.',\n",
       " 'I have been on 10 mg. Amitriptyline... for a month  and am really getting   a good night  sleep. I must say the first weeks, I was really tired and and exhausted . After 3 weeks my body adjusted quite well. I have a low tolerance to medication so 10 mg. Is good for now.',\n",
       " 'I was diagnosed with Reflex Sympathetic Dystrophy Syndrome about 3 years ago. From my elbow to the tip of my fingers the pain is always there. I am on 25mg once a day and the pain is still there. Sometimes so severe I have to cry out. These pills do very little for me.',\n",
       " 'I&#039;ve been taking this for 27 years, 50 mg a night and except for a few flare-ups, I&#039;ve been virtually pain free.  I find that it really depends what manufacturer the druggest purchases it from.  Strange but true.  I highly recommend this medicine.',\n",
       " 'Really changed my life. Was suffering from my Interstitial Cystitis for months when my doctor finally prescribed this. Rarely feel pain (unless I go the tomato or citrus route), sleep all through the night, and I&#039;m generally in a better mood. Gaining a little weight but definitely worth it.',\n",
       " 'I had headaches for a year. At six months I switched my allergy meds, relief cut the headache intensity by half. The rest of the cause was minor concussion as a result of an auto accident and overdoing( occasionally overdosing) of OTC pain relievers ( Tylenol and aspirin). Started elavil almost 3 months ago, I am now mostly headache free with only slight headaches and off all OTC pain relief.\\r\\r\\nOTC pain relievers can be addictive and by reducing how much per day I took, I am now taking OTC pain relievers for minor muscle and joint problems as needed (which is only occasionally). \\r\\r\\nLooking forward to stop using elavil every day. Some tips listen to your doctor, keep a log or journal of progress and remember not thinking always about a headache',\n",
       " 'About 3 months ago I started experiencing thunderclap migraines. My doctor put me on Atenolol which did nothing for me. She then put me on Amitriptyline 25 mg which has pretty much eliminated the migraines. I guess I was somewhat depressed because now I feel wonderful, patient, and have a sense of well being. My emotions seem to have levelled out. I have experienced some not so pleasant side effects such as vivid bizarre dreams, blurry vision, constipation and dry mouth. \\r\\nI kept hearing about serious weight gain but due to my new found satisfaction in life I don&#039;t turn to food for comfort anymore so I&#039;ve lost weight on this medicine!\\r\\nI love what this medicine has done for me.',\n",
       " 'I&#039;m 20 years old and have both fibromyalgia and rheumatoid arthritis. I also use amitriptyline to treat my depression and my sleep. Before my rheumatologist prescribed this, I went through numerous other things which all caused me to get horrible headaches, stomach problems, and did nothing for my depression. \\r\\r\\n\\r\\r\\nI sleep well pretty much every night and I dont wake up feeling groggy, I dont have as many &#039;bad body days&#039; anymore, and I feel way better emotionally.',\n",
       " 'Second medication I tried after years of issues, definitely helped but didn&#039;t help completely and issues have been slowly returning here and there. Works much better if I make sure to take it at the same time every day.',\n",
       " 'I have a very high tolerance for a lot of pain medications due to pain issues. Your body always needs more and more to produce the same effect until almost nothing works. \\r\\n\\r\\nFortunately, this type of medication doesn&#039;t affect me that way. Although I guess it is mainly used for depression. It has worked like a charm for me to get my body to sleep much longer. And I have never had to increase the dose. The only drawback for me with this medication is that when I do wake up I am pretty groggy for about 45 minutes.',\n",
       " 'I take Elavil for insomnia and without it I have a terrible time trying to fall asleep.',\n",
       " 'I started having headaches about 2 and a half years ago. I had at least 3 per week. Then it got to the point where I had a headache literally EVERY SINGLE DAY. After 2 MRIs, countless blood tests, an eye exam, and seeing a neurologist, no one could tell me why I had a headache every day. It got to the point I couldn&#039;t eat, couldn&#039;t sleep, and couldn&#039;t get anything done. My head hurt so bad I couldn&#039;t move some days. FINALLY a doctor prescribed me 25mg of amitriptyline once a day. I&#039;ve been on it for 3 weeks now and have only had 2 light headaches since taking it. This medicine seriously saved my life. I got so depressed from constant pain. The first week I started taking amitriptyline I was drowsy but I&#039;m fine now. I take it every night before bed.',\n",
       " 'I was skeptical and did not want to take this. My doctor prescribed Amitriptyline and Citalopram in approx. 1/4 dosage given for depression. I had just gone through the worst 4 four months of my life with debilitating Irritable Bowel Syndrome attacks nearly every day that would last for two to up to 8 hours. I gave in and tried the medications. I have not had a single IBS attack since the very first night I took the medications. It feels like a miracle. My attacks were so bad the thought of dying seemed better than having the attacks regularly. I thank my incredible doctor and God for introducing me to this medicine. ',\n",
       " 'I started this medicine just last week and have already had a complete personality change for the better. I didn&#039;t even realize how bad my depression was until I got rid of it. I didn&#039;t think any medication would work, let alone so quickly. This medication has planted the seed of a thought in my head: there is always hope!',\n",
       " 'I have had Neuropathy in my feet for over 15 years. I take 10mg a day and my feet do not bother me. Without the drug I get a pins and needles or pain feeling in my feet. The Neuropathy preceded a Diabetes diagnosis by about 10 years. It is one of my meds that I can feel if I forget to take it. To date I don&#039;t think I have seen a side effect.',\n",
       " 'I started having head pains on the right side of my head/neck/eye after the loss of a loved one. Sharp pains and long lasting dull ache on the right side wouldn&#039;t go away, sometimes numbness etc. And for about a year I went through EVERY type of Dr &amp; test possible.  Long story short and two MRI&#039;s later (all came back normal). I was no closer to ridding myself of these pains. I found a new Dr who put me on Elavil (25mg) and I can say after 3 months my head pains are reduced 85%. I have pain free days now! It took about 2 months to work in my case. Tiredness is a side effect but mine went away after a few weeks. This med has given me hope. I hope if you&#039;re having these problems you will give it a chance to work...',\n",
       " 'No more migraines since I&#039;ve been taking Elavil. I use only 12.5 mg per day, taken at night. Have tried millions of other medicines. This is the best. First few weeks you will be very tired, it goes away then all will finally be normal with no more head throbbing. Coctail with 10 mg Lexapro. 1 and 1/2 years of no migraines.',\n",
       " 'I took this in an attempt to prevent my migraines that occurred several times each month. During the two weeks that I took this at bedtime I had an increase in migraines (3-4/month became 3 in 2 weeks) and had at least 2 incidents where I got out of bed and did things - including going for a drive - that I woke the next morning with no memory of the night before!',\n",
       " 'I believe fibromyalgia symptoms started when I was around 14, it wasn&#039;t diagnosed until I was 41. I  had been to many doctors complaining of lethargy and body pain/aches,  and I never had any answers, one doctor said &quot;do you think this might be all in your head.&quot;My life changed at 41 when I started on amitriptyline, I finally went into a deep sleep, felt  more refreshed,  and it substantially reduced the pain.   I am currently 55, original dose lost its efficacy overtime. I am now on 125 mg, but I am very active and run and bicycle weekly.   Don&#039;t get scared if you feel even more tired in the first 2 to 3 weeks of taking the medication, that will dissipate and you will feel refreshed all day.',\n",
       " 'I was 21 totally healthy male without ANY health problems. One morning I woke up with a horrible headache and it only continued to get worse. I experienced headaches 24 hours a day for months. I had every test known and they couldn&#039;t find anything wrong me. I have took 75mg of amitriptyline for close to 4 years now. The drug has worked wonders on me and as long as I take my medication every night, I never experience a headache unless under extreme stress. Wonder drug, mild side effects. First few years dry mouth was really intense. It is harder for me to fall asleep now, have to take 5-10mg of melatonin as well. Hoping to ween off the medication shortly tho, as I don&#039;t want my whole life to be controlled through a pill bottle.',\n",
       " 'Helps well with my anxiety as well!',\n",
       " 'I have been on Amitriptyline 50 mg at night for 3 weeks and my pain has subsided a little.  I have rheumatoid arthritis, Psoriatic Arthritis, Osteoarthritis and Fibromyalgia so I have been living in chronic pain for many years.  I am also on Prednisone 9 mgs daily, which my Rheumatologist is tapering me off of slowly. I also am on Hydrocodone 10 mgs, 2 tablets 4 times daily. My doctor just increased the Amitriptyline to 100 mgs at night.  I will share my experience with this dose in another 3 weeks or so.',\n",
       " 'I&#039;m am 35 years old. My CVS showed its ugly head when I turned 21. Now I look back at my childhood and I see some signs. Took me a long time to get diagnosed but was pretty much confirmed when 10mg of Amitriptyline compleatly stopped my cycle. I had been on and off it for years. Recently after moving to a new state it seems I am now always on it. In 7 years I went from 25mg to starting today 100mg. This drug really is a life saver but I&#039;m getting concerned I&#039;m going to get to the max dose and have to find something else. I also take 5mg lexapro for irritability. My side effects have been dry mouth and weight gain. Which I don&#039;t mind for getting my life back.',\n",
       " 'I started taking this medication to help with my bad migraines and nausea. It helped for awhile but in the past 6 months has stopped working almost completely. The major side effects I noticed were increased emotions (I cry at everything now, and I&#039;m not a sensitive person) and I&#039;ve developed serious anxiety and stress.  I&#039;m currently weaning off this medication to try something else, but it did help for awhile.',\n",
       " 'I have had migraines since I was a child. Tired of living in pain and having many imobilizing days, at 24 years old I finally sought treatment. I have been taking Amitriptyline for a year, starting at 15mg once every night before bed which did not seem to manage them very well, then increasing to 75mgs before bed. It has worked wonders in managing my migraines. I went from 4 migraines a week to now once a week. I will be returning to Dr. to figure out the next step since I have been a year in overall peace but still have the constant one a week. Only side effect I have noticed is slight weight gain but nothing serious. Amitriptyline has been an enormous aid in my migraine prevention and I am extremely glad to have given it a chance.',\n",
       " 'I was prescribed this for vulvodynia after seeing 2 gynecologists with no clue what &quot;disease&quot; I &quot;had&quot;. My third gynecologist put me on 25mg each night, after a year of experiencing excruciatingly painful intercourse for no apparent reason. After just 2 weeks, Amitriptyline successfully took away the pain! I&#039;m so thankful for my gyno&#039;s knowledge of this drug and her shot into the dark on prescribing me this, despite it rarely being prescribed in an OBGYN clinic!',\n",
       " 'I have been taking 25mg of amitriptyline for 3 weeks now. It has stopped my migraines in their tracks, I feel a little groggy in the mornings and I have a dry mouth but the biggest side effect is loss of appetite and weight loss!',\n",
       " 'I&#039;ve only been on the medication for 4 nights and I&#039;ve noticed that my stool has changed color. Would this be one of the effects perhaps or totally not related???? So far in this early stage, I have not noticed any difference with my fibromyalgia.',\n",
       " 'I have cronic pain due to neck and head pain. I have been taking elavil for 5 years 75mg a night. It doesn&#039;t help with the pain but I am able to sleep past the pain. If you have issues sleeping for what ever reason give it a try. I can sleep most of the night and I do not have a hang over the next morning.',\n",
       " 'I started on Elavil about 15 yrs ago for fibromyalgia. It brought me a lot of relief at first but it stopped working for me. I still take it but the doctor wants me to take a lessor mg. I was up to 100mg but now I am down to 20mg.  She said that the Elavil made my heart beat really fast.  It can also make your blood sugar go up or down.',\n",
       " 'I started it and noticed I slept well after first tablet. The 10mg works better for fibromyalgia on low dose apparently (10mg) but anyway I took it daily an hour or two before bed but it did take a good 4 months to get into my system and work on blocking out most of my pain and actually get to grips with my own personal experiences with this chronic condition.  It worked really well on my migraines I  get them occasionally if I eat food triggers wheat - dairy - msg amongst other triggers  but not nearly as bad as before I started taking amitriptyline. I can honestly say its given me back my life and can plan ahead which I have never been able to do before.  I gave it a   10/10.  My side effects were dry mouth for few weeks and I watch my diet because it can increase your appetite',\n",
       " 'My experience with amitriptyline I take 20mg in the evening, and it helps my pain tremendously. I can&#039;t take Lyrica, gabipenton due to edema side effects. My only complaint is that I can&#039;t wake up! It&#039;s causing problems with my marriage, and other family relationships. It&#039;s catch 20/20. Do I take only medication that allows me to function on daily basis with my chronic pain,or live in pain to maintain family relationships.  : /',\n",
       " 'I&#039;m 43 and have had migraines since I was 23. I&#039;ve tried everything, even preventatives (Topamax - hated it) and finally found Frova to be really effective. Then I recently got one migraine that Frova couldn&#039;t keep away for more than 12 hours. After 8 weeks of undulating pain, I tried amitriptyline and my migraine finally disappeared after only 2 days. I was also able to get a full night&#039;s sleep. Been on 10mg for two weeks now and feel almost back to my normal self again. The drowsiness subsided after about a week. I will occasionally get the sensation that I&#039;m getting a migraine, but it dissipates quickly. No issues with weight gain yet - I actually lost about 10 pounds, but it could be because I&#039;ve been doing more sleeping than eating lately.',\n",
       " 'I was diagnosed with Cyclic Vomiting Syndrome almost 2 years ago. I have been on Amitriptyline for about a year and a half. I recently went off because I ran out of refills and my insurance changed making a specialist visit expensive. Within a week I was extremely nauseous. The doctor called me in more and I started talking it again. Within a few days it went away. I am so thankful for this medication.',\n",
       " 'Had panic and anxiety every day - was non-functional.  Started taking this medicine 2 years ago and it saved me, gave me my life back. Now my doctor wants me to try to wean off to see how I do.  I&#039;m taking only 10 mg per day before bed, but even trying to cut it back slightly makes me feel jittery and slightly anxious.  Am going to try to stay the course and see what happens.  Perhaps it would be easier to just stay on the med, but I know long-term it&#039;s not good.  So, we will see what happens.',\n",
       " 'I use Elavil for fibromyalgia...it has worked wonders for my sleep issues. My overall quality of life has dramatically increased simply because I am able to get the sleep I so needed and its helping with depression/anxiety. It works better than Ambien. My dose now is only 50 mg...so glad I tried this medicine. I am very scared of antidepressants due to a horrible reaction from Cymbalta but Elavil is an older medication and its chemical makeup is different than most of the newer SSRIs. I went from sleeping on average of 4 to 5 hours a night...now I can sleep 10 without ever waking up..literally something I haven&#039;t been able to do in 5 years. This medicine is the best medicine for me, and I&#039;ve tried everything out there as I have had Fibro for 8 years.',\n",
       " 'I have had insomia for months. Dr started me on Elavil 10mg for sleep, within a half hour I&#039;m a sleep. I have not slept this good in a long time. I am not a zombie either in the mornings. I feel very good when I awake. Best thing.',\n",
       " 'My doctor prescribed a migraine prevention medication for me yesterday,, for the first time in literally years, I did not wake up with pain in my head that was a level 2 (out of 10 for pain) would either drop to a 1 for pain or become a migraine. I can&#039;t tell you how weird it feels to wake up with zero pain.',\n",
       " 'I take Endep for depression.  If I take it in the evening or at night I cannot sleep at all; just toss and turn all night.  Therefore, I only take it in the morning.',\n",
       " 'This medicine is amazing. After 10 years of chronic diarrhea, fecal urgency and other Irritable Bowel Syndrome symptoms, I went to see the gastro as I was doubled over in colic-type pain up to 3 times a month. He gave me 25mg to take at night and I haven&#039;t looked back.',\n",
       " 'I&#039;ve been battling Gastrointestinal problems from day one, but for the last two years, I&#039;ve been suffering intolerable pain. two GP&#039;s and two gastroenerologists later I was still having problems with no clear diagnosis. Finally, I saw a new GP last week, that seemed to chalk my symptoms up to IBS, and she prescribed me this medication. I&#039;ve only been on 1/2 a 25mg pill each evening for five days, and already my symptoms have vastly improved. There&#039;s brief pain for about 10 minutes occasionally, but it passes quickly now and is far less severe, and I&#039;m not kept up all night by the pain anymore like before. No ill effects, as I take it in the evening about an hour before bedtime. This medication is a godsend for me!',\n",
       " 'I have had classical migraine (with aura) since I was 12.  They disappeared completely in my 20s but returned when I became pregnant.  Following two pregnancies I have had about 6 silent migraines (visual aura but no headache) a year until this year when I started to have alot more (still silent) migraines.  I realise I am very lucky to not have full blown headaches, but they have still been incapacitating and scary.  After having six migraines in a week I started to take amytriptiline (10mg).  I&#039;ve been taking it now for about 11 weeks and have had three mild migraine auras since then.  Seems to be working -- will persevere.  No side effects after first week.',\n",
       " 'Amitriptyline has helped me tremendously. I take 100mg at bedtime and I get a full relaxed sleep and my anxiety and stress does not bother me anymore. I&#039;m calm and happy. It&#039;s a miracle drug!',\n",
       " 'I have been suffering from migraine from last 40 years. I used to be almost paralyzed by it everyday. My life suffered in many ways so much that I could not do many things. About 27 yrs before my College Neurologist prescribed me 10 mg amitriptyline every night and next day I would not get migraine. It was nothing less than a miracle. The side effects were also bad as last 27 yrs I fall in sleep in all those awkward places like Movie theater, While in class but I did not stop as at least I did not have migraine. No one would know the extent of migraine unless or until he/she had a first hand experience. My mouth is always dry but I will take the side effects over migraine.',\n",
       " 'I tried many of them. Amitriptyline worked the best. I only took up to 20mg.',\n",
       " 'This medicine did not help my fibromyalgia at all. I had Doctor after Doctor ask me to take it as I searched for answers and relief. I finally had to stand up for myself and refuse to take it because it has such a strong effect on me. I felt like a zombie each time I tried it. This is regardless of how small the dose was. The medicine did nothing to ease my pain or any of my other fibromyalgia symptoms. ',\n",
       " 'This worked great the first couple months.  Then the fatigue and weight gain kicked in.  I have never in my life been fat and this caused me to gain weight like crazy.  Plus after a few months the headaches returned.  I am going off it now.',\n",
       " 'I&#039;ve suffered from migraines, mostly chronic,  going on 6 years. I had originally tried Amitriptyline  at the beginning of my diagnosis; however, quickly got off of it (I don&#039;t remember why). 6 years later and a new doctor suggested we give it a try. Almost immediately I noticed my eyes changing. Very blurred vision. I also experienced rapid weight gain, hostility, aggression and more sweating. Within three weeks of being on the medicine, I called my doctor and had them get me off of it. Now I am on nortriptyline. Glad because I soon after received notification from my insurance that they wouldn&#039;t cover the suggested amount of 50 mg, only 25 mg for 30 days.',\n",
       " 'I am taking amitriptyline four 3 years I started 10mg and up to much higher doses.\\r\\nI had 3mth set back.that&#039;s why I am taking a bigger dose.\\r\\nlast night I was able to go to sleep with out back &amp;  leg pain',\n",
       " 'I was prescribed this drug for both pain and sleep due to severe osteoarthritis 20 mg 2 - 3 hours before bed to help  me sleep and also 7.5mg of Zopiclone (lunesta) to be taken only if unable to sleep after 2 hours. This combination works wonders after weaning off this drug 3 weeks later the pain and insomnia returned and after 1 week of only 2 hrs sleep a night I am now back on Amitriptyline was tried on gabapentin as well but that had no added benefit but that caused weight gain and water retention',\n",
       " 'I have been on Amitriptyline for only 5 days for chronic low back and leg pain that has plagued me for years, to the point of sleep and work related disruptions. I&#039;ve popped a zillion pain killers and anti-inflammatories. Now taking only 10 mg of this medicine at night, no other medicines, and I feel better than I have in years, am virtually pain free and feel very energetic. I&#039;d say it&#039;s a miracle. I wish it had been prescribed years ago.',\n",
       " 'Before starting this most mornings I always felt sick to my stomach and whenever I went out always had to make sure a bathroom was nearby. My doctor prescribed this to me at 5 MG a day to start slowly I got up to 10 MG a day and that is what I take now the only downside I&#039;ve had with this pill is it makes me very tired for this reason I take it at night. We experimented with taking 10 MG one night then 5 MG the next it helped the tiredness but I was willing to deal with the tiredness in exchange for less pain I still have to stay away from foods that make me sick and it doesn&#039;t take away all pain but has helped tremendously and I&#039;m very grateful for it.',\n",
       " 'Migraines 1/2 month &amp; regular headaches from 16 until 40, after car accident 10 months ago getting terrible migraines 2-3 a week &amp; headache around the clock, having trouble working &amp; doing anything productive, addicted to pain medication.  After everything physical came back clear, prescribed amitryptiline 25mg which got rid of migraine/headaches but left me foggy/dizzy and with very dry mouth. Went back to 10mg, has gotten rid of the side effects, in the 7 or so months I&#039;ve been taking it have had 1 migraine and hand full of headaches that have been eased by asprin or ibuprofen. Has given me a new lease on life, risk of weight gain has been reversed by having energy to exercise and have actually lost 20 lbs &amp; put on bulk',\n",
       " 'I began taking elavil for migraines in the summer of 2007. I have had maybe 1 or 2 migraines in a year and a halfs time. Before I had them 3 to 4 days a week. I take 50mg of elavil at bedtime. It has worked wonders and it is a lot cheaper than taking migraine medicine. My only troublesome side effect is that it has greatly increased my appetite.',\n",
       " 'Hi I have been on 25mg since a year and half ego. I suffer from anxiety and panic attacks. I refuse to take any mess but it got so bad I had to do something. My pcp put me on zoloft ..that pill gave me such bad side effects I though was going to die..so I went to a psychiatrist and she put me on elavil I wad so nervousabout starting new medication but I knew I had to try it she prescribe 25 milligrams 3 times a day I know my body and I knew that was a high dose for an so I started with 25mg..and yes it made me really really tired so I took it at night and within 2 weeks I felt so much better.I still get tired but it helps me sleep I love this medication',\n",
       " 'I have a herniated and degenerated disc, sacrum joint disfunction and piriformis syndrome. It was very disabling, unable to get about, get dressed the pain was 10/10 had to crawl while being pregnant. If I did a lot of activities pain was on its way. Popped pain relief did physio, went to gym, good diet, Tens machine. Nothing really worked apart from being in bed for 3 days till pain eased. I have 3 kids and really thought my life was going to be living in chronic pain. I was prescribed amitriptyline for headaches. Any-way I asked my Dr for these meds for my back, so she agreed. Well I have a new lease of life! I still get stiff and have to re-crunch (set) my back but haven&#039;t been a day in bed since starting them this year I take 20mg.',\n",
       " 'Suffered all my life and this medicine was the best thing to ever happen to me!',\n",
       " 'Had severe migraines for years, recently I started using Amitriptyline 25 mg and so far has worked wonderful.',\n",
       " '1st started taking for depression and PTSD and anxiety. Then I got in accident, now I take it for the above AS WELL AS headaches leg pain,nerve pain in legs. Great old school drug. Oh also helps insomnia',\n",
       " 'I got a migraine that lasted for 15 days straight. Finally, my mom suggested that maybe they were stress related because I had had several huge events happen in a short amount of time (got married, graduated from college, and started a job nannying 5 young children).  I finally went to the doctor and he put me on amitriptyline.  I take 25mg every night before bed. I have been taking it for a month, and have only had one migraine, which occurred 3 days after I started taking the medication. Occasionally I notice drowsiness in the morning, I have to get quite a bit of sleep for it to wear off, which I&#039;m completely fine with. I haven&#039;t noticed any other side effects. It&#039;s AMAZING!',\n",
       " 'I started on 25 mg of Elavil for 1 month and recently increased to 50mg. The Elavil has worked well to some extent. I didn&#039;t have very many side effects and I am hoping that it will continue to give me positive results.',\n",
       " 'Use of Elavil has not lessened the pain associated with vulvodynia (or nerve ending pain), but it seems I can tolerate it more.  But I notice that my throat gets very dry and my voice is hoarse.  Also I have been diagnosed with dry eye, and I do feel that is caused by the Elavil (along with dry mouth and throat).',\n",
       " 'Incredible! I&#039;ve been diagnosed with IBS since I was about 12. 12-18 it was stomach ache here and there, few bad nights etc. As I entered my 20s in got a lot worse. I&#039;d have bad days and sometimes bad weeks. If affected my work and social life, I got anxiety when going out and just worried useless I was home and close to the bathroom. Tried different medication, some made me worse and some did nothing. After changing GPs I was put on Amitriptyline, I didn&#039;t hold out much hope but after 1 month I noticed the difference. It took me a while to adjust and after 4 years of using the drug I am 98% better. On and off have bad days, but due to me eating badly as I am intolerant to Dairy and Wheat. Give it ago for at least 6 months!',\n",
       " 'I have suffered with chronic daily tension headaches for most of my life with a full blown migraine about twice yearly. For me, the daily headaches had become a routine form of torture that I had accepted. As a nurse, I avoided talking to the doctor because I knew a lot of the prophylactic meds were antidepressants or anti seizure meds and I just didn&#039;t want to take those types of meds. As  my headaches increased to about 5 days per week, I finally decided to get on a new med. I have been on eleavil 12.5mg nightly for 2 weeks. I have not had a single headache and I am beyond thrilled. I have never posted on a blog like this before, but I am so excited about the results I just had to share. As for side effects, I have not had any thus far.',\n",
       " 'I&#039;ve been taking this medication for a week now. Almost all my headaches and migraines are all gone. The only time I really get a headache or migraine is when I don&#039;t get enough sleep.',\n",
       " 'Was prescribed Elavil mainly for chronic headaches. Also suffer from depression, anxiety and insomnia so my neurologist had me start Elavil to try and kill many birds with one stone, so to speak. Elavil worked great to reduce the intensity of my headaches. Although they were still going on it was much more tolerable. I had been on Elavil only one month and a week before I stopped. First week my insomnia and anxiety seemed to be simmering down (This stopped soon after week 2). As for my depression... Elavil put it under a magnifying glass. I was suicidal and crying on a daily basis, it was not the medication for me... It helped with the main objective but at a horrible cost.',\n",
       " 'I take amitriptyline for chronic pain and insomnia.  I have suffered with insomnia for most of my life and nothing seemed to work.  I also had 3 level cervical-spinal fusion/ chronic pain/major trochanter bursitis. I recently moved to a new state and found a life saver in my new doctor.  Along with my normal pain management (Morphine/vicodin/muscle relaxer) he suggested Elavil.  I was weary at first, but thought why not.  Because of my high tolerance to medicines, he started me out at 50mg.  After 1 week, I was AMAZED. I slept through the night and my pain seemed to subside to tolerable.  After a few dosage adjustments, I am now on 100mg and with the exception of weight gain, I am so very happy.',\n",
       " 'I have not experienced side effects with Elavil and it has really helped to keep my Inerstitial Cystitis in check.  I am so thankful for it.',\n",
       " 'Ive had migraines at least 3 times a week since I was 5 years old, I&#039;m now 19.. I started taking these about 4-5 months ago and now i still get migraines about twice a week, BUT they are the worst migraines ive ever had in my life, im in so much pain i throw up 3-4 times with each one, all i can do is lay in the dark, cry, and try to sleep until it goes away, it usually takes around 24 hours to fade away. Ive also been expierencing hair loss and trouble urinating.. everytime i have a migraine all i can think about is how much i want to die and whats the point of living.. And for those reasons, im getting off this.',\n",
       " 'I use to read these reviews all the time while trying to figure out a med that would work for me. I promised myself I would write a review if I ever found one that was working for me. I have been diagnosed with treatment resistant clinical depression, anxiety and panic disorder. I have been hospitalized twice in the past two years. It has made my life a living hell. After 15 ECT treatments and 150mg of amitriptyline I am finally doing much better. My point to writing this is please don&#039;t ever give up!',\n",
       " 'This product is great. I have tried several different sleep aids and this one helped me the most.',\n",
       " 'Was prescribed Endep 10 for the pain associated with an attack of Shingles.  The effect was very good as I had very little pain from the rash or the nerves affected by shingles.',\n",
       " 'I experienced my first migraine when I was roughly 10 years old. I&#039;m 32 now. Last month (July 2010) I had a particularly vicious attack which lasted 1 1/2 weeks. Following a few days of relative calm, a second migraine (or continuation of the previous one... who knows?) occurred and essentially disabled me for an additional 1 1/2 weeks. After much research, I talked to my physician and decided on a treatment plan which includes taking 25mg of amitriptyline (Elavil) at bedtime every night, as well as Maxalt MLT and a nausea drug when needed. I&#039;ve been taking the amitriptyline for nearly two weeks now and so far so good. The side effects are noticeable, however, and include drowsiness, fatigue and dry mouth. Will keep you posted.',\n",
       " 'Started on 20g which worked well and helped me sleep.I  have just gone up to 50mg taking my first tonight looking forward to them kicking in',\n",
       " 'After I had kids I started getting migraines. I&#039;ve had them for over 5 yrs. I started taking this medication and I&#039;ve been on them for a little over a month. The first few days (2 or 3) I slept like a rock. I even felt weird like I was in a dream. Those side effects went away after the third day. I haven&#039;t had 1 migraine since I started taking this medication, and I&#039;m able to sleep through the night too. I would recommend this to anyone with migraines.',\n",
       " 'TERRIBLE!! It has been 4 weeks and I have been experiencing Insomnia. I tried every Naturalpathic remedy and method that one can think of; EFT, Meditation, Hops, Chamamille, on and on and on... Nothing worked.. So, I broke down, went to the doctor and he gave me this medicine. I told him that I lay there and think - Nothing Negative, I am a happy person, but just lay there thinking about stuff. This medicine made me CRAZY; I was pacing and angry and pulling my hair (metaphorically speaking).   It is a Psychotropic drug - NASTY STUFF! So, as I sit here ANGRY at the doctor for giving me a psychotropic instead of a sleep aid, I am getting more and more irritable....  IN THE TRASH IT GOES!',\n",
       " 'I have been on Amitriptyline HCL 25 mg at bedtime for less than one week and wake up groggy for about 20 minutes. I fall asleep but will wake up at least twice during the night but I will fall back to sleep. And talk about the vivid and wild dreams which I have never experienced before! I think I am very sensitive to this type of medicine.',\n",
       " 'Diagnosed with depression/anxiety 10 years ago. Have practically been on every SSRI, SNRI, Seroquel, ALL kinds of benzos (do NOT recommend- highly addictive!)  I felt so frustrated that none of the anti-depressants were working for me and avoided tricyclics for fear of weight gain. Last week I finally realised that I need serious help as I was planning suicide. I&#039;m back on 100mg endep and 25mg Seroquel if needed at night. I sleep fantastic, wake up feeling so refreshed. Sleeping makes a HUGE difference, and the funny thing is now that I&#039;m feeling good, I&#039;m out of bed and exercising. I know it&#039;s scary to think about weight gain but it really is different for everyone and it&#039;s worth a shot! Endep&#039;s been the only one for me. Good luck!',\n",
       " 'Took this for IBS-C for about 2 months, 10 mg. Worked great for pain, even a bit for my anxiety. Unfortunately, gave me hard stools which was already a problem. Took more miralax and it helped with that. Still made me drowsy after a month. I suggest taking in the early in the evening so you don&#039;t feel groggy in the morning.',\n",
       " 'I started with 50 mg, and had about 7 migraines each month for the first 2 months. The neurologist increase the dosage to 75 mg, and I only have 3 migraines in a month. Before I started to take amitriptyline, I had migraines every other day.  The neurologist said the migraines are rebounding and my brain was screaming for Maxalt or Imitrex.  I haven&#039;t been needing to take Maxalt and Imitrex for 3 months now. Amitriptyline doesn&#039;t affect my mood, but I feel my body is retaining water and have constipation too.  I&#039;d rather have these side effects than migraines.',\n",
       " 'I don&#039;t like taking medication, but my headaches were now in a state of chronic tension/migraine being triggered by anything excessive like exercising, too much cleaning, too much activity, too much light or stress. I was prescribed Elavil for headaches, irritable bowel syndrome, sleep trouble, back, neck, and arm pain. I&#039;ve taken it for a week, and after one dose, the first thing I noticed was an awesome night&#039;s sleep, and no neck or jaw pain, pain on rising.  I feel completely relaxed in the morning, a little drowsy but am able to function and get my three kids to school. I have been taking it at 10pm and feel tired until noon, so I think I&#039;m going to take it earlier in the evening. I haven&#039;t noticed any side effects at all. I am taking 10 mg.',\n",
       " 'Amitriptyline is very effective in my Interstitial Cystitis treatment. I took half of 25mg at dinner time. Both frequency and urgency went away.',\n",
       " 'The side effects were limiting especially tiredness and not sufficient pain relief.',\n",
       " 'I normally get headaches or migraines approx 4-5 times a week and have for many years. I have tried many different medications and nothing seemed to help or stop them. Finally I was given this pill and am taking 10mg per day. Since I have been on this medication I get 1-2 minor head aches in a month! Amazing!  Life changing! My nuerologist decided to up my pill to 20mg per day to see if it would completely get rid of them and since I started the 20mg my headaches and migraines have come back! I have now gone back to the 10mg per day and am hoping it will go back to the almost none existent headaches and migraines. So far so good. So be careful changing your dose otherwise such an amazing life changing pill for me! No side effects for me.',\n",
       " 'I&#039;ve had cyclical vomiting syndrome for about a year and a half and was diagnosed about two months ago, as soon as I was diagnosed I was put on amitriptyline. The only side effect I have noticed is a bit of sleepiness, but not enough to really affect my life. Amitriptyline has given me back my quality of life and I&#039;ve started uni and am looking for part time work, this would never have been possible before being on amitriptyline.',\n",
       " 'I&#039;ve had Interstitial Cystitis for a little over 6 years. In the beginning, I tried all sorts of things - hydraulic distention of the bladder, Elmiron, all different kinds of prescriptions - nothing helped. Eventually I read about Elavil online and asked my doctor about it. He put me on it 4 years ago and I&#039;ve been on it ever since. It is the ONLY medicine that has helped. I take 20mg a night. I also take Desert Harvest Aloe pills - 2 every morning - more when I flare up. I have occasional flares (like right now I am in one)), but for the most part, my Interstitial Cystitis has been under control for the past 2.5 years. \\r\\nSide effects - In the beginning, it made me very tired. Also caused me to gain about 30-35 lbs, but I&#039;ll take it over IC pain.',\n",
       " 'Cured my migraines within the week, though eventually went off of the medication due to its side effects. Blood rushed to head every time I stood up causing me to faint once, and extremely dry mouth.',\n",
       " 'So I was prescribed 25 mg initially I slept like the dead and saw a reduction in migraines though had low energy that wore off after about 3 weeks .. So did the reduction in migraines in 5 months I gained over 20lbs which very carefully watching my diet so definitely not for me ... On the upside it significantly reduced my anxiety and stabilized my mood ... I would have definitely stayed on it just for that if it wasn&#039;t for the weight gain.',\n",
       " 'I have been suffering from migraines since I was 12 and getting them around 3 times a week. I am now 17. I was originally put on amitriptyline 10mg. Since then they would up my dosage by 10 mg until I found relief. For awhile 50mg was doing the trick plus it helped me sleep at night. But then the migraines came back. At one point I had 6 migraines in 3 days and I was put on steroids to stop the cycle. Now I&#039;m taking 75mg every night. That was working until recently I started getting them again worse then ever before. Every time I get them I experience: weird vision loss, nausea, vomiting, lose feeling in arms/hands/mouth, excruciating pain all around my head. I have a lot of the side effects which make me question if I wanna take this anymore.',\n",
       " 'I&#039;ve taken Elavil for 14 yrs for irritable bowel syndrome and depression. I suffered with IBS for 5 yrs and had every test  possible and even had my gallbladder removed. It really makes me sleep but after taking it the 1st night, I KNEW it was the magic medicine for my irritable bowel syndrome. As long as I take 25mg each night, I have zero irritable bowel symptoms. It saved my life.',\n",
       " 'It is a great drug. I was having really bad freak outs everyday and now im doing fine.\\r\\r\\n\\r\\r\\nHowever, it does make you tired.',\n",
       " 'My migraines started from caffeine excess and a pour diet. After suffering daily migraine attacks for two months I tried the following without success: Fioricet, Taylenol , Depakote, Naproxen and Fluoxetine. Then I tried Amitriptyline 25 mg with a complete stop of the pain (I am so happy, I found it). I have been on it for 2 weeks with success. I don&#039;t really want to increment to 50 mg because it made me sluggish the next day. Overall it&#039;s been a miracle for me. Really cheap, I suggest you try. Good Luck.',\n",
       " 'Am taking Co codomol 30/500 and Ibrufren 400mg x2 for 10 years as doctor could not find the reason for my pain. Had many scans and therapies but nothing so they just told me to take the tablets. When we moved house I changed doctors and went to him for a repeat prescription. He asked why I had been taking them so long and what doses I was taking. I was taking 8 x co comodal and 4 x ibrufen a day. He diagnosed me with fibromyalgia and suggested I try Amitriptyline. He suggested 10mg at first raising to 20mg if I had not side effects. He said to carry on with the pain relief when I felt I needed it. I took some time off work and went ahead. It was amazing. I slept through for the first time in 10 years. So happy and reduced pain meds by half.',\n",
       " 'Started in 10mg per day of amitryptyline for daily jaw pain due to clenching teeth during the night. Was waking up everyday in agony. 10mg seems to have stopped the jaw pain however was still waking up with terrible headaches every day. Doc increased dose to 20mg. This had stopped the headaches too. Also suffer from migraines. Not had one of these either ',\n",
       " 'I  had insomnia due to hot flashes which began 8 years ago. My blessed Dr. prescribed 25 mg amitriptyline a night. I no longer wake up repeatedly due to my &quot;internal combustion&quot;. Life is normal again.',\n",
       " 'I&#039;ve tried at least 10 different medications. I&#039;ve been on Lyrica for 4 months, now on Elavil of 10 mgs. I try to take it at 9pm, it helps me sleep. I go to bed at 1am but not all the time. And it helps me a lot with my chronic migraines however when I wake up at 10am, go back to bed an hour later, then wake up at 3:30pm.',\n",
       " 'I&#039;ve used this drug 2 times for pain and spasming due to focal distonia.   First time was ten years ago and I had no response to it at all: not better, not negative.  Then recently for focal dystonia and arthritis pain, and am rhappy with the results.  I&#039;ve been in constant creepy pain for a couple decades and for the first time, I have actually walked down the street, a couple times breathing freely and comfortable in my skin.  I use 100 mg with tramadol, but the elivil is the closer.  Weight gain and itching are side effects but if you start out knowing you&#039;ll crave tubs of ice cream you can discipline yourself and the food cravings become manageable instead of being a toss up between 50lbs overweight or pain.',\n",
       " 'I took Elavil for two years and slept like a champ! I tried everything else on the market, prescription, herbal, over the counter and nothing worked like this did.',\n",
       " 'Have been given Diazepam 10 mg, Tramadol 10 mg, Codeine Phosphate 10 mg, CoCodamol 30/500mg and Naproxen 500mg. (Not all at the same time.)\\r\\n\\r\\nNone of which have helped the pain in my lower back / butt.',\n",
       " 'I had stomach problem since 2009. I am not going into detail cause no one is interested in my entire experience with IBS. I should say that due to IBS I had to quit university, part time job and worse of all the woman I have been with since many years left me. So I went from being one of the most social people to being one of the most lonely people. \\r\\nA doctor one day wrote me a script for &quot;amitriptyline&quot; I don&#039;t need to explain how it effected not only on my stomach but it has brought a great change in my life as a whole, it was just spot on!',\n",
       " 'I was put on 25mg of amitriptyline because of my dependence to zoplicone (a horrible sleeping pill). It took a few weeks for the amitriptyline to kick in but once it did I was able to easily fall asleep, stay asleep for 8-10 hours and wake up feeling refreshed. I am happy to say that it&#039;s been 3 months and I haven&#039;t had to take any zopiclone which is a big deal for me. I only take 10mg now a night but actually feel like I don&#039;t even need it. I plan to completely stop it next week.\\r\\n\\r\\n',\n",
       " 'This medication helps with flare ups and helps me sleep through the night. ',\n",
       " 'I must say that the migraine suffering that I had for years is almost gone.Although today I have slight headaches.My MD prescribed me with a heavy dosage but after checking out from the hospital after an angio,the cardiologist reduced the dosage which prevents me from feeling sleepy.',\n",
       " 'I suffer an array of chronic pain / low back and leg issues - My doctor, after many failed attempts of finding the right medication for me, used this in conjunction with the muscle relaxant Robaxin and in the first three days there was notable significant relief of virtually all pain. I continue to take 75mg twice a day and I feel like I have my life back again. This medicine has been a blessing.',\n",
       " 'I had a very hard time sleeping. Most of the time I would stay up till 5 or 6 in the morning. I tried this pill and oh boy did it work. I love the feeling of being sleepy when I take these because I don&#039;t really know what that feels like anymore since I can never sleep. I am only on 20mg but I vary from 20mg to 40mg. I do not feel like they are addictive but I do enjoy how they put me right to sleep. They are great pills if you have trouble sleeping.',\n",
       " 'Amazing difference.',\n",
       " 'Most effective antidepressant. Works way better than SSRI and Effexor.',\n",
       " 'For the past 4 years this medication has been great to me. I was prescribed this because I have had horrible TMJ. At night this would ease my pain. It would also relax my jaw enough to sleep and not have clenching and grinding. I&#039;ve only had 2 problems taking it. It has gave me nightmares and it makes me so sleepy that I rarely get out of bed on time the next day. But all in all it has helped me.',\n",
       " 'My migraines have been cut in half by using 10mg elavil daily. I used to get severe headaches 2 times per month lasting at least 3 days each. Now I get about 1 every 4-6 weeks and for the most part they last a day or 2 and are\\r\\r\\nMuch less severe. I used to be bed ridden for days and it&#039;s happened only once or twice since starting elavil 6 months ag. I pray that this continues and that I don&#039;t build a tolerance and have to up my dosage because I don&#039;t like taking meds',\n",
       " 'I have been taking amitriptyline for 2 weeks for irritable bowel syndrome. Until now I was taking Buscopan 3-4 x a day. They were really good and helped my problem with diarrhea but on the odd occasion I&#039;d still get a flare up and had to watch what I eat. I now take 10 mg of amitriptyline each night and am pleased to say, I&#039;m now able to eat whatever I fancy without getting the gurgling tummy, bloatedness and urgency to use the loo. ',\n",
       " 'Since my car accident a little over year ago I shattered my femur, had a compound fracture in my tib and fib and had previous issues with my back, bad L4 and L5 herniations and my S1 is also herniated as my sacrum was fractured in the accident. It was a very traumatic accident, if you saw the pictures of my car you would have a hard time believing anybody lived through it so I now have lots of hardware in my left leg and no idea what happened.  I had my dogs in the car and they didn&#039;t have a scratch. Been through 3 surgeries and numerous hospital stays and last weekend my 20 y/o &quot;bf&quot;/(was dating him) passed on, this medication has really helped me to be able to sleep through the night; including helping with pain, depression, anxiety &amp; grief',\n",
       " 'It makes me drowsy, so  take it at night but this is the only thing that has worked. I had dry mouth but i was temporary.',\n",
       " 'I was given elavil for my migraine. .I&#039;ve been taking 10 my for 1 week N now week 2 up to 20mg..I also have dealt with ibs-c..the migraine/headaches hav subsided a little..but my bloating N cramping N nausea r all still there..it did help my sleep the first week but I&#039;ve had trouble sleeping on week 2..from the other testimonials on here I&#039;m gonna give it a couple more weeks to see if more improvement occurs..',\n",
       " 'I&#039;m 20 years old and this medicine cured my nocturnal Enuresis (bedwetting). I take 25mg per night. Now I can focus on my other problems.',\n",
       " 'Taking it for migraine prevention and chronic pain and depression and sleep aid. Works great, went from 3 or more migraines a week to 3 in four weeks.',\n",
       " 'I was really depressed.... This helped',\n",
       " 'I was on Elavil 10mg previously for a few years and had only a handful of migraines in all that time. I decided to stop it for a year to see how I would feel, eventually I went back to 4-5 migraine days a week. I&#039;ve been on it for two weeks again, most of the initial side effects have subsided (dizziness, fatigue and dry mouth - nothing unbearable) and I have not had a single migraine since I took the first pill. I&#039;m now on 20mg - I take it to also help with arthritic pain and symptoms of Crohn&#039;s disease. I feel better than I have in a long time. I sleep amazing and wake up feeling good and energized. I have never experienced weight gain on this medication - however I do eat very healthy and exercise regularly.',\n",
       " 'Was given this medication for migraines, worst mistake ever, I had bad thoughts about myself, had panic attacks, lost control of myself. Only took it for two nights. Please read the paper because I didn&#039;t, only after. Never again. Good luck to everyone else x',\n",
       " 'I have had chronic pain since I was about 11 yrs old, I&#039;m 43 now, due to a genetic blood disease. It&#039;s caused arthritis that&#039;s led to neuropathy, spine degeneration, and many damaged joints. \\r\\n\\r\\nI have been taking toradol and gabapentin for nerve pain for almost 3 years. Recently a bleed in my feet caused extensive nerve damage that would make my feet burn at night. My doctor added 50 mg of Elavil to my bedtime meds and after 6 weeks I notice a significant improvement. It has been 3 months and 90% of my foot pain and numbness is gone. I have also noticed an overall improvement in my face pain and back pain.\\r\\n\\r\\nI am lucky enough to not have any notable side effects.',\n",
       " 'I took this medicine for anxiety and panick attacks. After suffering for several months trying all sorts of medication. It was this old school medicine that gave me hope that i can actually recover. It improves my general health condition. But  i found it difficult to wake up from sleep while i was still on this medication.It really helps but did not address the symptoms permanently.',\n",
       " 'I lost my hand in a car accident about 3 year&#039;s ago I got rsd because of that. Nothing truly helped my pain until I got on Amitriptyline. With chronic pain it takes all your energy but Amitriptyline helped me get my life back. I still have very bad days but I&#039;m able to clean again play with my kids. Thank too Amitriptyline I love life again.',\n",
       " 'Dramatic weight gain, heartburn, sleeplessness',\n",
       " 'After surgery to remove a kidney I developed IBS mixed. I was missing so much work and school and it only got worse as I got older. After moving I saw a new digestive health Dr. He put me on this with Levsin, omg the change was almost immediate. Within a week I was so much better. I&#039;ve been on them for about a year now and I still have a couple episodes once every 3 months or so but it&#039;s managed and controlled now. If I forget to refill or skip a dose, I suffer within 12 hours of the missed dose.',\n",
       " 'I currently take 25mg and sleep just fine.  Remember that lower dosages 25-50mg are for insomnia, the more you take you move into the antidepressant effects and become less effective for sleep. So 300mg isn&#039;t going to help your insomnia and may increase it.',\n",
       " 'I first started out at 50mg of Elavil almost 2 years ago.  It was like instant heaven!  I am a horrible insomniac and with Elavil I was getting good quality sleep and woke up feeling rested.  I was also on Lyrica at the time.  For a while both of them together had me feeling a lot better.  Unfortunately I have a very high tolerance to any medicine.  I am now at 150mg Elavil.  I can&#039;t imagine going any higher yet my pain is increasing so I don&#039;t know what will happen when I totally max out at this level.  I no longer take Lyrica as I became tolerant.  Savella seems to help with fibromyalgia fog but it doesn&#039;t touch my pain.  Give it a try. ',\n",
       " 'I have been sick for over 4 years now and been on this for the past 2 weeks and its been a miracle. I haven&#039;t been sick or in pain once. I don&#039;t mean I just vomit, I start and I can&#039;t stop for 19 of 30 days. So far the minute I took one, that night I have been more relaxed and less sick have been able to cut down my oxycodone and Zofran so I am thankful. I will let you know how it continues to go but so far its my miracle.',\n",
       " 'I&#039;m 27 years old and have been to the doctors many many times. I&#039;ve had nausea, vomiting, weight loss and headaches/migraines, for over a year now. I&#039;ll have a few days to a week with no symptoms and then they come right back. I&#039;ve had appointments with gastroenterologist and have had a colonoscopy and endoscopy done. I&#039;ve been to the hospital on a few occasions due to my vomiting. Doctors still don&#039;t know whats wrong. They have put me on acid reflex medications, which don&#039;t help much. I have talked to my doctor about the possibility of me having CVS. He hasn&#039;t said that&#039;s what I have but prescribed me Amitriptyline. Just started it yesterday... Hope it works. Close to losing my job if I cant get this under control.....',\n",
       " 'I&#039;ve used Amitriptyline for about 6 mnth now I sleep well, little harder to get up in the morning, It doesn&#039;t help my pain, but I do find I&#039;m able to cope better. Also I find using deep heat heat rub helps. I rub it into my muscles. My doctor says it ok as it an anti inflammatory.',\n",
       " 'I only take it when I get a migraine and I can then function at work. I take it maybe twice that day and don&#039;t take it again until I get another mygraine.',\n",
       " 'I am 58 years old and had headache since I was 7. I had taken tons of pain killers, had seen so many specialists and under taken numerous tests. Recently I did botox on my forehead on 2 occasions, none worked! I was desperate not knowing what to do. I had stomach pain too because of too much ibuprofen, aspirin and so on. My rectum suffered as well, as I frequently used diclofenac suppository. Now it is about 2 months I am on amitriptyline. Started at 10 and now at 75mg and it worked. Yes I am now living headache free, can you believe it. Thanks to my dear GP, and of course AMITRIPTYLINE.',\n",
       " 'I have suffered from migraine on and off since my teens always visual patterns then wham! the headache. A few years ago I just had the patterns and no pain then it changed to tension neck pain which which then turned into headache as soon as I woke up more or less daily. Imigran helped but was popping them like smarties. I tried giving up all the known triggers but nothing helped then a couple of months ago Dr prescribed Amitriptyline 25mgs every night I have had maybe 2 or 3 slight headaches since. First week I was a little woozy but that passed. Now I wake up with a dry mouth and food tastes different but no headache. It used to be unusual to wake up with no headache now its unusual to wake up with one. I recommend anyone to give it a try.',\n",
       " 'This was a miracle initially. Been on it since around 1995, I am up to 100 mg at bedtime. I now find it very difficult to get moving in the morning. I have NOT had constant PAIN since starting this medicine. I recommend it.',\n",
       " 'I was diagnosed with severe anterior bridging endophytis as well as facet joint arthropathy and some nuchal ossification in my cervical spine. Basically, my neck is fairly solid and I suffer intense pain shocks when lying down at night. The result was that I suffered from intense sleep deprivation and pain. I now take 10mg Amitriptyline. The result? Solid sleep every night, recovered energy levels and the large black bags beneath my eyes have dissipated. I used to wake up a couple of times each night to urinate, but now sleep for minimum 8 hours and usually awake bursting for the toilet!',\n",
       " 'Nothing has worked for me for anxiety, depression, or insomnia. Add this to the list. I wish I could find something that works. My doc put me on 50mg of this in the morning and before bed, along with 1 &amp; 1/2 1.5mg klonipin 3x a day and 2mg Xanax as needed. I was also given lexapro for depression. It didn&#039;t help at all. Caused sleeplessness, restlessness, worsened insomnia, weight gain and bloating, ED, and gynocemastia. Not sure which meds caused which, but I was also on nexium, water pills, and lisinipril. Got off all meds as fast as I could and am still suffering from stage 2 hypertension, depression, anxiety, SAD, insomnia, and GERD without meds. Life is rough, but at least I&#039;m not dealing with side effects.',\n",
       " 'I have rsd. This medicine takes away the pain almost instantly I love it. I can have my life back after taking this',\n",
       " 'I took Endep 25 for headaches. I felt drowsy even the next day. So I went to Endep 10. I need to to take it about 2 hours before sleep. Side effect -  ear noise which is going on for over 1 week now after 1 tablet. Going to stop it for a while due to side effect.',\n",
       " 'I am prescribed Amitriptyline due to side effects from Relapsing Remitting Multiple Sclerosis.  I have been taking it for approximately 18 months, and the only negative side effect I ever had was seriously dry mouth.  As I have continued to take it, the side effect has gone away.',\n",
       " 'I suffered from common migraine most of my adult life and had gone through just about every conceivable medicine there was including Sansert. Nothing seemed to help prevent them but I did have Imitrex to take when I had a migraine. But I took it too often and got rebound headaches. Then, with the 4th neurologist within 25 years, she prescribed 50 mg of amitriptyline to take at night. Immediately I was free of migraines and over 10 years have never had to resort to Imitrex. Amitriptyline changed my life.',\n",
       " 'I take it for sleep. Started on a low dose and increased later. I am not on 75mg per day. It is not expensive and is an old medicine so side effects are well studied. Only issue is that if I miss one dose you can feel depressed. Sleep is a huge part to conquering this. I have noted a huge difference in my sleep and how I feel on a morning. I am better able to work as well. Brain coming back.',\n",
       " 'This has helped a lot.  Less over thinking, more positive first thing.  It actually worked for me',\n",
       " 'I have troubles with Anxiety and insomnia for years I&#039;ve been on different types of medicine and some of them helped but I just went to my doctor On 8/15 and He put me on Amitripyline 50 mg so I take that night and I must say that&#039;s the best sleep I&#039;ve had in a long time , I woke up feeling good I had plenty of energy and my mood was totally different I have 28 employees and sometimes it can be VERY stressful but I went to work feeling GREAT and I&#039;ve only took 1 pill so far !!!! I&#039;m looking forward to a new me since ❤️',\n",
       " 'Ive been taking this for about 3 1/2 years. It works great for what I take it for. The only problem I have, which is a huge problem, is increased appetite and weight gain. I&#039;m actually gonna start a different medication for nerve pain. Amitriptyline has helped but I&#039;m also battling obesity. This medication doesn&#039;t help at all in that area. Im still young, mid 30s. So maybe I&#039;ll resume taking it when I&#039;m in my 60s or 70s. I wont care so much then about the weight gain. ',\n",
       " 'I was diagnosed with IC when I was only 15 years old. The doctors were not sure what they should do because I was so young. My doctor decided to put me on amitriptline and immediately I saw improvements. I am now going to be 21 and still taking 50 mg of it every night before bed. This medication is the only one of my many medications (other health problems) that I will never stop taking. I would recommend this medication to anyone struggling with IC pain .definatly talk to your doctor about it!',\n",
       " 'My doctor prescribed 25 mg nightly before bed to help prevent migraines. I&#039;ve been taking it for about 2 months and I&#039;ve gone from 6 separate migraine attacks in a 2 week span to 4 in a two month span. I may need to up the dosage soon because 3 have been recently (within the last month). Anywho, helps me sleep wonderfully at night without making me groggy before or after bed. I also have no harsh side effects like thoughts of suicide or anything like that. 10/10 would recommend for migraine sufferers - I have it a 9 because I think I need to up my dosage.',\n",
       " 'I have taken over the counter sleep aid for 7 years and the past year they stopped working for me and I would fall asleep but would wake up several times a night and it would take me 2-3 hours to go back to sleep so I asked my doctor for something better and she started me on this medicine 25mg a night at bedtime for sleep and pain and I&#039;ve been taking it for 2 weeks now and I sleep so good and if I wake up I go right back to sleep and I wake up in the morning with no pain and feeling refreshed.',\n",
       " 'I take 50mg every night before bed to help with sleeping.',\n",
       " 'I have been using amytriptyline for about 8 weeks now for chronic pain in my elbow following an injury. I started at just 10mg a night and after each 4 day period increased it by 10mg until I reached 30mg. This was on Amitrip-10. As my body adjusted the pain would return. I was suffering from dry mouth, morning drowsiness until about 10.30am and certain level of confusion. I eventually had to increase to 40mg and was doing really well - pain free for the first time in 2 years. Then the funding agency Pharmac changed the supplier and my next prescription was Amirol. I had to almost double the strength for effective relief, in spite of the claimed same dosage. So be careful if you change brands.',\n",
       " 'I struggled horribly with severe anxiety for years I tried all kinds of natural remedies and doctor prescribed medicines but nothing worked long term then two years ago I was diagnosed with interstitial cystitis and was prescribed AmItriptyline  for pain but what I got was amazing relief from my anxiety and stress now I know what people mean when they say &quot;I got my life back&quot; I take 5mg before bed I sleep great and have a little trouble waking up cause I sleep so well but once I&#039;m up I&#039;m fine no drowsiness and no more anxiety',\n",
       " 'Very good',\n",
       " 'I was having bad headaches, and recently stopped taking Zoloft, it didn&#039;t work. This helped a lot with the headaches, and helped me to sleep better. I starting having more vivid dreams while sleeping. This is the best antidepressant I&#039;ve taken. I didn&#039;t even know it was an antidepressant till I looked it up. As I swore never to take antidepressants again but it helped with the headaches, so I guess I will just keep taking this magic pill. I wish I was prescribed this years sooner!',\n",
       " 'I think this medication really helped with the Interstitial Cystitis but unfortunately it gave me terrible headaches. Every morning - after about a week of taking 10 mg&#039;s of this - I&#039;d wake up with a terrible migraine. It would last all day! At first I wasn&#039;t sure if it was the medication but now I&#039;m positive. I stopped taking it (after 3 weeks of use) and my headaches all but disappeared. In my opinion, the headaches were just as bad as the Interstitial Cystitis! I don&#039;t know if anyone else here has had that experience but it certainly happened to me. Good luck everyone.',\n",
       " 'I was prescribed these for insomnia and anxiety. I&#039;ve been on every anti-depressant you can think of, all with awful side effects. I do get a dry mouth, tiredness, headaches and mild anxiety with Amitryptaline, but it&#039;s much more manageable - I was suffering from daily, pretty constant anxiety before starting Amitryptaline. I&#039;m on 30mg. My sleep is 90% better (which after 12 years of chronic insomnia is a amazing).',\n",
       " 'I started getting tension headaches everyday for months around the same time late in the afternoon.  No matter where I was, the cycle would continue and cause stress due to the headache.   A GP started me in 10mg daily.\\r\\n\\r\\nIt takes about two weeks to feel the effects.  This drug has greatly reduced my pain and helped break the cycle.\\r\\n\\r\\nSide effects are morning drowsiness, occasionally blurry vision, and sleepiness.',\n",
       " 'I used this for a year for insomnia, but once my sleep cycle got better they took me off of it.  I am going to ask for it again as I have been reduced to 3 to 4 hours of sleep once more.  I hope it works as well now as it did 20 years ago.',\n",
       " 'I started on a very low dose, like 2.5 or 5 mg, then 10mg, then 25 and now I&#039;m on 50. I started seeing a definite decrease in my migraines at 25mg so my doctor doubled my dose, but nothing new after 3 weeks at 50mg. It&#039;s nice that this is an anti-depressant too, I feel happier since I&#039;ve been on it. Haven&#039;t noticed any weight gain and I hope I don&#039;t ever. Anyway it seems to just block my usual triggers, they just don&#039;t bother me as much as they used to. I still get migraines once or twice a week, worse with heavy stress, but I have been amazed at how I can go out into the sunlight or exercise without immediately getting a migraine. Amazing.',\n",
       " 'Started taking 20mg before bed. I have fibromyalgia.  I also take 150mg of lyrica a day to make it threw an 8 hour shift. Without lyrica I wouldn&#039;t be able to work at all.  \\r\\nI would wake up with my hair being a total mess like I was sleeping restless. My doctor said to start this at 20mg before bed and if that dose doesn&#039;t help increase by 10mg until I get to a level that works.\\r\\nFirst couple nights have been wonderful. But I have been waking up at 6am both days and can&#039;t go back to sleep. I feel rested and alot less morning pain. Doctor is hoping I can go off lyrica.  Lyrica is causing me to feel high.  I get 8-9 hours relief with lyrica and then my pain comes back. \\r\\nI have gained about 10lbs while on lyrica but at least I can work.',\n",
       " 'Not effective for me.  When not producing results, physicians will increase the dose.  Eventually, it just knocked me out.  I thought I was sick and fatigued.  It turned it was the medicine.',\n",
       " 'I took this drug for low back pain and anxiety. I stayed on for two weeks at only 10mg before night.  It does help you sleep and does prevent migraines, without a doubt.  However, I woke up with a lot of pain in my upper back and chest from muscle spasms I guess.  Every night.  And you can&#039;t drink alcohol at all unless it&#039;s late at night after the drug wears off.  Oh, and it doesn&#039;t help with anxiety or panic attacks at all.',\n",
       " 'I&#039;ve been on it for 4 years and it does much more for my bipolar and extreme anxiety, then it does for my pain. I am now taking 50mg morning and 100mg evening. The new increase at night does seem to make my sleep a lot less uncomfortable and broken up.',\n",
       " 'I&#039;m on 200 mg at night. I know it&#039;s more than most people. I have chronic pain from degenerative bone disease plus I&#039;m bipolar. This med is old school but it has helped me more than any of the newer meds. It is worth trying if other meds haven&#039;t helped.',\n",
       " 'Take this for migraines, I take this at night as it also helps me to sleep because of the drowsiness, only thing that controls my migraines.',\n",
       " 'Horrific.  First thing, 1st pill, was extremely dry mouth with a dry cough that last a couple of hours.  2 day same  but now accompanied with an internally anxiety accompanied by insomnia.  Within a week, felt like every adverse reaction mention in pamphlet and online was applicable plus some not mentioned (dry mouth, blurred vision, centralized stomach pain/gut, constipation and blurred double vision... OH! not to mention the vivid racing dreams anytime I could fall asleep.)  When I mentioned to Dr., his feeling was for me to continue meds.  Issues would work themselves out within a couple weeks more.  &quot;Ok doc. I&#039;ll give it a couple of weeks more of this torture these pills have put me in.&quot;  Went home and tossed them in garbage.',\n",
       " 'I suffered with extreme leg pain for two years only when I was lying down. I was on Panadol (No good) then Tramadol (No good) I had so many sleepless nights or nights where I had to sleep sitting up. I was fine walking around but the moment I laid down the pain started. My doctor put me on Amitriptyline 10mg and after a week of being on it I have had no pain at all and sleep all night. I have been on it for just over a year. Happy person.',\n",
       " 'This made me so tired that I had to stop taking it.  I felt drugged 20 minutes after taking it (I took it at night) and then I was groggy the entire next day.  Plus, the first night that I took it I woke up with a migraine that wouldn&#039;t go away after my Imitrex Statdose injection.  So now my doctor put me on a beta blocker.  It makes me a little dizzy but I can actually function!!  Guess it works for some people but I couldn&#039;t drive and there&#039;s no way I could go to work on this...',\n",
       " 'No relief. Just made you completely wiped out.',\n",
       " 'I have always suffered tiredness depression whenever I didn&#039;t get a good night&#039;s sleep. I was sent to a specialist re an unrelated matter with chronic sinusitis. He said he diagnosed myofascial disorder and prescribed Endep 10g and I couldn&#039;t believe the difference. No more waking up in a haze and feeling anxious. I have since had a difficult marriage break up to deal with and increased the dose to 25mg. I don&#039;t know how I would have coped without this drug. I hope to get back to the 10mg once I have my life back once settlement is done and I move on.',\n",
       " 'I developed fibromyalgia recently. I had been on low dose of a similar medication (Doxepin) for long time, mainly for a sleep disorder. The neurologist I saw for my fibromyalgia suggested switching from Doxepin to Amitriptyline. Overall, I am glad I made the switch, as my fibromyalgia is now much more manageable. I take 35 mg of amitriptyline nightly. Initially very sedating, but now less so. It has also helped my irritable bowel syndrome. On the negative side, it has led to constipation problems, and my irritable bladder (bladder urgency) is now much more chronic, which is surprising because amitriptyline has higher anticholinergic properties. But my pharmacist feels that Doxepin must have helped me more with that. NOTE: Beware of combining amitriptyline with Detrol LA (for bladder urgency).',\n",
       " 'I just started taking it last Thursday and I am so happy that it is working, no headaches (except one today).  I feel like I&#039;m in a dream!  No one around me understands how miraculous this is, suffered with them for 30 yrs now.  I feel like a normal human.',\n",
       " 'Amitriptyline immediately worked wonders on my urinary tract pain. I am almost afraid to say how well it has worked because I do not want to jinx it, but it has done wonders for me. Not sure about the weight gain. Not sure if it is the Amitriptyline or the excessive calories and lack of exercise that has put on the pounds. My guess is it is probably more likely due to my eating and exercise habits. I sleep better at night with a deeper sleep REM. I, too, have vivid dreams and do sleep longer.',\n",
       " 'Been suffering from severe right eye &amp; top of the head pains, which normally develop into excruciating migraines and last for hours so I&#039;m forced to take Migraleve which helps sometimes and go to bed with lights off and just rest. My doc prescribed me Amitriptyline and I took it 5 times in a month so far. I get a few side effects (insomnia, depression) and can only take them a few hours before bed as they still affect me the day after (sleepiness, tiredness, inability to focus). It does work almost immediately, and the effect last for a week even, which is great. I feel very relaxed but I noticed that I started feeling without reason rather depressed, to the point that one day I actually felt a bit suicidal so I stopped taking them for a week',\n",
       " 'I have been on amitriptyline for 8 months and it has supremely helped my condition. Although I still have one or two migraines a month, I was having them almost daily before starting on the amitriptyline. I was hesitant to be taking an anti depressant, especially after trying at least a dozen of other medications, but I am glad that I trusted my neurologist.',\n",
       " 'I have been taking 25mg amitriptyline for over a year now. My migraines have almost disappeared which is very good as I was having 2 a month lasting up to 3 days each. I&#039;ve had Migraines since I was 14 and had hoped that I would start to get better after the age of 60. But not so I&#039;m 68 now and will continue the pills though I&#039;m worried about long term use. I get it on the national health here.',\n",
       " 'I have been depressed and not getting sleep at all. After I had my first baby I took Xanax didn&#039;t help finally I told my doctor I need some medicine at least for sleep and he prescribed Elavil and it works for all of my symptoms, depression, anxiety and I sleep like a baby. 50mg at bedtime, try it - it is old medicine but it helps.',\n",
       " 'Chronic severe pain from fibromyalgia, Crowns, degenerative disease, arthritis and more. Just went to see a new psychiatrist and he prescribed 50mg nightly for depression and anxiety. I am almost pain free. I can&#039;t believe all the docs I&#039;ve had over the years never thought of this. It is definitely is worth talking to your doc about it is truly a Godsend !',\n",
       " 'Works well against nerve pain- and Interstitial Cystitis in particular.  Good stuff.  Does take some getting used to and will leave you groggy in the morning for the first few weeks.',\n",
       " 'I&#039;ve been on amitriptyline for one month now; it was given to me for migraine prevention and insomnia.\\r\\n\\r\\nAfter the first few weeks, I filtered out the adjustment side effects and looked at what was left.  It didn&#039;t prevent migraines, it just delayed them.  Hit a trigger, get a quick pain blast, a tingle, and the migraine would set in a few hours later. 31 days, 16 with migraines.  A sleep efficiency of 52%, almost never in blocks lasting an hour, averaging just over 4 hours per night.  Raised blood pressure. Toward the end, walking black outs. In the 3rd week, starting having constant paranoia. The blackouts did it, though. I see the neurologist tomorrow and ask to be taken off; I&#039;m worse on it than I was without it.',\n",
       " 'This is great at helping with my headaches! There wasn&#039;t any cause for my migraines/frequent headaches and I wanted to solve the problem. It either makes them go away completely or decreases the pain dramatically so you&#039;re able to function beautifully. However, I do get dry mouth and I feel like I have to go and pee a lot. Which are two side effects and you do get tired but mostly when it&#039;s at night when you take them so it doesn&#039;t matter too much.',\n",
       " 'I&#039;ve been on 20 mg of amitriptyline at bedtime for insomnia for 6 years now.  I had been on valium after a bout with acute stress disorder, but found it highly addictive and found myself going to my shrink not for therapy, but just to get my RX renewed.  I knew then that I had to get off the valium.  My GP suggested the amitriptyline, and it is great.  No side effects, and it LETS me sleep, it doesn&#039;t MAKE me sleep.  It also lets me get back to sleep if I have to get up at night to use the bathroom.  My doc told me to start with 10 mg and move up by 10 mg increments until I found a dose that worked but that didn&#039;t leave me hung over the next day.  10 mg worked.  30 mg put me in a fog til noon the next day.  20 mg has been perfect!',\n",
       " 'I have been on a 75mg of Elavil for over a year now for degenerative disc decease and 2 bad knees, it helps me sleep but the pain is still bad even with a morphine patch and oxycodone, but maybe my case is a rare one.',\n",
       " 'Like many who have commented here, I have experienced almost total relief from recurring migraine headaches - due to cranial nerve inflammation stemming from arthritis in C4 and C5.  Before I started the amitriptyline, I had a strong headache nearly 24/7 with crushing flares maybe 2x per week.  I was treating them with NSAIDs and Tramadol to keep them under control, with a &#039;triptan&#039; for the flares.  My doctor put me on a regimen involving titration from 50mg up to 300mg over a 5-week period.  I only got to 150mg before the side effects (lethargy, dry mouth, constipation) were too much for me.  I have backed down to 50mg before bed and that is working pretty well.  My quality of life is SO much better. You&#039;ll get used to the side effects.',\n",
       " 'I suffer from a migraine almost every day of the week. I missed 3 months of school from January to March and failed all my exams because of them. I started on 10mg of amitriptyline and had no effect. Over a period of about 5 months I had reached a 40mg dosage everyday and still had no effect. Still suffering from migraines almost every day. On my 4th tablet now so hopefully this one might work! Glad it worked for some people though.',\n",
       " 'I would get migraines that would last for 4 days... triggered by someone walking by smoking e cigarette or aspartame... I started elavil and I noticed the difference within days...',\n",
       " 'I had an operation 8 weeks ago which has upset my sleeping. I was given zopiclone for 2 weeks which did make me sleep but no more than 4 hrs per night. Since last Friday I am on 50mg of amitriptyline and the first night I slept but felt like a zombie the next morning - couldn&#039;t feel my shins or feet and very spaced out. This morning, 6 days since I started amitriptyline, I haven&#039;t slept and when I say that I mean that - not a wink of sleep in the last 3 night&#039;s. I was passing out yesterday with exhaustion. They have reduced my dose to 35 and I will persist but at this present time it hasn&#039;t helped me at all, just made me worse. I am hoping it will come good because the reviews are inspiring.',\n",
       " 'I don&#039;t remember since when I stated to have insomnia , usually it takes me 2+ hours to fall asleep , and I always wake up a few times at night . I tried to do excercies to make myself tired , still no improvement on my sleeping . Things even got worse recently , I went to my doctor and he put me on Amitriptyline 10mg . Omg , it work so well , the first day I took , I had slept like 10hours (was at weekend ) .  I am on my third week with Amitriptyline, my doctor prescribed me only for a month , I don&#039;t know if I can sleep well without it after a month . But this medicine makes me very calm and happy everyday because I can sleep well and wake up every morning refreshed .',\n",
       " 'Having been diagnosed with Fibromyalgia &amp; night terrors a few years ago, I was taking the maximum amount of paracetamols &amp; Ibuprofen daily which were providing very little relief from the chronic pain. After being prescribed 20mg Amitriptyline to be taken nightly my sleep has been amazing and pain levels are almost nil! I feel I have my life back now, I was concerned that I may be a little drowsy in the mornings as I have to drive to work early but I felt fine and 100% &#039;with it&#039;. The most amazing feeling ever is one of not having to adjust everything I have to do daily to fit around the pain/muscle spasms etc...I also keep a &#039;pain level&#039; diary which is a real help on looking back.',\n",
       " 'Irritable Bowel Syndrome sufferer for years.  Amitriptyline works really well for me.  There are still certain foods I avoid and I very occasionally get a flare up (normally because I have either over eaten or eaten something I would normally avoid).  I take 20mg at night time, I did try to reduce this down to 10mg but after a couple of weeks all my symptoms were back, pain, bloating, constipation, etc.  I&#039;d advice anyone suffering to give it a go.  It took several weeks of taking it before I experienced significant relief of symptom.  Although I read that for some people it works straight away.  Hope this helps.',\n",
       " 'Used it for a month started at 10 mg-20 mg. One of the worst drugs I have used. It left me so sedated that I couldn&#039;t wake up in the morning and wanted to sleep all day. It helped with head aches but I couldn&#039;t concentrate, felt overly emotional, crying and angry. I found it hard to drive from lack of focus 18 hours after taking pill. I had a deep sleep, but not a restful one, the dreams were bizarre. Dry mouth and irritable too. Not worth not having a headache to have all of these problems. I am very sensitive to medication as I don&#039;t drink so it was not for me. Oh and I gained three pounds in first two weeks using it.',\n",
       " 'Having suffered with irritable bowel syndrome for about 20 years and experiencing bloated stomach and being doubled up with stomach pains after virtually every meal I had consulted a specialist, tried various diets and self-medication and had no relief. This lead to me feeling constantly worn out and depressed. I really thought I was stuck with this for life and then ... I was prescribed amitriptyline. I started with 20mg and gradually increased to 50mg over a period of 6 months. The dosage was then gradually decreased and I was fine until I got down to 10mg, when the pains started to come back again. I increased to 20mg, which I have been taking for about 2 years and other than the occasional short flare-up, I have been fine. I have my life back again!',\n",
       " 'I had IBS so bad I was living on 8 Imodium a day, just to be able to function. Any less than 8 tablets, and I would be on the toilet all day. I even switched from working days to working a low stress night job as a caregiver because my stomach was calmer at night. I also had really bad migraines. I was averaging 12-15 migraine days a month. Finally, I went to the doctor and told him about both of my problems. He suggested amitriptyline to control both issues. Within a month I could tell a major difference. I&#039;ve been taking 50 mg every night for about 2 years now. My stomach still gets mildly sensitive occasionally. But I rarely get diarrhea and never have to take Imodium anymore. My migraines are down to about 4 or 5 a month.',\n",
       " 'I have been taking the tablets now for 3 weeks and felt no relief from pain after shoulder operation. I still take tramadol along with these tablets. My doctor doesnt think i need to be refered back to the specialist so just stuck with the constant pain... Happy days !!!',\n",
       " 'So I have been on amitriptyline for a little over a year and it did work wonders for migraine prevention but there are alot of down sides to this medication that the doctors don&#039;t make clear. It causes sugar and carb cravings like crazy you never feel full it&#039;s addictive and you can form a tolerance to it which causes you to have to go up in dose every once in a while. I have slowly grown to hate it because I personally have gained 40 pounds in less than a year taking this medication. I&#039;ve noticed lately that it hasn&#039;t been working as well for my migraines signalling an increase in dose. I am going to try a different medication because I&#039;m already taking 100mg of this one and I can&#039;t deal with the cravings and weight gain!',\n",
       " 'I had terrible IBS until I was put on Amitriptyline - it has made an amazing difference, it is easy to take, with no side effects apart from putting on a few pounds (I am now holding onto food long enough for my body to absorb the nutrients now I think!). I have not felt so good in a long time.',\n",
       " 'Elavil gave me a migraine every single time I used it and they lasted longer and was more painful and it also made me sluggish it was like taking 6 Benadryl.',\n",
       " 'Absolutely fantastic! Been suffering with severe chronic migraines for two years. Tried a handful of different triptans, topiramate and beta blockers (propranolol). Finally tried this and I haven&#039;t had one migraine since starting. It makes you incredibly hungry and I&#039;ve gained a stone in two months. However I&#039;d rather put on extra baggage than suffer everyday from severe pain.',\n",
       " 'I can&#039;t sleep worth anything so they took me off ambien to this saying it works well..I have to take up 125mg a night to fall asleep and it doens&#039;t work. I get bad headaches and I didn&#039;t take it for two days so I could have some drinks with a friend well it got me mad and sad and all of it almost ruined me relationship. Ever since being on this and paxil has not been good for me it made things worse.',\n",
       " 'I&#039;ve suffered from migraines/daily headaches that painkillers don&#039;t touch; symptoms include visual and auditory disturbances, and sometimes even partial loss of vision. Sumatriptan&#039;s the only thing that works but I need to take it daily, often twice daily.\\r\\r\\n\\r\\r\\nMy GP was alarmed at sumatriptan use so prescribed me 10mg amitriptyline a night, and after a couple of weeks the migraines and headaches were gone. Worked so well I went months without using sumatriptan and eventually forgot about the headaches, and stopped the amitriptyline because of the sides (huge appetite, weight gain, next day drowsiness), and I&#039;ve had a migraine from hell for a week and I&#039;m back to taking sumatriptan daily.\\r\\r\\n\\r\\r\\nRestarted amitriptyline, and I won&#039;t be stopping again!',\n",
       " 'I&#039;ve had migraines for ten years now (from the age of 16) which increased in severity to the point that I was rushed to hospital with a suspected stroke. I started on amitriptyline 5mg once a day which reduced the severity of the migraines but didn&#039;t stop them altogether. I was advised that I could increase this to 20mg a day and since then (4 months) have been migraine free. ',\n",
       " 'I am a 48 year old male in good shape but started experience horrible gas no matter what I ate which went on for months.  I woke up with cramps which lasted to mid morning.  I did not have constipation nor diarrhea just bad gas even on a simple diet of rice, toast and bananas.  My Dr diagnosed IBS and gave me 20mg of Amitripyline at night.  10mg for the first week then 20mg every night.  After the second week the cramping was 95% better and the gas was completely gone.  As an added benefit it took the edge off certain work related stress.  I am very happy my Dr put me on this medication.',\n",
       " 'I was on Lyrica for several years to manage chronic referral pain in my foot from several back surgeries.  Lyrica efficacy was wearing off and I was fortunate enough to change pain doctors, with the new doctor putting me on 30mg of Amitriptyline.  I&#039;ve been on it for about 5 weeks now and my pain level has come down substantially....I&#039;m now sleeping much better and it&#039;s cheap compared to Lyrica too.  Only 5 weeks, but I&#039;m loving Amitriptyline.',\n",
       " 'Suffered migraines for 30+ years. Lots of things trigger my migraine ( broken sleep, insomnia, having the slightest headache before going to bed, heat....I could go on!!)For the last 8 years I have been taking Sumatriptan with great success. I suffer migraines 5 times a week and the doctor was worried that I was taking Sumatriptan too often. He suggested amitriptyline. The migraines have decreased by 75%. I take 10mg of amitriptyline an hour before I go to bed and I must say I am very impressed.',\n",
       " 'I&#039;m 16 years old and I started taking Zoloft for depression about a year ago. I started off at 25mg then 50mg and things still didn&#039;t seem to be &quot;right.&quot; I was constantly sick and throwing up, and I just felt like it wasn&#039;t working. So they bumped me up to 75mg of Zoloft, and then to 100mg. For my body and age, 100mg was a lot for me to take but it finally made me feel better. I wasn&#039;t as down, but I had awful side affects. I couldn&#039;t sleep, eat, or do anything but lay in bed and I had awful migraines. I was so sick of changing meds but I couldn&#039;t deal with being this sick so on top of the Zoloft I was prescribed Elavil. It was like night and day. Helped me sleep and took all my side effects away!',\n",
       " 'Full Body Pain. Including head, shoulders. Unable to leave bed till 16 hours of taking pill of 10 mg. Dry Mouth. Self Forced to take leave from work.',\n",
       " 'I&#039;ve haven&#039;t noticed any help in pain with this medication thus far. I am taking 25 mg the only thing I&#039;ve noticed is that my sleep is actually worse I am sleeping less and staying more tired during the day even though I&#039;m taking it at night. I&#039;m really starting to think nothing is going to help my pain ',\n",
       " 'I have only been taking Elavil for two weeks but I&#039;ve been in pain for twenty years, I also have big problems sleeping and staying asleep. Since I started Elavil I have less pain plus I sleep well. I actually had a no pain day which I have not had in a long time.',\n",
       " 'I was very curious to know has anyone here been to a sleep specialist or even had a couple sleep labs done? I&#039;m familiar with all meds mentioned. If I had not been down that long road, I wouldn&#039;t know their names. I was bounced around with this med and that and combinations (as I have pain and other issues as well) Not until I had 2 sleep studies done, and after 4 yrs seeing a Neurologist who specializes in insomnia, narcolepsy, sleep apnea. He also has a Phd in Pulmonology but doesnt practice that any longer. There are definitive reasons why different people sleep or don&#039;t, how long, feel rested, or not.\\r\\r\\nThe body as is was meant to be awake approx. 15 hrs and asleep approx. 8-9 hrs. I would like to share some things that may help. K',\n",
       " 'I was having daily morning migraines and my doctor prescribed Elavil 10mg to take at night as a preventative medication. It worked right away and I love it since it helps me sleep too. I am very happy with what Elavil has done for me.',\n",
       " 'I have never been able to take any kind of antidepressant comfortably. I was put on Elavil to start, at 50mg after three months was raised to 100mg always taken at night of course. I was pretty depressed about several issues in my life, not the least of which was the fact my father was dying/died. I also take meds for anxiety/panic disorder, as well as pain, I was disabled before 1994, when I was hit by two cars; already disabled, this made the pain from fibromyalgia worse as well as messed up my spine and neck, etc. Now when I run out of the small amount of the anti-anxiety medicines, I don&#039;t have a meltdown like before. I do get sleepy, miss the tail end of movies I want to see, I have the dry mouth yes, however the trade off is worth it.',\n",
       " 'I am an ex heroin user and currently been on a methadone programme for fifteen years I&#039;m on propranalol for anxiety and chlorpromazine 50 mgs for psychotic episodes also on serequel 200mg day 250 mg at night my psychiatrist put me on amitriptyline 50mgs for depression and really bad anxiety I haven&#039;t felt so good in years get a great nights sleep and I take it during day helps anxiety attacks I was constipated really bad for years and now I can go every day excellent results for me',\n",
       " 'I&#039;ve only been on Elavil 62.5mg since last night and I slept all the way through the night and woke up not so tired this morning. I was on 25mg at first but didn&#039;t work then up to 50mg and that didn&#039;t work. Now I am trying this dose and I feel so much better. I hope it continues to work for me at this dose. I took it about five hours before bedtime and I felt tired and went to bed five hours later after taking it at 6:20pm.',\n",
       " 'Initially on citalopram 20mg and felt horrible and more panicky so doctor moved me on to Sertraline 50mg and propranolol  to stop the fast heart rate. Eventually built upto 100mg but still didn&#039;t solve the anxiety and restlessness that I had. Now I&#039;m taking Amitryptyline 25mg twice a day and feel so much better. I don&#039;t feel as anxious during the day and at night when my anxiety gets worse, amitryptyline helps me get a good nights sleep. I&#039;ve noticed a big difference since being on amitryptyline and with less side effects that citalopram and sertraline.',\n",
       " '30 to 40 min after taking migraine was twice as bad and both arms felt like they where on fire, another one to add to the list of things I react strangely to.',\n",
       " 'Low dose 25mg at bedtime for back pain/buldging discs-It works great!! No more daily motrin 800 which means no more daily nexium!!!',\n",
       " 'I was prescribed Amitriptyline 10mg nightly for nerve pain. I have had spinal surgery involving a C5/6 discectomy, while C4/5 and C6/7 are prolapsed. With the C6/7 prolapse worsening the pain through my neck, upper back, shoulder and arm was becoming unbearable. Although the initial pain at the C6/7 disc site has not completely gone (due to the disc nearing surgery stage) I have found it gave me great relief from my peripheral pain allowing me to get some sleep. The side effects in the first few days was a bit of confusion, felt a bit dizzy and tired, my husband saw me through the first couple of days, it was worth it. I have had cortisones and am now coming off all tablets. Headaches, but not bad.',\n",
       " 'For me, this is/was a very effective hypnotic. It literally saved my life when I had lost my ability to sleep due to a damaged CNS. I started off at 25 mgs per night and eventually increased my dosage up to 50 mgs per night. Over time I was able to cut my dosage down to ~6 1/4 mgs per night before moving on to a more desirable hypnotic. The biggest down side is its anticholinergic effects...nothing like waking up with a mouth full of sand.',\n",
       " '3 years of Chronic Pain Syndrome brought on by total knee replacement that doesn&#039;t work now.  Still in severe pain have tried many medications for the nerve pain in knee, hip, back, leg.  The Amitriptyline is the only medication that has helped me sleep at night.  BUT....I had four migraines in one week while using the medication and it makes food, water, soda all taste bitter bad.  Don&#039;t know what to do as it works but can&#039;t live with that many migraines.  Usually one 1 migraine a month if that.  So not taking it now.  Any suggestions?',\n",
       " 'I have taken amitriptyline for more than five years for insomnia.  Though it does not seem to bring on quick sleep, once asleep I am able to sleep well for more than six hours.  That is close to a miracle for me.',\n",
       " 'I have been using amitriptyline for years.  I only take it when I have a migraine and it is usually gone the next day.  I love it.   I take it at bedtime and I am a bit drowsy from the effects when I wake up but the headache is gone!!',\n",
       " 'I have been taking Elavil for several weeks now and the only side effect I have had is the dry mouth. I would rather deal with that than the migraines which I must say have been dormant for weeks now and I am so happy.',\n",
       " 'Started 2 weeks ago for chronic migraines. I&#039;ve been to the emergency twice in a week for numbness in my face, hands, weakness in my legs. I can&#039;t eat, I feel faint and dizzy. I&#039;ve a massive panic attack that landed me in the ed again last night. Never taking it again! I was only on 25mg',\n",
       " 'I have had chronic upper back pain for almost 15 years and have tried diazepam, ibuprofen, tramadol and finally codeine. The codeine were the main ones which worked but I noticed I began taking them when I had no pain and realized I had become dependent very quickly with awful withdrawals when stopping them. My doctor had also prescribed me with Prozac for PMDD which gave me an irregular heartbeat. She decided to take me off codeine and Prozac and give me a low 10mg nightly dose of amitriptyline instead. What difference they have made. I&#039;ve believed for a year that only codeine would work for pain and they helped with my mood too. How wrong I was! Amitriptyline keeps me pain free and I sleep like a baby and wake up feeling so refreshed!',\n",
       " 'I love my doctor for the introduction to ELAVIL. No more pounding headaches, vomiting, no more feelings of put me out of my misery! I had stopped taking my wonder pill after the first week, why?  NO headaches but yes I am gaining weight and feel as if I need a snack right after dinner. I am learning work out is a must as I am trying to get there. I just need the desire to do it.',\n",
       " 'Mixed review - taken for headaches, virtually cured as a result but left with a mid-sized hiatus hernia. \\r\\nHad severe migraines - actually was in a constant state of them. \\r\\nI was told to have: \\r\\n10mg for 2 weeks. \\r\\n20mg for 4 weeks. \\r\\n30 mg for the rest of the 6 months. \\r\\n\\r\\nI ended up going up to 20mg for the rest of the 6 months, not 30mg because I felt dysphagia symptoms and very slight heart palpitations. \\r\\nSince being off for the last 8 months, I only have migraine-like headaches once every month (usually if no sleep + anxiety). \\r\\nBE CAREFUL, I had a history of acid reflux issues. Now at 25, I have a mid-size hiatus hernia and GERD and I&#039;m on PPI&#039;s for the rest of my life!',\n",
       " 'Have been using it to treat Trigeminal Neuralgia, 10 mg at night, and it works great for keeping the pain away at night and to get a good nights sleep.',\n",
       " 'This is the only medication I can take that gives me some relief from the pain I suffer in my back and leg.  I have disc damage and nerve damage.  I at time can be taking 75mg per night and other times only 20mg pain dependent.  The only side effect I suffer is the chronic munchies the next day till I have completely flushed the drugs out of my system and a slight dopey-ness. Without these I would not get any sleep at night, these guarantee me 3 solid hours and some pain relief.',\n",
       " 'I lived with chronic neck and shoulder pain and when my sleep became affected, I went into anxiety and depression.  I&#039;ve been on amitriptyline for twenty years and I will never come off it.  My daughter recently had pain and anxiety.  Doctors prescribed medicines that sent her heart racing. She used this and one month later she&#039;s so much better.  I believe this medicine stopped the progression of fibromyalgia for me.  It also significantly arrests shingles.  The good old medicines are tried and true. Amitriptyline is excellent for many things.',\n",
       " 'I have had Chronic Pain for over 13 years, as a result of a head-on MVA (other driver was impaired) 33 years ago.  The impact caused several injuries, but my broken knee and Fibula, were the worst.  I had several surgeries, that kept me pain free and active until a TKR was required.  Due to my age, it was put off, &amp; though the surgery went well, it was put off to long and triggered Chronic Pain.\\r\\r\\nI take Morphine 60 mg. x3/daily, which helps me function.  Recently, the doctor put me on Amytriptyline 25mg  x3/nightly.  I have cut back to one, as it is very difficult for me to wake up in the morning, no matter how early I take it the night before.  It does help with the pain though, and I do sleep much better!',\n",
       " 'I am 52 years old I&#039;ve struggled my entire life with anxiety phobias depression intrusive racing thoughts etc I was diagnosed with PTSD MDD and panic disorder. I have tried every kind of selective serotonin reuptake inhibitor antidepressants. Sometimes with absolutely horrible side effects. I am disabled with disc and bone disease my pain doctor added amitriptyline to my meds. I never would have imagined my pain doctor giving me a drug that could change my whole life, especially at my age. I gave up on  finding a medication that really helped. I have been home bound for the past 3 years I have become a recluse. Now, I look forward to getting out of the house! I actually feel happy!  THANK GOD!!!! AND IT&#039;S ONLY $4 CASH !',\n",
       " 'I highly highly highly recommend using this medicine in treating and managing your IBS symptoms. I&#039;ve been on it less than a month and with a combination of the medicine and a diet (staying away from fatty foods, fried foods, soda, chocolate and eating lots of fruit) I have found relief I thought I&#039;d never find. I&#039;m 18 years old and I&#039;ve had my fair share of history in battling these symptoms, it was rough but with this medicine, it became a lot easier.',\n",
       " 'I began on Amitriptyline about three years ago I think? Started at 25 mgs with the option of increasing to 50 mgs for bladder Interstitial Cystitis. Because of weight gain I stayed mostly at 25 mgs nightly rather than increase the dose. But recently I have increased my dose back up to 50mgs. It is helping with the pelvic and bladder pain associated with Interstitial Cystitis at about 65 percent. It is not though helping with the frequency of urination around the clock as for so many years. But the relief with my abdominal and bladder discomfort is improving at present. For me that is a God send. My other medical and health challenges I am plugging away at. ',\n",
       " 'Went through such amazing pain due to fibromyalgia, and severe head aches, I wanted to die. After trying amitripaline, my pain had completely dissappeared. I also found I feel completely balanced, confident,  and very happy. I just wish I fell to sleep a little quicker.',\n",
       " 'I have been on Elavil for 3 months now and it has changed my life.  Immediately before starting the medication, I had dizziness, nausea, jaw pain and migraine like headaches with light sensitivity for 3 solid months.  I had suffered with these headaches since my early 20&#039;s but I had never had one long nonstop migraine for 3 months before.  I have only had the beginnings of one small migraine (flashing lights) in the past few months and that correlated with missing a dose of the Elavil the previous night.  I take one 25mg tablet at bedtime for migraine prevention.  I sleep well, feel great and my mood is elevated, all because I don&#039;t have those debilitating headaches which were ruining my life.',\n",
       " 'I was given 10mg Amitriptyline for insomnia, anxiety and migraines.  It didn&#039;t seem to help the insomnia much, even with taking .25mg - .5mg Klonopin.   So the doctor gave me 25mg Amitriptyline which I just couldn&#039;t tolerate.  Gave me worse insomnia, nightmares, even some bruises and muscle spasms in my back, which I&#039;m assuming is related to the medication.   I&#039;m going to go back down to the 10mg and see what happens.  I&#039;m so sad because I&#039;ve been reading all of these great reviews, and was really hoping it would help.  I&#039;m underweight, and just very sensitive to most medicines.  So I would say give it a try, since it works differently for everyone.  I will update soon.',\n",
       " 'It&#039;s taking the edge off of my pain but leaving me with terrible headaches so is it really worth the trade in pains?\\r\\r\\nI&#039;ll continue to take this and see if the headaches subside for another week,after that if the headaches continue I will probably discontinue elavil!',\n",
       " 'I have been having a lot of anxiety and panic attacks owing to a lot of undue pressure from family. Just last year I had so much panic attacks doing exams and an OPD doctor I met two weeks ago prescribed Amitriptyline 25mg (1/2 a tablet in the night after meals) and the effect is phenomenal!!\\r\\r\\n\\r\\r\\nIt helps me have really deep sleep and it has reduced my anxiety and panic attacks to a zero. This medicine is the best for anyone who is undergoing severe stress, panic attacks or prolonged periods of sadness. I have tried other drugs such as valium and other seretonin based medicine but none of them have worked as effective as this drug! hope this review helps :)',\n",
       " 'If your thinking about going on this medicine for irritable bowel syndrome do it! I have been suffering for almost 5 years now and I was missing work and was terrified to leave my house. Any social event I would go to I would be terrified  I would have a flare up. I used to LIVE off Pepto and I started taking amitriptyline (25mg) it has changed my life! For real! Besides a little weight gain which is much better then living the life I was, it has truly saved me. This dosage is really good for me and my irritable bowel syndrome was very severe. I take it with dinner so I don&#039;t wake up to tired! Good luck!',\n",
       " 'Works ok.  I have Bulge discs, tear, depression &amp; anxiety .  On this I   sleep well. Loss of sex drive, anxiety and stress still high. Doesn&#039;t help the pain so much in my back. I sleep really well at night after 100mg, but I wake up tired and need to nap for 2-3 hours and in bed by 9:30pm. Just always wanting to sleep and lazy.',\n",
       " 'I am not speaking from personal experience, but for my 12 year old son.  He started having stomach issues about 2 years ago.  His symptoms included bloating, gas pains, constipation, and diarrhea.  Sometimes the stomach pains would keep him up at night, unable to sleep.  We monitored his diet, and found that removing dairy helped, but did not eliminate the problem.  We, along with doctors determined he suffered from Irritable Bowel Syndrome.  A pediatric GI doctor recommended trying amitriptyline.  He started with a 10 mg dose each night which seemed to help.  After several months the dose was upped to 20 mg/night.  It has made a significant difference!  He sleeps well each night, and has not had a significant painful IBS flare up in almost a year!',\n",
       " 'Amazing drug ... Not sure why I did not took it earlier.... Migraine gone just after first dose .. Minimal side effects ... \\r\\n\\r\\nAnxiety reduced a lot.  I&#039;m surprised a small tiny pill can have such effect',\n",
       " 'Big help for vulvodynia.',\n",
       " 'This is an update to my previous post, about 4 months ago.  Now, through close monitoring and guidance by my doctor, I am taking 40 mg of the amitriptyline around 10am and 20 mg around 10pm.  Side effects at this dosage are insignificant (dry mouth, bitter taste, sometimes sleepy 3 hours after morning dose) considering I am getting much relief from the constant pushing/pulling.  I rated 8 this time because this amount seems the most I can take.  I&#039;m so grateful for having about 15 days and evenings where I can sit normally to watch T.V or read, not having to have to be lying down.  So I encourage any people with transformed migraines to ask your doctor about trying it. I forgot to mention that I can finally get REM sleep now. No more Ambien.',\n",
       " 'Hello, I would like to share my positive experience of taking Amytriptyline as it has truly helped save my life. I was prescribed this for acute and chronic pains in my legs which were also affecting my sleep. The pain was like searing stabbing pain. I was also suicidal.\\r\\nI was started on amitriptyline 10mg and was also told it would help with my other myriad of symptoms - Irritable Bowel Syndrome, weak bladder, insomnia, anxiety, etc.  At first, it caused numbness in my fingers and toes and on waking and going to the bathroom I had dizzy spells, my vision was a bit weird.  The doctor told me to half my dose to 5mg and although it took a few months, I gradually started to feel better and all of my symptoms improved. I hope to gradually take less so I am not dependent forever.',\n",
       " 'I find this good as a sleep aid but it does leave me feeling dopey in morning for a while &amp; also kills sexual function!',\n",
       " 'During the first two weeks the fatigue was pretty bad (even though I only took it at night).  The dry-mouth condition seems to be ongoing, but the migraines are completely gone!  Three weeks migraine free so far!!',\n",
       " 'I was on Elavil for many years to help ward off migraines and it did great. Then my neurosurgeon prescribed ultram and I had a tachycardia incident. I am very sad that I can not be on Elavil. I used to take 10mg at bedtime and it was helpful.',\n",
       " 'It really works .',\n",
       " 'I have Fibromyalgia which causes me a great deal of pain.  I have tried many pain medications including vicodin.  I currently take amitriptyline with Carisoprodol and Tylenol w/ Codeine #3.  Amitriptyline has helped me so much and really does a great job of getting rid of the pain.',\n",
       " 'It did not help me fall or stay asleep.  I took this medication for 3 months.  I started out at 25 mg and worked my way up (per doctors orders), to 100 mg.  It still did nothing.  I weaned myself off of it and it was like I had never taken anything in the first place.',\n",
       " 'I have been experiencing severe migraines 2 times per month over last 3-4 years, that include terrible vertigo and would last about a week.  The vertigo was more debilitating than the migraine.  Couldn&#039;t work or drive. In between migraines I experienced regular daily headaches.  Started seeing a neurologist who initially prescribed beta blockers (propranolol) with little result.  Then changed tact to Amitriptyline which I am on 10mg per day taken at night.  Started about a month ago and am yet to have a migraine and headaches have also significantly improved to maybe 2 light headaches (more tension headaches really) per week. I am more than satisfied with the result and couldn&#039;t believe how quickly it had an impact. Early days yet though.',\n",
       " 'Have been prescribed Amitriptyline for sun damaged nerves on my scalp start with 10mg and I was so scared to take as don&#039;t want to become dependant on them. It has helped a little and Dr wants me to increase to 20mg. I&#039;m feeling good as sleeping better and overall feeling better but still worried of the dependency so haven&#039;t increased to 20mg.',\n",
       " 'Dr. started me on Endep 2 months ago for chronic pain in the long bones caused by side effects from Chronic Myaloid Leukaemia medication. It&#039;s the first time in nine years that I have felt &quot;almost&quot; normal! \\r\\nIt makes me tired so I take it at night. The only drawback is dry mouth and loss of taste. The taste thing is driving me up the wall, and I don&#039;t know that I can live with it. So now I have to weigh up the pros &amp; cons of living without tasting my food, or living without pain.',\n",
       " 'Miracle for me! I have burning pain in mouth and vulvadynia. Have been on this for 3 days and almost no pain. I had heavy side effects of dizziness and was lethargic 1st 2 days but am coming out of it now. Taking 25mg twice daily.',\n",
       " 'Just started taking these meds praying it will help for my panic attacks during the night!!! The last two night I&#039;ve actually slept well so far so good!',\n",
       " 'I&#039;ve had IBS -c&amp;d since I was a kid and it worsened as I got older. I learned within the past year that Lactose and wheat irritates it greatly causing severe pain, diarrhea and bloating. Until 2 months ago I had just resigned myself to having this problem and the depression/anxiety that comes with it. I finally saw a gastroenterologist 2 months ago and he took the time to go over my symptoms and some tests. Finally he suggested Elavil at a dose of 20mg at night since it can have a sedative effect. After 2 weeks I felt WONDERFUL! I felt normal! This has been a medical God send. We might increase the dose to 50mg in a few months since I am on 3 other medications for my bipolar which can lower the effectiveness of Elavil.',\n",
       " 'helps prevent my migraines most of of the time/',\n",
       " 'After 10 years of chronic abdominal pain, a bunch of tests, multiple doctors telling me to take ompeprazole with no relief I am now 90% pain free. I started taking Endep 1 week ago and have increased  to 20 mg. It makes me a little sleepy but I take it 2 hrs before bed anyway. My new doc narrowed it down to overactive nerves and she nailed it. I&#039;m now getting better quality of life and am happy that I have found this med. For me it&#039;s really worked well.',\n",
       " 'Very effective for insomnia, migraines, anxiety, depression, pain. Very little side effects. Dry mouth only noticed effect',\n",
       " 'Have tried many others: zoloft, citalopram, nortriptyline. Other than side effects this medicine works great. Just have to be careful with the sedative properties.',\n",
       " 'I have had success with it helping me stay asleep through the night, but it has not helped with my muscle/joint pain and daytime fatigue. I have also gained about 15 pounds over the course of four months despite a decrease in my appetite.',\n",
       " 'I was only prescribed amitriptyline a week ago. I used it for the first time on Monday night and my experience was horrible. I felt like I had no control over my body, it really was a trip. I felt almost paranoid because of it and the dry mouth (which my doctor warned me about) was unpleasant. I made up my mind that I would rather go back to Xanax or lorazepam for my Depression and recently diagnosed PTSD.',\n",
       " '14 yrs of chronic agony!!!!\\r\\n\\r\\nAmitriptyline, Strong Opiates &amp; Diazepam work.\\r\\n\\r\\n',\n",
       " 'I been suffering with fibromyalgia for 6 years diagnosed officially for two. I have IBS, RLS, Insomnia, depression and anxiety as side effects.I&#039;ve been through the mill trying to find something that works to ease it. Had a winning combination of tramadol and mirtazapine taken on a night which eased the pain symptoms so I could sleep. However it didn&#039;t help with the pain but I could live with that. My Dr. decided that I couldn&#039;t and took me of tramadol and put me on amitriptyline and much like it&#039;s name I felt like I&#039;d tripped. I was awake but had no control over my limbs I could still feel the pain the twitches. I felt like I was locked out of my brain and someone else was at the wheel. I will never take it again.',\n",
       " 'I have had great success with this medicine.  It is meant to help you achieve sleep levels 3 and 4. It is meant to make you drowsy. Take it at night a couple of hours before you want to fall asleep. Poor sleep is a big problem with fibromyalgia. I have had fibro for 20 years. I still work full time, retail 56 hours a week. Yea it&#039;s tough some days. You have to keep moving.',\n",
       " 'I have been suffering from chronic migraines for 18 yrs. Smells, sounds, foods trigger them and sometimes last for 2 weeks. My Dr started me on 25mg of Amitriptyline at bedtime. Instant relief. First 2 weeks it would knock me out &amp; when I woke I would be drowsy and float through work. Not even a headache for 28 days! 29th day, migraines were back, not as bad. Dr. upped my dosage to 50mg. So far so good.\\r\\nSide effects I have experienced: Dizziness, drowsiness, &amp; dry mouth.',\n",
       " 'Life changing medication!  Why I hadn&#039;t been prescribed amitriptyline years ago I cannot understand but after years of living 3 weeks bad out of every 4 in excruciating pain and the dreaded (D) I now have at least 98% better quality of life .....don&#039;t get me  wrong  I have odd days when I will have pains and to use the term my gastroentorologist used (explosions), but compared to life before ,its totally manageable .I Started  on 10mg at bed time but upped it to 20mg and this works better, no adverse side affects and I have been using about a year now. Naturally suffering from I.B.S I watch  what I eat carefully and everyone&#039;s different but for me it&#039;s really helped',\n",
       " 'Today is my 2nd day on this medication. I have ibd-d .I take 10mg at night. this med has started working from day 1 im so happy i finally feel normal, i could never be away from home i wasbalways scared that i needed to use the restroom . one day i would go many times i would never eat and i will always bee on inmodium thta will only work for me for a few hourd and then i would be back to the toilet , i could never be out some where longer then 2 hours i could never take my childre out to the part or anywhere with out beeing rushed to go home to be near a bathroom. the side effect that im experiensing right now is that im just sleepy throught the day and thirsty, i will come back in a few weeks to see how is it goin!',\n",
       " 'Started taking this to help me get off Lunesta. Taking 10mg. For me, it does NOT put me to sleep like a sleeping pill. It makes me very tired but doesn&#039;t knock me out. But, it&#039;s supposed to help with early morning awakening when you can&#039;t get back to sleep. I believe it does help with that.\\r\\n\\r\\nI find you want to take it early, like at 8:00 p.m. if you want to feel sleepy at 10:00 p.m. Also, you WILL be drowsy the next morning - another reason to take it early. I actually started taking it at 7:00 p.m. to help with the morning drowsiness. \\r\\n\\r\\nAgain, the down side of this medication is that you will be very drowsy in the evening if you take it early and/or you will be drowsy in the morning!!!',\n",
       " 'Started using for Fibromyalgia first.  When diagnosed with Interstitial Cystitis my doctor upped my dosage to 50mg each night.  Not really sure which Interstitial Cystitis or medication for other conditions are helping or hurting.  I haven&#039;t found the magic pill that really helps with any of my conditions as I&#039;m in a constant flare with several at a time on a daily basis.  This does help you sleep.  I&#039;ve been on it for yrs and haven&#039;t gained any weight (probably due to other medicines that take away my appetite).  All in all, if you have never tried this for Interstitial Cystitis pain; try it.  Everybody is different &amp; this medicine just might be the right one for you.',\n",
       " 'I had horrible insomnia for about a year and tried a number of pills, but none of them seemed to work. My doctor prescribed me 25 mg Amitryptyline, but it took about 3-4 weeks to actually kick in. I take it about an hour or two before bed, and it has helped me fall asleep and stay asleep. It&#039;s important to try and get 8 hours of sleep on it though, because it can make you feel groggy. I&#039;m glad that I have finally found a medicine that has regulated my sleep schedule.',\n",
       " 'I have been suffering with migraines for about three years now. I got sent for a brain scan but the doctor then said I didn&#039;t need one. Got put back on amitriptyline but then weaned myself off it, the migraines had gone! Then in January this year I had an implant replaced. In June this year my migraines came back and I now take 30mg of Amitriptyline every night! I think personally its my implant that has triggered them? But amitriptyline only works for me when on a high dosage.',\n",
       " 'After years of messing around with various diets, pills, etc - and getting down to 125 lbs (I&#039;m a 51 year old male, 5&#039;9&quot;) - Elavil has apparently cured my IBS-D.  I still avoid dairy and spicy food (also have GERD) - but basically, I&#039;m cured.  I&#039;ve also gained 25 lbs - which is actually too much.  It does seem to increase your appetite.  But - that&#039;s a trade-off I&#039;m willing to make.  I have no idea why I wasn&#039;t given this med by my GI guy.  I was actually given it by my PCP for Anxiety, and I wanted something that wouldn&#039;t make my IBS-D worse.',\n",
       " 'I&#039;ve been a chronic migraine sufferer my entire life. Literally, I even had migraines as a young child, which my neurologist informed me was very rare?.. I was diagnosed with chronic complicated migraine averaging 20 plus headache days a month. id get migraine attacks where I&#039;d repeatedly get slammed with migraines lasting up to 15 days where I couldn&#039;t function in a row. She put me on verapramil twice a day which helped slightly for a few months then did nothing so she put me on the amitriptyline a few days ago. I started at 25 mg at night and in a few days up to 50mg. It does help me sleep.. and my migraines today are substantially less. Hoping it keeps getting better!',\n",
       " 'I was very sceptical that an anti-depressant would help with my persistent burning mouth syndrome. My symptoms were severe, burning tongue, roof of the mouth, and throat. After many tests and no results, my doctor suggested amitriptyline. It worked almost immediately, and after two weeks, almost all the pain is gone.\\r\\r\\nThe side effects are minimal, dry mouth and disturbed dreams which seem to have diminished after a month or so. It&#039;s worth it for me.',\n",
       " 'During my 30&#039;s and 40&#039;s I had frequent migraine&#039;s, then from my 50&#039;s on migraine free, but now in my 60&#039;s they came back with a vengeance. So bad, Doctor sent me to Neurologist, then CT scan, scan normal, so put me on indomethacin which didn&#039;t work for me. Seemed to make the migraines worse, thus back to Neurologist, MRI scan, normal, one of the drugs suggested Amitriptyline, 10mg at night. In my third week now, very sleepy first week and thirsty, but not so bad now, but wonderful no migraines whatsoever.  Yippee',\n",
       " 'I suffered a blown disk in my back partially crushing my spinal cord after months of pain after op that was not that successful. My leg still had jumping nerve pain if you put your hand on my lower leg you can feel a can of worms jumping which was just my nerves. After many combinations of drugs my doc put me on Endep. I needed 150mg for my brain to stop feeling this nerve pain. I have been on it for 7 years dropped to 100mg now. I have tried to lower dose on many occasions though pain breaks through so 100mg it is for me. Still get some pain at times and if you put your hand on my leg it jumps around like crazy but I don&#039;t feel it great drug at the right dose',\n",
       " 'Started taking this a few days ago and the difference is unreal. No more pain, can eat what I want (no dairy and no gluten made no difference)\\r\\nI&#039;m taking this med for nerve pain and this added bonus is amazing.',\n",
       " 'I didn&#039;t have problems falling asleep, I just woke up every hour throughout the night.  My Doctor noticed and recommended Amitriptyline.  What a great drug.  It doesn&#039;t make me sleepy, but it really helps me sleep through the night.  It&#039;s not perfect, but like many folks, the stress of the day, just wouldn&#039;t stop bugging me when I was trying to sleep.  I&#039;ve been taking it for about three years now.  I take two -10mg pills each night and really appreciate the better sleep I get.  Occasionally I forget, and find myself up at midnight, 1am, 2am 3am, 4am ... It&#039;s not a great way to sleep.  I haven&#039;t noticed any side effects.  It doesn&#039;t make me groggy in the morning, though my Doctor said it might.  It&#039;s also inexpensive and generic.',\n",
       " 'Ive been on lorazepam 1mg 3x daily for over 10 years and recently had not been able to get them due to switching doctors and have been having horrible side effects. I&#039;ve only been on this a short time but seems to help a little and going to give it more time. I&#039;ve read on the reviews others which gives me hope.',\n",
       " 'I had a migraine one and half years ago, it last around 9 months, during which I was so sick and went to see the doctor several times. They could not help either, just gave me some painkillers. Fortunately it gradually cured itself, and last 1 year and half has headache free. Recently this ghost come back again. This time my family doctor first prescribed verapamil, which caused dizziness after 3rd day of administration. Then he give me amitriptyline, I took 10 mg of it and next day it&#039;s like a miracle, no headache. \\r\\n\\r\\nI am so happy now. ',\n",
       " 'Have previously been on this medication 6 years ago. In between have been on SSRI&#039;s and venlafaxine (the latter being a nightmare to withdraw from). Now after a year of medication free I&#039;m back on amitriptyline at my request due to mega anxiety and stress issues (not my doctor&#039;s first choice), also currently taking Ramipril and diltiazem for high blood pressure - so far early days and am suffering the main side effect of tiredness but managed a 2.5 mile jog last night. It&#039;s early days and I am hoping this will work as well as it did in the past.',\n",
       " 'I&#039;m 27 yrs old and have been through 2 back surgeries for a couple of herniated discs in my lower back. Over time, as my back pain worsened, I started developing migraines, which started at maybe one a month and soon developed into one a week, lasting 2-3 days at a time. I was forced to take a leave of absence from my job due to my worsening back pain coupled with the nuclear bombs (migraines) erupting inside my head on an almost daily basis. Needless to say, my mood and overall disposition deteriorated rapidly and I had little to no hope that I&#039;d ever return to a normal way of living. That is until my neurologist prescribed me Elavil. Two words: GOD, SEND. Migraines - GONE. Back to work - FULL TIME. Life = AMAZING.',\n",
       " 'I&#039;ve taken amitriptyline off and on for 8 years &amp; have had migraines for almost 30 years (I&#039;m 41). 25mg cuts migraines down to 3-4/month (rather than the 5-10 /month I get with no medication), and carb cravings are quite manageable. No weight gain at 25mg, even after several months. When I tried 50mg, I had a hard time controlling carb cravings and gained 10lbs over 2 months; but, I didn&#039;t make much effort to fight carb cravings. I suspect if one exercises moderately and watches carb intake, weight gain can be avoided, even at &quot;higher&quot; doses (25mg+). I&#039;m now taking 40mg. Side-effects from anti-convulsants &amp; beta blockers were intolerable for me- far worse than the dry mouth &amp; carb cravings I get with amitriptyline. A great drug overall.',\n",
       " 'I&#039;ve suffered with chronic back and neck pain, fibromyalgia, debilitating chronic migraines and insomnia for 20yrs. For ten of the last 13 I took 150mg amitrptyline with an opiate pain killer and had my pain and migraines under control and quality of life. 3yrs ago my Dr. had to retire due to heart problems. I have a new pain management specialist but they only have me on 25mg amitrptyline and have me  taking Neurotin instead. I&#039;ve had horrifying insomnia ever since. Now I also have terrible neuopathy and parathisia and also interstalial cystalis, IBS, and  have no quality of life any more. But now because of all your comments I have the courage to tell my Dr. I want my dosage raised because I know what works for me. Thank you all! ',\n",
       " 'I&#039;m 44 and starting getting migraines about ten years ago. I&#039;ve tried several migraine medicines with no effect other than making me even more nauseated. My Doc suggested amitripyline and it works great!  As soon as I feel an occurrence I take 1 and 30 min later I&#039;m good to go. Although it does knock me out I am very grateful for this med.',\n",
       " 'I used to feel like I ate rocks/glass when I ate food. Now I feel Nothing! Amazing medication. I still has IBS/Gallbladder disease/food intolerances but I am a lot better on this medication!',\n",
       " 'So you live in horrible pain and I was since 1988. Since 1988!\\r\\n29 years of agony. Endless worthless &#039;specialists&#039;. I cannot tell you this unless the &#039;broken neck&#039; ( as I call it, that&#039;s how it felt). I need you to understand  how it was. I would have chose cancer over this endless pain.\\r\\nI read about aimtrip for pain. I said let&#039;s try amitriptyline. Quietly and without fanfare, this drug came to me.  My pain is completely gone. If you have endless pain, ask your doctor to give you this drug.',\n",
       " 'I&#039;ve been on Elavil for three years  and it has been a God-send: Ironically, I was seeing a Gastrointestinal doctor until she recommended that I &quot;stop and smell the roses more.&quot; Combined with therapy sessions for about a year, I worry less as I see more of what really is worth getting worked up over -- not a whole lot.  One can be passionate about certain things such as family and country and life, but other things are less, way-less significant.  Elavil has taught me how to best sort out what some things are worth worrying over and not.  I take 100mg/day at 8pm normally and I sleep well at night, and feel good generally about how things will be throughout the next day.  I love the smell of roses. ',\n",
       " 'This can be a life-changer. I&#039;m 22 and had gotten a concussion back in Nov. I was in bed every day for over 2 months, told to avoid ALL stimulation, lost a few lbs, hit with multiple migraines per day. My doc prescribed amitriptyline &amp; within a few days of starting, I was easing back out of the dark and into the light (metaphorically and literally).This med gave me my life back and now I&#039;m able to graduate on-time which was threatened then. Sympt: little more constipation than my usual, dry mouth, a dampened libido... they&#039;re all not bad sacrifices for me. Also, I&#039;ve been aura-migraine-free since this medicine too! My aunt has been on it for almost 30 yrs and it&#039;s helped her chronic migraines as well. She&#039;s about 55 I think. Consider it!!!',\n",
       " 'I have been taking amitriptyline for 3 months now - I take 10mg morning and night due to how severe my irritable bowel syndrome is.\\r\\n\\r\\nI can eat everything now and have no side effects - I used to have diarrhea, bloating, stomach cramps &amp; bad gas every time I ate gluten, dairy, spicy foods, onion, garlic and coffee (I&#039;ve suffered from IBS for 8 years)\\r\\n\\r\\nThis medicine has changed my life.',\n",
       " 'Just wanted to add more now that been taking longer. \\r\\r\\nPositives - it&#039;s still working and at the low dose of 10mg. - Weirdly, I have lost weight although this seems like fluid and bloat loss but has amounted to half a stone. \\r\\r\\nIssues - beginning to think I&#039;m indestructible and after having tea and wine, I had a flare. However, the flare only lasted a day and I wasn&#039;t crying in pain.\\r\\r\\n- changing brand from Actavis to Accord. Still working for IC but weirdly more unpleasant side effects, drowsiness, dry mouth and zombified feeling in morning. The difference was pretty immediate so I&#039;m sure it&#039;s that. Perhaps other users should take note of brands. I will return to Actavis as this had no side effects whatsoever.',\n",
       " 'I have been on amitriptyline for almost ten years. It has basically saved my life. I had migraines that did not stop. I take 37.5 mg nightly and haven&#039;t had a migraine since. I did not believe my neurologist when he wanted to try this med. I had almost given up on any medication working. I am now scared to not take it. I was not a believer, I am now.',\n",
       " 'Works great',\n",
       " 'I been taking this for over 2 years for insomnia, anxiety and mild depression and it changed my life. For the first time in 20 years i sleep like a baby.',\n",
       " '5 years ago, my gastro Dr put me on this med for nerve pain. I was not having to take it each night, usually 3 to 4 nights of as little as 12mg, sometimes even less at 6.5 mg did the trick. I found that the medication made it a bit harder to wake up in the morning but I was able to sleep thru the night. I am now having trouble sleeping due to increased stress and anxiety and the medication has been helpful in helping me sleep. Only issue for me has been the dry mouth in the morning which is manageable, I also try to eat right and exercise daily which has helped my anxiety.  In reading the reviews, I can certainly relate to what many of you are going thru.  Unless you&#039;ve been thru it, people have no idea what its like.',\n",
       " 'Been taking it for 4 months and while it does give me a full nights sleep 8 to 10 hrs finally ☺ I am super stupid the next day until 3 or 4 and have very little motivation or energy so have decided to stop taking it.',\n",
       " 'Elavil really worked for the vulvadynia discomfort.  Unfortunately, it also made me super anxious and shaky, and I just couldn&#039;t tolerate it.',\n",
       " 'This medicine has really helped me to sleep. My pain has gone down including migraines. I am still very stiff in the morning and sometimes I have weak legs. Only two side affects I&#039;ve noticed, dry mouth and sleepy in the morning if I take the meds too late. But still pretty happy with the meds.',\n",
       " 'I have a brain tumour, epilepsy and chronic migraines. I take Elavil 200mg daily and Lamictal 400mg. Compared to the multiple meds and combos my drs had me on, Elavil has worked the best for me. It doesn&#039;t stop them (migraines) but my headache hell has improved and post seizure headaches are less severe. With the high dosage of both meds it&#039;s given I&#039;ll feel side effects but overall no major signs of toxicity as I did with other meds.',\n",
       " 'Started Amitriptyline less then six months ago for lingering on going headaches, 25 mg at night.  I see a immunologist for Lupus and fibromyalgia. He sent me to a neurologist, who gave me Amitriptyline.    Helped me tolerate them but they never went away. They made me cranky, irritable, and down right mean. I have muscle weakness, and can not concentrate. Dr. for Fibro wants to increase dose to 100mg.  I don&#039;t see that helping my side effects since the side effects started with this med.  I&#039;m going to see GP for a third opinion and  referral to a Psychiatrist.    This drug is not for everyone. Be careful.',\n",
       " 'I started taking amitriptyline a little over a month ago at for the first  two weeks my headaches got better almost disappeared and then my headaches came back full blown and worse than I have ever had them.',\n",
       " 'After my sister died when I was 12 years old I had a hard time sleeping. Only only getting 3 hours of sleep at a time. My doctor prescribed Elavil and it worked immediately. I can finally concentrate on task that I could not do before. I am taking 200 mg of Elavil.',\n",
       " 'On Dec 2015 I had excruciating cutting burning vaginal pain. Along with frequent urgency to go urinate , all the test under the sun was done but all came back negative and after 2 months of tests my urogynocologist said its volvodaneia. He prescribed Amitriptyline .\\r\\nI was very skeptical about this. .then finally I started with 5 mg for my body to get used it.Then 1 week after I did 10 mg...and after 10 days I went to 15 mg...that did the trick no more paib but then I amped it to 20 mg.\\r\\nI never thought I will be able to have normal life again but this med saved my life.In this 6 weeks of taking Amitriptyline I had few days of pain of level 2 .but rest days so far ok.no pain !!\\r\\nI have been told to take this med for3months.',\n",
       " 'This drug has changed my life. I wish it hadn&#039;t taken going through 7-8 medications and 2 years of feeling like a test subject, but I finally found the one! Doctors tend to use SSRIs for the first line of defence against anxiety and depression (also insomnia). I tried Lexapro, Hydroxyzine, Celexa, Zoloft, Effexor, Wellbutrin, Zoloft (again), and a variety of over the counter supplements. I also did yoga, crossfit, all the natural cures to mental instability. The SSRIs helped significantly but resulted in bad side effects such as sexual, feeling like a robot, and wearing off, over time.  After a few melt downs, 3 doctors, and 2 years, I tried amitriptyline (a tricyclic antidepressant). Now, I feel fantastic- happy, sleeping well, anxiety-free',\n",
       " 'I have been suffering with sleepless nights for over 8 years.  Nothing seemed to work.   Since I have been prescribed a small dosage of amitryptiline my sleep has very much improved.  I fall asleep faster and stay asleep longer.  I actually look forward to going to bed now.',\n",
       " 'Did a decent job of preventing migraines and shortening their duration. Couldn&#039;t take full dose as it made me zombie like for a full 24 hours. Also made my heart rate 20-30bpm faster than normal.',\n",
       " 'i use endep for 14 years for my depresion it is very good for me i take 100 mg every nighte i fill verey good and sleep verey nice and good no thinking no sad just i be relax  thanks my god',\n",
       " 'I take Elavil for migraines and have not had a single headache since starting it. Elavil also makes me sleep wonderfully. I (and everyone in my family) have always had trouble sleeping, and I didn&#039;t think there was a medicine out there that would make me sleep on a reliable schedule. This is amazing.\\r\\n\\r\\nNegatives: Miss a dose and you&#039;ll have a bad migraine. It makes you extremely drowsy for the first week, but that will pass. I keep a bottle of water by my bed because of the dry mouth. Cravings is a side effect so if you get them you should monitor your diet to avoid weight gain. Also I drank half a beer after taking it and felt like I&#039;d drank 15. Approach alcohol use VERY carefully.',\n",
       " 'I have been on amitrip for a few years now. At first, perhaps for 2 years, my migraines were less and I slept well. Now I&#039;m not sleeping well at all and often take a sleeping pill at 2 to 3 am. I&#039;m on 20mg but cut down to 15mg before Christmas. I was ok for a month then had 3 migraines in 3 weeks. So now I&#039;m back on 20mg but going to start on a course of 400mg ribiflavin hoping that will help the migraines and I can finally give up the amitrip.\\r\\nDon&#039;t pay for medication. I&#039;m 70 this year.',\n",
       " 'Amitriptyline helped to get rid of depression, insomnia, anxiety/stress and tension headaches, at 75 mg dose. I&#039;ve BPD and I also take Depakote and Fluanxol to stabilize my mood swings.',\n",
       " 'Well after trying a few medications to help with my insomnia this one worked. About 15 min after taking it i got bad dry mouth. And this continues every time I take it. But it works. It works very well. The only bad thing is I wake up shaky and I have this awful rash on my face that goes from the middle of my forehead down the mid cheek area on both sides of my face. I have never had acne so I am assuming it is a side effect. I will find out tomorrow when i go see my doctor about it..I hope it is not though since this medication works.',\n",
       " 'I finally saw a neurologist after years of headaches.  I have taken Topamax and Neurontin as preventatives.  Zomig, Imitrix, Maxalt, and with stress seem to never go a week without a headache.  I was started on 25 mg Elavil with no relief, it was increased to 50 mg at bedtime and I have been nearly headache free for 3 weeks.  I did miss one dose and had a headache the next day but not the rebound headaches that I was experiencing.  \\r\\n\\r\\nThe side effect that bothered me most was the dry mouth and I did experience fatigue.  I am a RN and work 12 hour shifts, there was no way I could work with a headache and would subsequently miss work.\\r\\n\\r\\nMy fingers are crossed and I am hoping this is my cure. Yay!',\n",
       " 'The information was very informative and helpful.',\n",
       " 'I had a very horrible toothache and this helped me to numb it, the pain was still there in the background and also I have insomnia so this helped me to sleep and be without excruciating pain - did make me feel a bit loopy of you don&#039;t go right to bed when you start to feel it',\n",
       " 'Began having Cyclic Vomiting Syndrome in November 2012. Hospitalized several times. We also found that I have a vestibular issue causing me to throw up. That has resolved but left with this CVS. I started taking this medication about 3 weeks ago and I think it helps. Started 30mg dose and had an episode so increasing to 40mg and holding, if I get sick I can increase to 50mg. I am struggling with anxiety, which I had before this all started. Increase anxiety to severe state as I never know if this vomiting thing is going to come back. Overall, it works. Side effects are not bad at all. Anxiety is almost unbearable, which is not a side effect of this medication. I think it is a side effect of having CVS.',\n",
       " 'I&#039;ve been on Elavil 10 mg at bedtime for now 2 weeks. I like the sedation effect. I have no side effects such as dry mouth or increase appetite. But I do have constipation and my major concern is that I have more headaches.',\n",
       " 'Been on it since 2008 --went through 5 days  withdraw from OxyContin @  Vicodin by choice by my self in a cabin-yes I had a RX 4 both meds -I was working out of state at the time-coming home every month 4 my legal fix.  I was messed up mentally and physically after I stopped taking meds.  I also quit drinking and smoking cigarettes and weed.  Doctor prescribed tramadol which took a month to kick in. I take 100mg 2 hours before I plan to sleep &amp; Amitriptyline HCL 100 mg.  It is best thing I ever did.  I was self-medicating with the alcohol because I had insomnia ever  since I was a teenager  and now I am 65 years old. The cons-dry mouth in  in the morning no big deal - it&#039;s worth having a good night sleep  no hangover  effects  for me I recommend this medication thank you',\n",
       " 'This medicine is AMAZING for pain.  I have trigeminal neuralgia and I take it at night. It gives you a calm feeling and makes you not care about the pain. I just had my dose doubled and it takes a few days to get used to the medicine and/or new levels and the higher dose knocked me out for literally two days, just like when it was first prescribed.  But I can&#039;t rave about it enough.',\n",
       " 'I have had sleep issues for a long time. Strong sleep medicines left me groggy and really out of it. This year, when anxiety issues caused some serious sleep problems, my doctor prescribed 25 mg of amitriptyline, and my pharmacist said to start with 10 mg the first couple nights. It has worked well, returned me to my normal sleep patterns, and now I occasionally take 5 mg if I have had a difficult or emotion-laden day. Works very well for me.',\n",
       " 'I have had IBS since I can remember as a child I thought it was a normal thing cause I&#039;ve had it all my life. I&#039;m in my 20&#039;s now and a few years ago is when my ibs got out of control. I&#039;ve had many medical visits to the ER for my ibs pain and boy let me tell you the pain is unimaginable. I even contemplated suicide yes I was in that much pain and suffering after many failed attempts from different medications I did my extensive research and pretty much told my doctor that I wanted to try this medication im on 25mg this medication is a miracle why have these doctors been hiding this medication from ibs suffers iam now pain free and I can live my life with my family and enjoy every minute of it please try this medication it does wonders',\n",
       " 'Had migraines since I was 6. The past 1.5 year&#039;s I&#039;ve had migraine every single day. I&#039;m now 33 years old and have this medicine since February this year. The first 3 months I had 25 mg, now 10mg. Headaches were completely gone. Since I have the lower dosage, it&#039;s coming back a bit so I will go back to 20 -25mg. This is the first medicine that&#039;s actually working so I am very happy with it !',\n",
       " 'I feel way better on Elavil than cymbalta. I&#039;m back to being Me ,not a grumpy stressed monster. I&#039;m going to call my Dr to personally thank him for switching me.',\n",
       " 'I was just put on 50 mg of amitriptyline for extreme insomnia, anxiety, and depression. I have suffered from insomnia my entire life and my job is very stressful as a nurse working rotating shift at a hospital. I would stay up for 3 days at a time while working crazy 12 hour back to back shifts. I was at my wit&#039;s end, so exhausted, delirious, and beyond stressed. I have tried so many different medicines to help with sleep and anxiety. None have even come anywhere as close as Amitriptyline has, to giving me good sleep. I had lost hope that I would ever be able to sleep good again. Amitriptyline has SAVED me. I can fall asleep easily, I don&#039;t wake up every hour, and I sleep like a BABY! I can now function at work again.  This medicine saved me.',\n",
       " 'I have been on Endep for Fibromyalgia for 10 years.  At first the affect was awesome, for the first time in many years I slept properly and had hardly any pain.  Over the years though, this has changed.  I started off on 50mg per day and over the years had to have it increased to the maximum does of 150mg.  Recently I have been having heart palpatations and an increased heart rate.  My doctor has put it down to the extended time I have been on Endep at such a high rate. So now I am on a drug to lower my heart rate, which works well, but my doctor is getting me to try to cut down on the Endep with a view of going off it altogether and hopefully also going off the drug that I need to lower my heart rate.  It&#039;s not working I&#039;m in too much pain',\n",
       " 'It gave more energy',\n",
       " 'I&#039;ve been taking 20mg of amitriptyline for 2 weeks and I have slept extremely well every night and I have so much more energy during the day. I sleep solid and right through the night which is unusual for me these days as my stressful job and back pain often leaves me anxious and tossing and turning every night and then I end up grumpy, run down and feeling sick as a result. So far it has not helped with my anxiety or depression but getting a good night sleep helps me cope and gives me energy to attend yoga and exercise. I believe the dose may be too small to help the depression. I&#039;m also taking this as it is the most studied antidepressant used during pregnancy and the SSRI&#039;s give me insomnia. I have almost no side effects so far.',\n",
       " 'I rated this medicine a 10 because I suffered from migraines for about 5 yrs and really didn&#039;t know what they were till one day I finally saw a neurologist, he prescribed me amitriptyline, it worked immediately. I started out at 10mg nightly, it was a God send, a miracle medicine. I was completely migraine free for approximately 2 1/2 yrs while taking this medicine, I had no side effects really, maybe gained a few pounds maybe 4 or 5 during this 2 year stretch,  then all of a sudden the migraines started back again about 1 month age. I went back to the neurologist, he increased my dosage to 30 mg. I haven&#039;t really seen any improvement, have been on this for about 3 days now, was initially increased to 20 mg for 5 days previously.  I wonder what&#039;s going on.',\n",
       " 'I was put on Amitriptyline to aid in sleep while on Prozac.  When I discontinued the Prozac and the amitriptyline because I no longer needed an antidepressant, I noticed an old problem with hyperhidrosis reappeared.  I went back on just 5mg of the amitriptyline and the results were amazing.  No more sweating and feeling very calm all day long.',\n",
       " 'I took Trazadone for depression and insomnia. Stopped taking it, because my weight would not go down and I was always depressed and &quot;out of it&quot;. Started taking Amitriptyline  I feel full of energy and not depressed. I also sleep better. I have lost 10 pounds since I started taking it 2 weeks ago. Everyone is different, so please consult your Doctor or Pharmacist. I take 25 mg at night.',\n",
       " 'I&#039;ve started on 25mg and steadily increased. Now I&#039;m taking 200mg every night! It does nothing for my pain, or anxiety and barely touches my insomnia.  I wake up 3-4 times every night with night terrors. I think next Drs. appointment she will increase my dosage even more.  I have extreme post traumatic stress disorder and have several fractures in my spine. All I know is my dosage is already higher than most of the comments I&#039;ve read. And my wife is on an even higher dose than me.',\n",
       " 'I was having migraine headaches anywhere from one to four times a week. I have been taking 10 mg and I am down to one a month. This has been a lifesaver.  The side effects are manageable for me. I&#039;ve had dry mouth, constipation, and the first month I had difficulty waking up in the morning.',\n",
       " 'I have had sleeping issues since I was very young. This medication is the best thing to help me sleep.',\n",
       " 'I&#039;ve tried various medications over the counter but nothing has worked for me up till now.  \\r\\r\\nI have been on amitryptiline 10mg for a few days which has definitely helped.  My migraines make me sensitive to sound and bright light (by the way, my laptop is turned down to the lowest brightness as this is the only way I can use it!)\\r\\r\\nI&#039;ve now increased to 20mg and hoping this will help further as I still have mild to medium chronic migraine headache.  From what I have read on here, 20mg seems to be the dosage that proper relief kicks in so I am hopeful! \\r\\r\\nIt is helping with sleep but I probably need to fine tune the the time I take the pills as I felt quite sleepy this morning.  Will post update soon. Good luck all!',\n",
       " 'Since taking this medication I am not reaching for the narcotic pain meds as much as I used to but am more constipated and tired. It&#039;s worth the trade off of some of the higher pain medicines for my condition.',\n",
       " 'Started 25mg for crippling panic attacks !! Had them for 6-7 months without even any relief from xanax ... first and only med that has worked for me without side effects ! Couldn&#039;t even take an SSRI felt so sick from them .. 25mg saved my life !',\n",
       " 'My 10 rating is for the medicine&#039;s effectiveness for insomnia, not pain.\\r\\n\\r\\nI used to take lots of medications, including amitriptyline. I gained 20 pounds. To lose weight, I started adhering to a plant-based diet and exercising. After 4 months of diet and exercise, my pain was almost gone, so I dropped all of my medications. After that, I lost 15 pounds.\\r\\n\\r\\nA few months later, my insomnia came back. Because I wasn&#039;t sleeping, my pain increased again. So, I started back on amitriptyline. I take 30mg 4-5hrs before bed.\\r\\n\\r\\nIt takes a few weeks to kick-in as a sleep aid and it might cause night-sweats for about a month. After a month, I started sleeping like a rock and I have no side-effects or weight gain. My previous weight-gain was due to Gabapentin.',\n",
       " 'I have found that it does work for helping me get a good nights sleep.  I also don&#039;t wake up drowsy.  ',\n",
       " 'I have fibromyalgia and take Tramadol 150mg daily. Recently had a flare of trigeminal neuralgia and widespread neuropathic pain and Tramadol was not working for this.  Doctor put me back onto Endep, which I had given up previously as the side effects were very strong.  Am now on only 5mg at 7pm and find sleep and pain relief much better.  Still feel hungover in the morning.',\n",
       " 'I was prescribed 20mg per night for insomnia , anxiety and panic attacks . After taking it for only a few days I felt 100% better . I&#039;m sleeping so much better , no anxiety and no more panic attacks . I have a lot more energy as I&#039;m sleeping now and feel altogether much healthier . I love it .',\n",
       " 'I started this medication for hemiplegic migraines, I was also experiencing bad anxiety and dizziness. I started at 25 mg and I saw an immediate decrease in my anxiety and dizziness, I did suffer a bad migraine and my doctor increased my dose to 50 mg at bedtime, it has worked wonderfully with the added bonus of getting a great nights sleep\\r\\n\\r\\n\\r\\n\\r\\n\\r\\n\\r\\n\\r\\n\\r\\n\\r\\n\\r\\n',\n",
       " 'I have been taking Elavil for over 5 years now and I must say it has changed my whole outlook completely. I was diagnosed as bi-polar, depressed and an insomniac. This medication has improved all three of my conditions.',\n",
       " 'Dry mouth and weight gain is a big pain, however most of the time I feel it is worth going through for the benefits.',\n",
       " 'It does help me fall asleep, and does a decent job of stopping me from tossing and turning all night, but I sleep about 10 hours a night and still feel tired.',\n",
       " 'I don&#039;t know where to start. For two years I have had sleep issues because of anxiety and panic attacks. My sleep quality was non existant. Insomnia, restless legs, aches, tension headaches because of it. Everything is a struggle when you can&#039;t sleep, especially for long periods of time.\\r\\nThis medication was prescribed for migraines and at 10mg it has changed everything!! It doesn&#039;t make me drowsy but when I sleep it&#039;s such a deep sleep. I literally go to sleep and wake up on my alarm!! It&#039;s bliss. I do have some side effects, migraines, dizziness and dry mouth but in comparison it&#039;s 10 fold better.',\n",
       " 'I&#039;ve suffered from migraines since I was a teen but as a adult they became unbearable. After the death of my mother going on 5 yrs this December and a year to the date then my grandmother my depression was at a high. I don&#039;t think is describable. My nerves and patience were all over the place my migraines had gotten to the point I had to take shots for the pain! I was rushed to the hospital one day for a headache that I felt was going to take my life the same as a headache did my mom. I had swelling on the brain I was put on three different combinations of meds out of the three I figured out the amitriptyline was the one that managed all my symptoms especially my headaches and later discovered my insomnia! To this day I still take it.',\n",
       " 'I have been taking amitriptyline for 3 weeks and I want to hug the people who make this.  I don&#039;t have those daily stomach aches. Hoping this stays working for me.',\n",
       " 'I started with cyclic vomiting syndrome when I was 14, and was in out of hospital for years. It got to the point I suffered with an episode every week with only 3 days in between, until I was 22. I then saw a doctor that had heard of CVS, and he prescribed Amitriptyline every night and Zofran when an episode started, since then, now I&#039;m 32, I have not had an episode. I still take Amitriptyline every night but it has defiantly stopped CVS and is a miracle for me.',\n",
       " 'I am in my late 60&#039;s. I have been having awful nights for about a year now, waking frequently with vivid and disturbing dreams that stay with me all day. Doctor prescribed 10mg of Amitriptyline and after just two nights the difference is unbelievable. Last night I slept dreamlessly (well I wasn&#039;t aware of any) for 10 hours, only waking once for the toilet. I feel fine today, although a bit &quot;dopey&quot; for the first hour. Only time will tell if this will last. Does anyone know if it is a drug that can develop dependency and increasing doses?',\n",
       " 'I was prescribed Amitriptyline to help with anxiety and sleeping issues, but it has also helped a ton with migraines. I was having at least one a week, but I haven&#039;t had one in almost 4 months (so far). I have had a couple of headaches, but they definitely weren&#039;t migraines, and over-the-counter meds knocked them out. I was at the point where over-the-counter meds weren&#039;t working with the migraines, so I&#039;m thrilled with the results. And it has improved my sleep considerably, also!',\n",
       " 'This medicine made me so exhausted I would sleep at least 12 hours every night and I&#039;d feel so tired all day I couldn&#039;t get anything done. And the two nights I couldn&#039;t take it when I was on it, I stayed up for over 24 hours with insomnia. It freaked me out that it would prevent me from sleeping if I didn&#039;t take it, so I got off of it quickly. It DID help some of the pain, but it wasn&#039;t worth it.',\n",
       " 'Have been suffering nerve damage pain on my leg after having 3 slipped discs for more than 1.5 years and tried a lot of pain relief tablets but didn&#039;t like the side affects from them plus I still had the pain. My dr perscribed me these, must admit I really didn&#039;t think they would be any good but was surprised from the moment I took the first tablet, the pain had greatly decreased so after a week I started to take 2 every evening after dinner and I hardly know myself. Pain free. And the only side affect is feeling a bit sleepy, hence taking then in the evening.',\n",
       " 'Herniated and degenerated disc, with sciatic leg pains, very disabling, unable to get about, get dressed or look after my child and dog in bad days, tried the usual fib off from Doctors and many prescribed medication, Amitriptyline works as pain relief but have been on several months now and always had very thick healthy hair, falls out excessively now and thinning, weight gain at fast pace was always a size 8 not now can&#039;t stop eating, still with pain but can look after my family just, side effects ae depressing for me but they manage the pain to a point after trying alot. Now looking into alternative healthy medication I&#039;m told from a sufferer of back and disc pain that I should stop taking this toxin and try hemp oil along with vitamins.',\n",
       " 'i have been on this drug for two years, it has changed my life. i had depression with severe insomnia and mood swings, i now sleep well and feel i have a new lease of life. i didn&#039;t realise how bad i had been before going on this drug',\n",
       " 'I am currently 16 years old, and have chronic nerve pain in my left arm- it has been 2 years so far. The doctors did basically nothing until now because my insurance (state insurance) was having them go through all kinds of hoops. Finally I was sent to pain management in the recent month, and from there I was prescribed amitriptyline hcl. I&#039;ve found so far, after taking this medication for almost a week, 10mg 30 mins before I go to bed, that I&#039;ve been having intense headaches, but only in my right side of my brain, along with sinus pressure and extreme drowsiness. I literally have slept an entire 19 hours! Normally I only sleep from 10pm to 6am, so sleeping this long is insane.\\r\\r\\nSo far it hasn&#039;t helped with my pain either... :(',\n",
       " 'I suffered from irritable bowel syndrome, diarrhea at least 3 times a day. I have now been on the medication for over two months and I cried with happiness at my follow-up! I have had diarrhea TWICE since I started taking the medication. This medication has genuinely saved my life.',\n",
       " '13 years ago on this drug I went up 10 dress sizes in three months. I developed every inflammatory immune response possible - joints so weak I could hardly stand up, eyes felt like they had sand or glass in them, could not sleep, anxious all the time and crippling rebound migraines.  I lost 1 year of work. Metabolism has never re-corrected itself fully.\\r\\r\\n\\r\\r\\n I stopped going to Doctors after this drug experience as they failed to understand the negative potency of this drug and had no solutions. I got healthy again through properly researched supplementation and nutrition.\\r\\r\\n\\r\\r\\nWrecked my life.',\n",
       " 'I started Amitriptyline for Fibromyalgia, with hopes that it would also help with depression &amp; anxiety. My max dose so far is 40mgs @ bedtime. Initially, it was extremely sedating, but less so as time went on, &amp; when I started taking Wellbutrin for fatigue, I had no residual sedation or daytime sleepiness at all. Ami was a life saver to me in regards to pain relief. As for depression &amp; anxiety, it wasn&#039;t helpful until I combined it with Wellbutrin. I would highly recommend the combo for Fibro fog/fatigue/pain/anxiety/depression. It&#039;s like taking an SNRI without the side effects! I increase by 10mgs as needed when my pain begins breaking through. I also found if I&#039;m really stressed or anxious during the day &amp; take 10mgs, it is very calming.',\n",
       " 'Male with Burning mouth syndrome. It took a few weeks, but this did subdue the symptoms. 50mg nightly.',\n",
       " 'I&#039;ve been suffering for 15+ years with migraines. I prefer not to take prescription medication but had tried homeopathic remedies, adjusted my diet and lived a very regimented lifestyle but would still have 8+ migraines a month. Was prescribed 10 mg in the evening. I started taking 5 mg to slowly start my body on it and minimize side effects---been on 5 mg for the last 6 weeks and have had tremendous success. Side effects: sleepiness in the am--so I take the pill about 6:30 in the evening and have minimal sleepiness in the morning. I was worried about weight gain but haven&#039;t seen it (I&#039;m 110 so it would be noticeable). Dry mouth--I just drink more water. Other than that, minimal side effects.',\n",
       " 'Very effective in treating chronic insomnia with very few, minor side effects!',\n",
       " 'Although I have gained 20 lbs on this medicine I feel much better overall. I take 125mg at bedtime and haven&#039;t slept so good in 25 yrs. I started on a dosage of 25 mg which did nothing. Not even make me sleepy.  Had immediate relief after the dosage was regulated. This in conjunction with anti anxiety medication has helped tremendously. I just have to exercise daily and keep a watch over what I eat. But that is a small trade for the drastic change in my overall well being and frame of mind.',\n",
       " 'This helped my overall mood and I was able to get into a deeper more restful sleep at night.  But it in any way have any effect on my migraines.',\n",
       " 'I take Amitriptyline with carbamazepine. I was diagnosed with trigeminal neuralgia type 2. I take Amitriptyline 10-30 mg in the evening and its the only thing that has relieved me of the shocking pain I feel and the end of my jaw. At first I felt immense drowsiness, but as my body got used to the drug and that side effect went away. The pain is gone now, I am able to eat, drink and shower without the pain. It&#039;s been great. I don&#039;t have any side effects.',\n",
       " 'I had daily migraines for several years. I have been prescribed many different preventatives but was taking 50mg of Imitrex and 4 Tylenol #3 a day for pain relief.\\r\\nSince my neurologist started me on Elavil at 25 mg and finally building up to 50 mg a night (2 months ago) I have only used 2 Imitrex and no more Tylenol with Codeine. This is truly miraculous! The only down side is a 10 lb weight gain. I eat a pretty restricted diet to begin with (no butter or fats, lean meats/fish and no sweets or snack foods). I am trying to further reduce my caloric intake to stop the weight gain. Anyway, I would rather be a little chubby and almost pain free.',\n",
       " 'After years of anxiety and depression also sleep deprivation this drug works for me only on 10mg at the moment, it&#039;s working though .',\n",
       " 'I was prescribed this for restless leg syndrome which was affecting my sleep. I&#039;ve now been taking it for 3 years, 10mg initially. It allows me to slip into sleep if taken about 2 hrs before I go to bed. If I do wake it allows me to get back to sleep easily. The initial dry mouth etc soon went and I am delighted with the ongoing ease with which I can sleep.',\n",
       " 'Both my roommate and I are on amitriptyline for our migraines. We have both missed a dose a few times and have experienced the same side effects. We felt really anxious and felt like we had to be right next to someone. I felt extremely nervous like I was going to have a panic attack and I was perspiring a lot.',\n",
       " 'Do not take this drug. It did absolutely nothing for my pain. It did however, send me into a full Depression.',\n",
       " 'I&#039;ve had fibromyalgia since I was 14 years old. It was not diagnosed until I was 20 at that time I took 3600 milligrams of ibuprofen a day and 40 mg of prozac. After many years I finally went to a rheumatologist who had me on elavil 40 mg. I take that and my 40 mg or prozac and have no fibromyalgia pain any more. I do however have the side effects of fibro fog, short term memory loss. It&#039;s very scary I want to stop all medicine but am afraid. The elavil acts like a prophylactic to complicated migraines for me as well as helping me sleep. Any advice from anyone. I&#039;ve been on medicine for 30 years now.\\r\\r\\n\\r\\r\\nthanks',\n",
       " 'I have been dealing with major depressive disorder,  severe anxiety, OCD, PTSD, and manic depression since I was a teen (now 41) due to extreme childhood trauma. I have also had substance abuse/self-medication issues for these same reasons for over 20 years now. Clean and sober, my insomnia and anxiety was so severe that I would get about 2-3 hrs of sleep naturally at night or with weed (also stopped...) \\r\\nFinally could not stand it anymore as I was getting to the point that was was having bad thoughts about not wanting to be here anymore.. I&#039;m an accountant who is a single mother with a special needs 3 year old and works over 50 hours per week, so, my stress is about as high as it can get.\\r\\n\\r\\nI LOVE THIS MED. HAVE NEVER FELT BETTER.',\n",
       " 'I was prescribed Elavil for depression and migraine prevention. After taking only two 10mg doses of elavil, I had a severe manic episode. (Note: I am not bi-polar.) I was shaking, pacing, unable to sleep, talking a mile a minute but making no sense, full of anxiety and rage, unable to eat or keep anything down and in a total panic. My husband took me to the ER when my heart rate went through the roof and I became short of breath. The hospital kept me overnight on a heart monitor and gave me sedatives to calm me down. My doctor wants me to try another medication but I am terrified at the prospect. Honestly, I&#039;d rather be depressed and have migraines than try another anti depressant. One bad experience was ENOUGH.',\n",
       " 'This works great. Just needed something to balance my depression with insomnia.',\n",
       " 'Excellent for sleep. Take 10mg at bedtime &amp; sleep extremely well with no groggy feeling in the morning. Love it!! Dry mouth sucks but totally worth it &amp; super cheap!',\n",
       " 'I got prescribed with one 10mg tablet of amitriptyline to take everynight towards 9PM, though as it is non-addictive, my Doctor said I could play around with taking 2-3 tablets if I&#039;m stressed -- I have however found one to be largely sufficient, at least for me. \\r\\r\\nSaying it&#039;s has been a wonder drug for me would be an understatement: I will take it and within 30 minutes to 2 hours, I will drift off into a deep, albeit pleasant sleep, but it gets better: I do not feel groggy when waking and wake up naturally at a time that&#039;s convenient for me. I have never been more productive in my whole life.\\r\\r\\nYou might get some unusual sensations in your head the first few days, but they aren&#039;t bothersome in the slightest.',\n",
       " 'I was diagnosed with IC after so many real UTIs and some that were not. I felt like I always had a UTI. In November of 2011, I was diagnosed. It was so severe I had the cystoscopy immediately. I started installations and took various medications. Getting on amitriptyline was great until 6 months later I was in day treatment not understanding why my mania and depression were off the chart. The doctors could not stabilize me and I was hospitalized twice for suicidal thoughts and psychosis. Just beware if you have mental illness, this medication may counteract bipolar and other mental health meds!!',\n",
       " 'I have tried many OTC sleep aids, to no avail. My doctor started me out at a 10mg dose, so my body would have time to adjust before we started increasing the dosage. I think that this was a good tactic because when I first started out on this medication, I felt zombie-like the following day. He gradually increased the dosage on weekends until a month and a half later I started taking 75mg. I get a full 8 hours sleep with my new 75mg dosage, however I was waking in the middle of the night with the smaller dosages. I&#039;m happy with this medication, and no longer experience the post-sleep-zombification. I think however it deserves only an 8 because it takes me 6 hours after taking it to feel sleepy enough.',\n",
       " 'This drug saved my life. Pudendal neuralgia was making me utterly miserable. I could barely even sit down. But between 10mg and 30mg of this drug and my pain disappeared. I became happier and was able to live my life without thinking about the pain. Highly recommended for anyone with sensitive or painful nerves.',\n",
       " 'I had steadily got worse over a matter of years with sleeping to the point where I had three days with no sleep, even sleeping pills would not knock me out. I was diagnosed with pernicious anemia and things got worse. I now take amitriptyline 50mg before bed and two tablets during the day of Lyrica 25mg each tablet. To begin with it didn&#039;t seem to be working and I was so thirsty and extremely tired but that gets totally better after a few weeks. My anxiety has disappeared and my sleeping is 99%/100% better. I would recommend these two tablets without a doubt. They have saved me.',\n",
       " 'Amazing !! I was in agony for a 1 - 2  years with  intersistal cystitis ,saw various doctors,I was at the end of my tether with the pain , finally the doctor prescribed these tablets , stopped the pain straight away , I couldn&#039;t live without them ! Only side effects is dry mouth and make me tired .',\n",
       " 'Developed a prolapsed disk during pregnancy which caused burning/throbbing sciatica all down right leg. I could only sleep for a maximum of two hours at night before the pain woke me up and it was also pretty grim throughout the day. Worked my way up to 20mg of Amitriptyline (5mg more every few days) and found that after several weeks the pain had reduced greatly. After a few months tried reducing dose to 15mg (due to side effects of tiredness and feeling groggy in the morning) but the pain returned so increased dose back to 20mg and pain has gone again. This drug might not suit everyone but for me the benefits of this medication definitely outweigh the side effects and I shall be continuing to take it.',\n",
       " 'I have used Elavil for about two years, on and off. I was prescribed this medication for a condition called Cluster headaches. Well this medicine worked like a miracle, the next morning after taking the Evail I didn%u2019t have a migraine and I had been having them like clockwork for about two weeks!! Although this is an anti-depressant (I wasn%u2019t depressed) this medicine did boost my moods and made me feel much better throughout the day. It also gave me a very restful nights sleep. This medicine has been claimed to make some people gain weight but I work out at least three to four times a week and have not gained any weight. Works wonders and if you eat healthy and work out you shouldn%u2019t see that drastic weight gain that everyone mentions!',\n",
       " 'It didn&rsquo;t work for me so I&rsquo;m giving it a one. No terrible side effects except I was really tired in the mornings. I took it at night.',\n",
       " 'I have been on amitriptyline for a month and it has helped a lot, but I have gain 10 pounds already.',\n",
       " 'I was put on Elavil to treat sleep deprivation and for pain relief.  Took it for four days.  It did not help with the pain and it kept me up instead of putting me to sleep. For the first two days I slept for maybe 3 hours total (slept for one hour, woke up for about an hour, fell asleep for an hour, up again, etc.) then the last two days I went for two days straight with no sleep.   Very frustrating.',\n",
       " 'Had a very bad experience with anxiety three years ago..couldn&#039;t eat or sleep properly..feeling nauseous..diarrhoea every morning. Tried lexapro for 3 nights but made diarrhoea worse. Started on 10mg of amitriptyline each night..symptoms improved for a week and then started to come back. Went on 25mg every night and have been taking it ever since. Would not like to stop taking it now as I feel so much happier in myself..side effects were a dry mouth for about a week but nothing after that..',\n",
       " 'I have migraines for the past 6 years and finally found amytriptlyne 2 years ago. 90% pain relieve. But now all of sudden as Summer sets in as usual every year it becomes more frequent and more painful. I am on 25 mg. But I wonder if I can just double my dosage. Also being in the sun just a few minutes sets off headaches sometimes migraines. Am just tired of feeling sick all the time.',\n",
       " 'I took 25mg of this drug for 20 years after being diagnosed with 7 different auto immune diseases including lupus, rheumatoid arthritis and fibromyalgia. I went off it last May, due to increased irritability. My symptoms all returned from the diseases....burning feet and toes, pain in knees and hips and back and shoulders... so I started back on my 25mg.\\r\\nThe first night I slept through the whole night..first time in months. I&#039;m on day 5 and still have the hung over feeling 24/7, but nothing hurts. My whole body has a tingling sensation which is much more tolerable than pain.\\r\\nHowever my appetite has doubled, which is a huge worry as weight gain equals more pain in the joints. But I&#039;ll take having to watch my food intake over pain anyday',\n",
       " 'This medicine is the best for migraines.I have been on this medicine for almost a year and I started getting relief after two weeks of taking it. The side effects that I have experienced is, weight gain, dry mouth and dizziness and especially if you wait to take the medicine after a certain time of the night. I give this medicine two thumbs up. I currently take two 50mg at bedtime.',\n",
       " 'I was originally prescribed Amitriptyline for pain prevention.  I found Amitriptyline to be sedative even on very low doses (5mg). I adjusted to each increase in dose, however I had to stop at 15mg per day as it was too sedative and causing me to be  light sleeper.  I went back down to 5mg a day for a couple of months.  However the medicine wasn&#039;t helping much with the pain.  I&#039;ve since been prescribed Nortriptyline.',\n",
       " 'I started taking this medicine 4 months ago for my nerve pain in low dose of 10 mg twice a day and maybe a bit for depression. It does not help at all for the pain but it does help to fall asleep faster and for my mood.',\n",
       " 'Finally found a drug which relieved my anxiety. 25mg before bed and it changed my life.',\n",
       " 'Had really bad migraines for years got worse with age I&#039;m 48 now and a femail doctor has prescribed them 10 milg at first nothing changed but 3 months in I&#039;ve had no migraine for nearly a month and half or even headaches and I&#039;m not craving either feel great .',\n",
       " 'I&#039;m on 200mg and it has completely cured my insomnia and helped my chronic back pain. Non addictive and regardless of other posts, you do not build tolerance to this drug. I can&#039;t understand doctors who prescribe addictive, dangerous sleeping drugs over this!',\n",
       " 'I have been using amitriptyline for about 6 months. I have spinal arthritis and am in great pain daily. Some days pain is really bad. I now take 75mg at night time. Although pain is still there at least I know I&#039;m going to have a good sleep. I do suffer from very dry mouth from this tablet and have also put on weight which again is a side effect. I feel this medicine has its uses but it didn&#039;t ease the pain for me.',\n",
       " 'I was diagnosed with Interstitial Cystitis about 2 years ago.  I tried bladder instillations, read books about natural healing and pretty much refused any medication.  After a year and a half of suffering and trying gluten free, dairy free, egg free, yeast free for over 8 weeks I finally gave up the natural route and agreed to 25 mg of amitriptyline once a day.  Bottom line--it works.  It really does.  I still have the frequency but the pain is almost completely gone.  There have been some days when I feel the pain but I take an extra dose and it helps so much.  I do have to say though, it makes me tired, I&#039;ve gained about 30 pounds and waking up in the morning is harder than ever.  Still, it&#039;s worth it.',\n",
       " 'Have been on Amitrip for three years now and haven&#039;t had a cyclic vomiting syndrome episode.\\r\\nMy gastro doctor tried as last resort and it works.\\r\\n25 mg at bedtime my bouts started like clock work at 8 am.\\r\\nMy last episode lasted from June 18th to July 4th.\\r\\n3 different hospital stays.\\r\\nMy weight went from 235 lbs to 180 lbs.\\r\\nThought my life was ending.\\r\\nI was skeptical that this pill at bedtime would do anything.\\r\\nBut I couldn&#039;t have been more wrong, it saved my life so for anyone reading this please try this treatment and I hope you are as lucky as me. I am 57 years old.',\n",
       " 'This medication made me not want to get out of bed.  It was difficult to get up in the morning and I felt tired and unmotivated.  It was a relief when I stopped after trying it for 3 months.  I still had migraines.',\n",
       " 'Amitriptyline, Is an excellent choice for ibs.',\n",
       " 'Had fibromyalgia due to chronic sleep deprivation which caused severe swelling in my hands giving me carpel tunnel pain every night also had swollen knees and severe stiffness. After months of trying alternative therapies with no improvement I finally gave in and started taking 20mg amitriptyline. Within 3 days this medicine changed my life and I felt like a different person.  Went up to 50mg but now back to 25mg and only about 75% of the time. If your health problems are caused by lack of phase four sleep, give this medicine a try.',\n",
       " 'I love this drug. It has worked so well for me. I have recommended it to all of my friends.',\n",
       " 'My family has a history of sleeping issues, (insomnia, hyper insomnia, narcolepsy) so it was no surprise when I started to see the signs, we went to the doctors and they gave me this and my words it was AMAZING. I loved, and still love getting sleep .',\n",
       " 'I have been suffering for years with ibs c and d,I was in Severe pain every day had no social life fed up depressed.until I took this drug amitrPtyline I urge any one suffering to please try this drug it works has totally changed my life all I take is 20mg a night i can basically eat what I want before I could not eat wheat, dairy and now I can please try this drug 10 out of 10 I know what it is like to suffer you feel like life is not fair that you are always feeling unwell when all your family and friends are fine,please try this drug and good luck',\n",
       " 'I had a carotid artery dissection a year ago and suffered with cluster headaches everyday. Since starting 20mg amitriptyline my headaches have stopped and I feel a lot better. Had a stomach ache for first few days of taking it but okay now. Get a lot better sleep as well.',\n",
       " 'I have been on 20mg amitriptyline for some years now due to really bad insomnia. I don&#039;t really know if it works as some nights I sleep ok and others hardly at all. However never felt groggy in morning nor had a dry mouth (unlike when I have taken  zopliclone and other sleeping pills). This week for example has been awful. Every night hardly slept a wink. So went docs yday and he said to increase dosage up to 50mg. Took 40mg last night and will see how that goes. Insomnia is just the worst thing ever, really envy those people who can sleep on a washing line!',\n",
       " 'I started the medication after suffering from insomnia and general anxiety. I tried citrolpram and basically didn&#039;t sleep for a month along with numerous other side affects. I was sceptical the first couple of times I took 10mg to help with sleep and it had no effect, maybe I needed to wait longer for the citrolpram to clear out my system. I left it couple of days and tried 25 mg, let&#039;s just say I slept the best I had in a long time. I haven&#039;t really noticed any other side affects, maybe this is because citrolopram made me feel so strange this doesn&#039;t even scratch the surface. Anyway I&#039;m now to look forward to bed and I hope this continues as it is really helping me focus better at work having more sleep.',\n",
       " 'Was getting head aches/migraines 4-5 times a week started this pill at 10mg and head aches went down to 1-2 a month and very mild. Amazing pill.. life changing for me! Be careful if you change your dose.. went up to 20mg a day and headaches came back so now back at 10mg and so far so good! Amazing amazing amazing!',\n",
       " 'Been on amitriptyline for 3-1/2 weeks now  i.e.  10mg for 1st 3 weeks and now 20mg for last few days, taken at night before sleeping. It has reduced my lower back and other arthritic pains all day, helped me get better sleep, and also reduced my depression/anxiety levels considerably. So far I am a definite fan. The only negative side effect so far is occasional moderate dry mouth which is tolerable, particularly considering all the benefits.',\n",
       " 'I have suffered with excruciating pain in my toes for 3 years almost, suicidal pain was so bad, codeine had no effect, a new Doctor put me on 10mg of Amitriptyline, wow, what a result no pain and I am sleeping and feeling much better',\n",
       " 'After suffering migraines since I was 16 this medicine is a miracle for me. I just used to deal with them by writing the day off and sleeping of my migraines. I lose my sight for 3 hours with flashing lights and severe dizziness and numbness in my arms and lips tingle and go numb.\\r\\nEnough was enough then as I was having 4 every month, went to see a speicalist then reduced by 80% in 2 and half years.\\r\\nAt first you just want to sleep but after 4 weeks you feel better. I take mine at night 30mg and just cannot believe I didn&#039;t seek help many years ago. This 100% works for me.',\n",
       " 'I have suffered from Burning Mouth Syndrome now for 7 years; it literally possessed my mouth like a fiery demon one day, and I have suffered on and off from it ever since.  After trying numerous ineffective treatments, I was prescribed Amitriptyline (Endep 25) by an oral pathologist. It works to a point, and also helps with the chronic insomnia I have experienced for 10 years.  However, I don&#039;t like taking this drug; I feel like a zombie the next day and it takes a whole day to get over the feeling.  However, I like to keep a supply on hand for when the BMS becomes unbearable; I&#039;ll actually &#039;knock myself out&#039; with Endep to obtain relief when my symptoms are really severe. More research needed urgently into this nightmarish condition!',\n",
       " 'It&#039;s nice to see that so many people have had luck with this medication. It was horrible for me. I thought it would help me sleep after Trazadone stopped working, but instead I would be awake every other night, tossing and turning, with muscle spasms and hot flashes. I felt crazy. The doctor kept upping the dose thinking it would help, but of course it just got worse and I felt crazy. It was only a week, but I had to take off work and I just felt miserable. I couldn&#039;t eat and lost eight pounds. You won&#039;t know until you try it, but if you go a night without sleep, I would recommend not using it and not letting anyone talk you into trying more and more and more.',\n",
       " 'I&#039;d had a bad experience trying an SSRI for anxiety (made me feel very ill!) so I tried 10mg of amitriptilyne every night. I didn&#039;t think 10mg would do much for me but it&#039;s incredible how it&#039;s worked. It worked straight away in relaxing me and although groggy, I now have no anxiety! I feel like my old self again. The doctor said this isn&#039;t possible as it&#039;s not a high enough dose but it&#039;s worked for me so I&#039;m going to carry on.\\r\\r\\nI do wonder if all I needed was more sleep but whatever it is, it&#039;s worked for me. I do plan on increasing the dosage as recommended by my doctor but after 20mg I felt extremely tired so I think I tried it too soon. I&#039;ve been on it just over a month now so maybe I&#039;ll try again now.',\n",
       " 'I have been taking 10mg for about a month and it had almost completely eliminated the pain.  Within 2 days of my first dose, I had relief.  At 10mg the only side effects I&#039;ve had were dry mouth and mild sleepiness, but only at night, and in the early morning.  I imagine if I were on a higher dose I might have more side effects.  I occasionally will get a twinge of pain, here and there, but mostly I&#039;ve been pain free.',\n",
       " 'It was both heartwarming and very frustrating reading all the posts on the amazing results that sufferers of IBS found from this medication.  I suffer from a disease called Chronic Radiation Enteritis, which is a possible late effect of having radiation to my abdominal area when I was 12 -- I am now 53. After only 2-3 days of taking the drug, I became extremely anxious, moody, and eventually a general feeling of hopelessness settled on me that was absolutely horrible.  I have taken the 30 pills as asked, but not only did it not help my gut, but made me generally miserable for the entire month.  So IBS people, I am so happy for you, and pray that something will come along that will help me even half as much as the testimonials I read here.',\n",
       " 'It got rid of mine! Tried many meds over the years with various side effects. This is the only one that got rid of my anxiety and depression and gave me no side effects. Not to mention I sleep better on it. I was out of it the first few days until I got used to it and now I can&#039;t even tell I am taking something except that I have no anxiety, panic attacks or depression anymore. It was a game changer for me. I feel like a new, normal person again. I highly recommend trying it.',\n",
       " 'I fell in some grease and broke my back and herniated discs. I had surgery but was left with this crazy pain down my leg to my foot .  I tried pain injections, gabapentin and tramadol.  Of course I was depressed.  My doctor who always listens to me with all her attention said &ldquo; I&rsquo;m going to try Amitriptyline 20mg at bed .  I think it will help your depression and your pain.  She was 100% right, my leg feels great I stopped the gabapentin and only use the tramadol on a bad weather days.  It helps me sleep as well.',\n",
       " 'I was having migraines just about daily. Started taking amitriptyline at first 25mg, then 50mg, then 75mg daily. Effects: reduced the frequency and intensity of the migraines both by roughly 70%. Side effects:  Full night sleeps. Major appetite gain (literally, a pathological obsession with food) and weight gain became out of control. \\r\\nReduced to 50 mg amitriptyline daily, managed to lose the 12 lb weight gained.\\r\\nWe kept it at 50mg with only moderate increase in appetite and complete night sleeps. \\r\\nDoctor started me on beta-blocker Propanolol 30mg. No side effects.\\r\\nSo 50mg amitriptyline   30mg propanolol has resulted to completely stop of migraines (except for possibly a very stressful day which will provoke one).',\n",
       " 'My daughter is16. She started getting migraines around age 12. At first they were every 3 months for a year then once a month and this last year at age 15 they became two or three times a week! We tried Imitrex nose spray and once the urgent care gave her Fioricet. Nothing worked. She had severe aura, loss of vision then the headache followed by vomiting. Also once she was given Topamax which had too many bad side effects. She will be going to Germany for one year as a foreign exchange student and I was going to have to cancel that if we couldn&#039;t find a way to get this under control. I took her to a children&#039;s neurologist and she gave her Amitriptyline. It has been an absolute miracle for us!! No side effects &amp; NO more migraines!',\n",
       " 'I recently had a neck injury which caused the nerve to the left arm to be damaged.  I used 300mg Lyrica and 50mg of amitriptyline, at first, and then increased to 100mg at night, to help with the pain and allow me to get to sleep.  I went off the Lyrica after 4 months but have chosen to stay on the amitriptyline.  The bonus that I experienced with using amitriptyline was that for the first time in over 20yrs I was able to get more than 4 hours of sleep per night.  This has changed my life dramatically as I have energy that I haven&#039;t experienced in many years and I wake up fully rested and ready to meet the day.',\n",
       " 'I am a mother of 3 kids 33 and have anxiety/depression  I was on Effexor 150 mg &quot; this should be illegal! &quot; didn&#039;t work and If a dose was missed it felt like few hours of a drug &quot;rush&quot; like speed or cocaine...intense night sweats highly addictive AVOID! , Celexa\\r\\r\\n &quot; had bad sexual side effects&quot;, zoloft &quot;robot drug&quot;. I am getting back to Elavil 10 mg.  Elavil is great I feel happy on it . It makes me enjoy life and little things again. I don&#039;t  need to take much for it to work and I have no side effects at all on a  10 mg daily dose. I felt sleepy for two weeks when I started but it resorbs and you can then feel its full beneficial effects quickly general  mood elevation and good feeling&quot;. Anxiety is under control on it and I sleep better.',\n",
       " 'I have been on this just a week, 20mg a night to sleep. Immediately I noticed a loss of hunger (I have to remind myself to eat) and loss of need to urinate (again, have to remind myself or I do not feel a need). It helped with sleep the first few nights, now I am up several times each hour. It did help improve mood, but is failing at the main reason for taking it, insomnia.',\n",
       " 'I suffered migraines off and on for years. I&#039;ve been using amiptiptyline for 3 years now at bedtime. No more bad migraines. If I do get one now, my meds work instead of it lasting for days.',\n",
       " 'I have been on Elavil for 7 months now. I take 20mg every night for severe pain in my shoulders, arms and neck and also for depression. It&#039;s the best thing I have taken and I have tried loads of medicine but none have worked. I also couldnt sleep, but now I don&#039;t have pain. I am a lot calmer and I have never slept as good. I haven&#039;t put weight on either. It&#039;s the best tablet that I have been on.',\n",
       " 'This is just my second day of amitript. and I feel so doped and drugged out...Dr gave it to me for severe anxiety (GAD) which I have suffered for years...I could never tolerate the SSRI&#039;s and so she is now trying the amtrip...I feel so out of it and depressed...cant hardly move off the couch much less do any things around the house...I know this is a sedating antidepressant and its the older ones but at such a small dose will I ever get use to the sedating effects and will it really help with the anxiety I have...I dont want to feel like this if its not going to ever help and alll I feel is drugged out every day...I am taking it 3 hours before bedtime and sleeping til 10am the next morning ..should I change meds or give it a go...thanks guys.x',\n",
       " 'Amitriptyline can cause weight gain.',\n",
       " 'I was prescribed 10mg amitryptiline for Endometriosis - for cramps I was getting that would radiate up my back. Coupled with surgery, amitryptiline has been life changing for me. I still have to take it around 7pm so I don&#039;t feel too groggy in the morning but I would rather have a good nights sleep and feel a bit tired in the morning than stay up all night in pain.',\n",
       " 'After years of getting up over two times a night sometimes 7 times, and having my sleeping pill cut in 1/2, a new primary care Dr. Recommended amitriptyline 25 mg, and last night I slept, and did get up only 1 time. So far, it&#039;s great.  I hope others hear about this.',\n",
       " 'This not only cured my chronic insomnia but it cured me of my night time anxiety and panics as well as daytime anxiety. I take 50mg at bedtime. You do not feel drowsy yet you fall asleep immediately and if you wake up at night you fall back asleep rather easily, my life has changed! I tried Celexa and mirtazipine but my system could not tolerate it. Mirtazipine would give me a dreamless sleep.',\n",
       " 'When I was about 15, I started getting these feelings of what I can only explain as &quot;An Impending Doom.&quot; I wasn&#039;t sad, but whenever I tried to do something that I thought was fun, my whole brain started to freak out and all I wanted to do was shut down. There was nothing I could do about it.\\r\\r\\nApparently, this sort of thing happened to most of the people in my family and on my mothers side. So, I talked to my doctor and he said it sounded like a chemical imbalance, seeing as I wasn&#039;t sad about anything and I was healthy, so he asked me to try Amitriptyline. Once I started it, all of my symptoms basically vanished and after 2 years I&#039;ve fully adjusted to it&#039;s affects on my body.',\n",
       " 'My previous doctor put me on 10 mg to try and help me sleep but it stopped working. My new doctor increased it to 35mg( 25mg and 10mg). I don&#039;t fall asleep right away but I do sleep and have a good nights sleep. I feel better in general, not moody like I used to be. Along with anxiety I must have had mild depression.  I had side effects of a dry mouth but that has gone away.',\n",
       " 'After many wrong diagnoses and many RX&#039;s that did not solve the problem, I was finally diagnosed with atypical migraines at 24 years old and given this med to take daily. It solved the problem almost immediately. I was having daily migraines before I took it for about 2 months and didn&#039;t have a single one while on it. I then decided to go off of it and to my surprise, I was mostly migraine free for about 6 months after (aside from that time of the month).  Then, stress peaked and I found myself with almost daily migraines again. So, I&#039;ve started taking it again. Bc I take it at night to avoid day drowsiness, it is harder to wake up in the morning. I don&#039;t feel any difference in my mood. But I am pain free, hurray.',\n",
       " 'I suffered from Chronic Tension Headaches that occurred at least once a day, usually more, and lasted over an hour each, as a result of extremely tight neck /shoulder muscles. No amount of physio or chiropractor visits had helped and I was at a loss as it was genuinely ruining my personal and working life. I was prescribed amitriptyline by my GP due to its muscle relaxant capabilities and ever since then the headaches have been cut by nearly 90%, to the point where I now notice if I have one compared to before where I noticed if I didn&#039;t (!). If you suffer from the same, I would suggest talking to your doctor about their use for treating chronic headaches.',\n",
       " 'My first migraine came at 16 years of age.  Extreme headache pain, optical halos that would move over my eyes for 45 minutes, vomiting, serious aversion to light and smell.  At age 32 the migraine events became a daily experience.  My doctor prescribed 25 mg of Amitriptyline at bedtime.  The headaches disappeared and very rarely does one break through.  However, when it does breakthrough all I get is the optical side of the headache which lasts 45 mins.\\r\\n\\r\\nI have tried to wean myself off the medication but after a week the headaches start again.  Today I have been on the medication for 29 years and I am very happy that this low dosage of this drug allows me the ability to have a great life, free of that horrible pain and suffering',\n",
       " 'I didn&#039;t think this medication was working at all, but when I went off of it, I was in more pain than I&#039;d ever experienced before.  When I&#039;d been back on it for about ten days, my pain was not gone, but it was certainly more tolerable.',\n",
       " 'Hello everyone.I was prescribed this medication,for neuropathic pain,widespread head to toe muscle and skin pain( allodynia),and vulvodynia this medication did nothing to ease my pain it just made me feel horrible, my hands and feet was burning with pain just as bad as before the medication and remained as sick as i was had disturbing nightmares with it every single night, and daytime fatigue,then was prescribed Imipramine 50mg similar medication also a tricyclic, and Wow did it take a lot of my pain away..feeling like a human again,also i sleep like a baby without having to worry about nightmares,and my bladder burning pain and urgency completely diminished.I highly advise anyone with severe pain to try Imipramine.It saved my life big time',\n",
       " 'I have interstitial cystitis for 15 yrs now. I have tried everything. Lyrica worked great for pain but too many side effects.  I am back to amitriptyline.  Works really well and very inexpensive versus thousands for Lyrica.  I even took it during my three pregnancies. All my babies healthy.  Dr said this medicine has been around so long that he was comfortable giving it to me during pregnancy for my pain.']"
      ]
     },
     "execution_count": 22,
     "metadata": {},
     "output_type": "execute_result"
    }
   ],
   "source": [
    "li"
   ]
  },
  {
   "cell_type": "code",
   "execution_count": null,
   "metadata": {},
   "outputs": [],
   "source": [
    "from bertopic import BERTopic\n",
    "from bertopic.representation import KeyBERTInspired\n",
    "\n",
    "# Fine-tune your topic representations\n",
    "representation_model = KeyBERTInspired()\n",
    "topic_model = BERTopic(representation_model=representation_model)"
   ]
  },
  {
   "cell_type": "code",
   "execution_count": null,
   "metadata": {},
   "outputs": [],
   "source": [
    "import openai\n",
    "from bertopic import BERTopic\n",
    "from bertopic.representation import OpenAI\n",
    "import os\n",
    "\n",
    "# Load environment variables from .env file\n",
    "from dotenv import load_dotenv\n",
    "load_dotenv()\n",
    "\n",
    "# Access the API key\n",
    "api_key = os.getenv(\"API_KEY\")\n",
    "\n",
    "# Fine-tune topic representations with GPT\n",
    "client = openai.OpenAI(api_key=api_key)\n",
    "representation_model = OpenAI(client, model=\"gpt-3.5-turbo\", chat=True)\n",
    "topic_model = BERTopic(representation_model=representation_model)\n",
    "topic_model = BERTopic()\n",
    "topics, probs = topic_model.fit_transform(li)"
   ]
  },
  {
   "cell_type": "code",
   "execution_count": null,
   "metadata": {},
   "outputs": [
    {
     "data": {
      "application/vnd.plotly.v1+json": {
       "config": {
        "plotlyServerURL": "https://plot.ly"
       },
       "data": [
        {
         "customdata": [
          [
           0,
           "and | to | the | it | my",
           615
          ],
          [
           1,
           "and | the | to | my | ibs",
           41
          ],
          [
           2,
           "the | cystitis | interstitial | my | it",
           23
          ],
          [
           3,
           "vomiting | and | to | cvs | have",
           14
          ]
         ],
         "hovertemplate": "<b>Topic %{customdata[0]}</b><br>%{customdata[1]}<br>Size: %{customdata[2]}",
         "legendgroup": "",
         "marker": {
          "color": "#B0BEC5",
          "line": {
           "color": "DarkSlateGrey",
           "width": 2
          },
          "size": [
           615,
           41,
           23,
           14
          ],
          "sizemode": "area",
          "sizeref": 0.384375,
          "symbol": "circle"
         },
         "mode": "markers",
         "name": "",
         "orientation": "v",
         "showlegend": false,
         "type": "scatter",
         "x": [
          3.7666687965393066,
          2.953996181488037,
          2.534351110458374,
          4.475369930267334
         ],
         "xaxis": "x",
         "y": [
          -10.2940034866333,
          -10.163596153259277,
          -10.897072792053223,
          -10.230326652526855
         ],
         "yaxis": "y"
        }
       ],
       "layout": {
        "annotations": [
         {
          "showarrow": false,
          "text": "D1",
          "x": 2.154198443889618,
          "y": -10.585345220565795,
          "yshift": 10
         },
         {
          "showarrow": false,
          "text": "D2",
          "x": 3.6504369318485264,
          "xshift": 10,
          "y": -8.639056730270386
         }
        ],
        "height": 650,
        "hoverlabel": {
         "bgcolor": "white",
         "font": {
          "family": "Rockwell",
          "size": 16
         }
        },
        "legend": {
         "itemsizing": "constant",
         "tracegroupgap": 0
        },
        "margin": {
         "t": 60
        },
        "shapes": [
         {
          "line": {
           "color": "#CFD8DC",
           "width": 2
          },
          "type": "line",
          "x0": 3.6504369318485264,
          "x1": 3.6504369318485264,
          "y0": -12.531633710861206,
          "y1": -8.639056730270386
         },
         {
          "line": {
           "color": "#9E9E9E",
           "width": 2
          },
          "type": "line",
          "x0": 2.154198443889618,
          "x1": 5.146675419807434,
          "y0": -10.585345220565795,
          "y1": -10.585345220565795
         }
        ],
        "sliders": [
         {
          "active": 0,
          "pad": {
           "t": 50
          },
          "steps": [
           {
            "args": [
             {
              "marker.color": [
               [
                "red",
                "#B0BEC5",
                "#B0BEC5",
                "#B0BEC5"
               ]
              ]
             }
            ],
            "label": "Topic 0",
            "method": "update"
           },
           {
            "args": [
             {
              "marker.color": [
               [
                "#B0BEC5",
                "red",
                "#B0BEC5",
                "#B0BEC5"
               ]
              ]
             }
            ],
            "label": "Topic 1",
            "method": "update"
           },
           {
            "args": [
             {
              "marker.color": [
               [
                "#B0BEC5",
                "#B0BEC5",
                "red",
                "#B0BEC5"
               ]
              ]
             }
            ],
            "label": "Topic 2",
            "method": "update"
           },
           {
            "args": [
             {
              "marker.color": [
               [
                "#B0BEC5",
                "#B0BEC5",
                "#B0BEC5",
                "red"
               ]
              ]
             }
            ],
            "label": "Topic 3",
            "method": "update"
           }
          ]
         }
        ],
        "template": {
         "data": {
          "bar": [
           {
            "error_x": {
             "color": "rgb(36,36,36)"
            },
            "error_y": {
             "color": "rgb(36,36,36)"
            },
            "marker": {
             "line": {
              "color": "white",
              "width": 0.5
             },
             "pattern": {
              "fillmode": "overlay",
              "size": 10,
              "solidity": 0.2
             }
            },
            "type": "bar"
           }
          ],
          "barpolar": [
           {
            "marker": {
             "line": {
              "color": "white",
              "width": 0.5
             },
             "pattern": {
              "fillmode": "overlay",
              "size": 10,
              "solidity": 0.2
             }
            },
            "type": "barpolar"
           }
          ],
          "carpet": [
           {
            "aaxis": {
             "endlinecolor": "rgb(36,36,36)",
             "gridcolor": "white",
             "linecolor": "white",
             "minorgridcolor": "white",
             "startlinecolor": "rgb(36,36,36)"
            },
            "baxis": {
             "endlinecolor": "rgb(36,36,36)",
             "gridcolor": "white",
             "linecolor": "white",
             "minorgridcolor": "white",
             "startlinecolor": "rgb(36,36,36)"
            },
            "type": "carpet"
           }
          ],
          "choropleth": [
           {
            "colorbar": {
             "outlinewidth": 1,
             "tickcolor": "rgb(36,36,36)",
             "ticks": "outside"
            },
            "type": "choropleth"
           }
          ],
          "contour": [
           {
            "colorbar": {
             "outlinewidth": 1,
             "tickcolor": "rgb(36,36,36)",
             "ticks": "outside"
            },
            "colorscale": [
             [
              0,
              "#440154"
             ],
             [
              0.1111111111111111,
              "#482878"
             ],
             [
              0.2222222222222222,
              "#3e4989"
             ],
             [
              0.3333333333333333,
              "#31688e"
             ],
             [
              0.4444444444444444,
              "#26828e"
             ],
             [
              0.5555555555555556,
              "#1f9e89"
             ],
             [
              0.6666666666666666,
              "#35b779"
             ],
             [
              0.7777777777777778,
              "#6ece58"
             ],
             [
              0.8888888888888888,
              "#b5de2b"
             ],
             [
              1,
              "#fde725"
             ]
            ],
            "type": "contour"
           }
          ],
          "contourcarpet": [
           {
            "colorbar": {
             "outlinewidth": 1,
             "tickcolor": "rgb(36,36,36)",
             "ticks": "outside"
            },
            "type": "contourcarpet"
           }
          ],
          "heatmap": [
           {
            "colorbar": {
             "outlinewidth": 1,
             "tickcolor": "rgb(36,36,36)",
             "ticks": "outside"
            },
            "colorscale": [
             [
              0,
              "#440154"
             ],
             [
              0.1111111111111111,
              "#482878"
             ],
             [
              0.2222222222222222,
              "#3e4989"
             ],
             [
              0.3333333333333333,
              "#31688e"
             ],
             [
              0.4444444444444444,
              "#26828e"
             ],
             [
              0.5555555555555556,
              "#1f9e89"
             ],
             [
              0.6666666666666666,
              "#35b779"
             ],
             [
              0.7777777777777778,
              "#6ece58"
             ],
             [
              0.8888888888888888,
              "#b5de2b"
             ],
             [
              1,
              "#fde725"
             ]
            ],
            "type": "heatmap"
           }
          ],
          "heatmapgl": [
           {
            "colorbar": {
             "outlinewidth": 1,
             "tickcolor": "rgb(36,36,36)",
             "ticks": "outside"
            },
            "colorscale": [
             [
              0,
              "#440154"
             ],
             [
              0.1111111111111111,
              "#482878"
             ],
             [
              0.2222222222222222,
              "#3e4989"
             ],
             [
              0.3333333333333333,
              "#31688e"
             ],
             [
              0.4444444444444444,
              "#26828e"
             ],
             [
              0.5555555555555556,
              "#1f9e89"
             ],
             [
              0.6666666666666666,
              "#35b779"
             ],
             [
              0.7777777777777778,
              "#6ece58"
             ],
             [
              0.8888888888888888,
              "#b5de2b"
             ],
             [
              1,
              "#fde725"
             ]
            ],
            "type": "heatmapgl"
           }
          ],
          "histogram": [
           {
            "marker": {
             "line": {
              "color": "white",
              "width": 0.6
             }
            },
            "type": "histogram"
           }
          ],
          "histogram2d": [
           {
            "colorbar": {
             "outlinewidth": 1,
             "tickcolor": "rgb(36,36,36)",
             "ticks": "outside"
            },
            "colorscale": [
             [
              0,
              "#440154"
             ],
             [
              0.1111111111111111,
              "#482878"
             ],
             [
              0.2222222222222222,
              "#3e4989"
             ],
             [
              0.3333333333333333,
              "#31688e"
             ],
             [
              0.4444444444444444,
              "#26828e"
             ],
             [
              0.5555555555555556,
              "#1f9e89"
             ],
             [
              0.6666666666666666,
              "#35b779"
             ],
             [
              0.7777777777777778,
              "#6ece58"
             ],
             [
              0.8888888888888888,
              "#b5de2b"
             ],
             [
              1,
              "#fde725"
             ]
            ],
            "type": "histogram2d"
           }
          ],
          "histogram2dcontour": [
           {
            "colorbar": {
             "outlinewidth": 1,
             "tickcolor": "rgb(36,36,36)",
             "ticks": "outside"
            },
            "colorscale": [
             [
              0,
              "#440154"
             ],
             [
              0.1111111111111111,
              "#482878"
             ],
             [
              0.2222222222222222,
              "#3e4989"
             ],
             [
              0.3333333333333333,
              "#31688e"
             ],
             [
              0.4444444444444444,
              "#26828e"
             ],
             [
              0.5555555555555556,
              "#1f9e89"
             ],
             [
              0.6666666666666666,
              "#35b779"
             ],
             [
              0.7777777777777778,
              "#6ece58"
             ],
             [
              0.8888888888888888,
              "#b5de2b"
             ],
             [
              1,
              "#fde725"
             ]
            ],
            "type": "histogram2dcontour"
           }
          ],
          "mesh3d": [
           {
            "colorbar": {
             "outlinewidth": 1,
             "tickcolor": "rgb(36,36,36)",
             "ticks": "outside"
            },
            "type": "mesh3d"
           }
          ],
          "parcoords": [
           {
            "line": {
             "colorbar": {
              "outlinewidth": 1,
              "tickcolor": "rgb(36,36,36)",
              "ticks": "outside"
             }
            },
            "type": "parcoords"
           }
          ],
          "pie": [
           {
            "automargin": true,
            "type": "pie"
           }
          ],
          "scatter": [
           {
            "fillpattern": {
             "fillmode": "overlay",
             "size": 10,
             "solidity": 0.2
            },
            "type": "scatter"
           }
          ],
          "scatter3d": [
           {
            "line": {
             "colorbar": {
              "outlinewidth": 1,
              "tickcolor": "rgb(36,36,36)",
              "ticks": "outside"
             }
            },
            "marker": {
             "colorbar": {
              "outlinewidth": 1,
              "tickcolor": "rgb(36,36,36)",
              "ticks": "outside"
             }
            },
            "type": "scatter3d"
           }
          ],
          "scattercarpet": [
           {
            "marker": {
             "colorbar": {
              "outlinewidth": 1,
              "tickcolor": "rgb(36,36,36)",
              "ticks": "outside"
             }
            },
            "type": "scattercarpet"
           }
          ],
          "scattergeo": [
           {
            "marker": {
             "colorbar": {
              "outlinewidth": 1,
              "tickcolor": "rgb(36,36,36)",
              "ticks": "outside"
             }
            },
            "type": "scattergeo"
           }
          ],
          "scattergl": [
           {
            "marker": {
             "colorbar": {
              "outlinewidth": 1,
              "tickcolor": "rgb(36,36,36)",
              "ticks": "outside"
             }
            },
            "type": "scattergl"
           }
          ],
          "scattermapbox": [
           {
            "marker": {
             "colorbar": {
              "outlinewidth": 1,
              "tickcolor": "rgb(36,36,36)",
              "ticks": "outside"
             }
            },
            "type": "scattermapbox"
           }
          ],
          "scatterpolar": [
           {
            "marker": {
             "colorbar": {
              "outlinewidth": 1,
              "tickcolor": "rgb(36,36,36)",
              "ticks": "outside"
             }
            },
            "type": "scatterpolar"
           }
          ],
          "scatterpolargl": [
           {
            "marker": {
             "colorbar": {
              "outlinewidth": 1,
              "tickcolor": "rgb(36,36,36)",
              "ticks": "outside"
             }
            },
            "type": "scatterpolargl"
           }
          ],
          "scatterternary": [
           {
            "marker": {
             "colorbar": {
              "outlinewidth": 1,
              "tickcolor": "rgb(36,36,36)",
              "ticks": "outside"
             }
            },
            "type": "scatterternary"
           }
          ],
          "surface": [
           {
            "colorbar": {
             "outlinewidth": 1,
             "tickcolor": "rgb(36,36,36)",
             "ticks": "outside"
            },
            "colorscale": [
             [
              0,
              "#440154"
             ],
             [
              0.1111111111111111,
              "#482878"
             ],
             [
              0.2222222222222222,
              "#3e4989"
             ],
             [
              0.3333333333333333,
              "#31688e"
             ],
             [
              0.4444444444444444,
              "#26828e"
             ],
             [
              0.5555555555555556,
              "#1f9e89"
             ],
             [
              0.6666666666666666,
              "#35b779"
             ],
             [
              0.7777777777777778,
              "#6ece58"
             ],
             [
              0.8888888888888888,
              "#b5de2b"
             ],
             [
              1,
              "#fde725"
             ]
            ],
            "type": "surface"
           }
          ],
          "table": [
           {
            "cells": {
             "fill": {
              "color": "rgb(237,237,237)"
             },
             "line": {
              "color": "white"
             }
            },
            "header": {
             "fill": {
              "color": "rgb(217,217,217)"
             },
             "line": {
              "color": "white"
             }
            },
            "type": "table"
           }
          ]
         },
         "layout": {
          "annotationdefaults": {
           "arrowhead": 0,
           "arrowwidth": 1
          },
          "autotypenumbers": "strict",
          "coloraxis": {
           "colorbar": {
            "outlinewidth": 1,
            "tickcolor": "rgb(36,36,36)",
            "ticks": "outside"
           }
          },
          "colorscale": {
           "diverging": [
            [
             0,
             "rgb(103,0,31)"
            ],
            [
             0.1,
             "rgb(178,24,43)"
            ],
            [
             0.2,
             "rgb(214,96,77)"
            ],
            [
             0.3,
             "rgb(244,165,130)"
            ],
            [
             0.4,
             "rgb(253,219,199)"
            ],
            [
             0.5,
             "rgb(247,247,247)"
            ],
            [
             0.6,
             "rgb(209,229,240)"
            ],
            [
             0.7,
             "rgb(146,197,222)"
            ],
            [
             0.8,
             "rgb(67,147,195)"
            ],
            [
             0.9,
             "rgb(33,102,172)"
            ],
            [
             1,
             "rgb(5,48,97)"
            ]
           ],
           "sequential": [
            [
             0,
             "#440154"
            ],
            [
             0.1111111111111111,
             "#482878"
            ],
            [
             0.2222222222222222,
             "#3e4989"
            ],
            [
             0.3333333333333333,
             "#31688e"
            ],
            [
             0.4444444444444444,
             "#26828e"
            ],
            [
             0.5555555555555556,
             "#1f9e89"
            ],
            [
             0.6666666666666666,
             "#35b779"
            ],
            [
             0.7777777777777778,
             "#6ece58"
            ],
            [
             0.8888888888888888,
             "#b5de2b"
            ],
            [
             1,
             "#fde725"
            ]
           ],
           "sequentialminus": [
            [
             0,
             "#440154"
            ],
            [
             0.1111111111111111,
             "#482878"
            ],
            [
             0.2222222222222222,
             "#3e4989"
            ],
            [
             0.3333333333333333,
             "#31688e"
            ],
            [
             0.4444444444444444,
             "#26828e"
            ],
            [
             0.5555555555555556,
             "#1f9e89"
            ],
            [
             0.6666666666666666,
             "#35b779"
            ],
            [
             0.7777777777777778,
             "#6ece58"
            ],
            [
             0.8888888888888888,
             "#b5de2b"
            ],
            [
             1,
             "#fde725"
            ]
           ]
          },
          "colorway": [
           "#1F77B4",
           "#FF7F0E",
           "#2CA02C",
           "#D62728",
           "#9467BD",
           "#8C564B",
           "#E377C2",
           "#7F7F7F",
           "#BCBD22",
           "#17BECF"
          ],
          "font": {
           "color": "rgb(36,36,36)"
          },
          "geo": {
           "bgcolor": "white",
           "lakecolor": "white",
           "landcolor": "white",
           "showlakes": true,
           "showland": true,
           "subunitcolor": "white"
          },
          "hoverlabel": {
           "align": "left"
          },
          "hovermode": "closest",
          "mapbox": {
           "style": "light"
          },
          "paper_bgcolor": "white",
          "plot_bgcolor": "white",
          "polar": {
           "angularaxis": {
            "gridcolor": "rgb(232,232,232)",
            "linecolor": "rgb(36,36,36)",
            "showgrid": false,
            "showline": true,
            "ticks": "outside"
           },
           "bgcolor": "white",
           "radialaxis": {
            "gridcolor": "rgb(232,232,232)",
            "linecolor": "rgb(36,36,36)",
            "showgrid": false,
            "showline": true,
            "ticks": "outside"
           }
          },
          "scene": {
           "xaxis": {
            "backgroundcolor": "white",
            "gridcolor": "rgb(232,232,232)",
            "gridwidth": 2,
            "linecolor": "rgb(36,36,36)",
            "showbackground": true,
            "showgrid": false,
            "showline": true,
            "ticks": "outside",
            "zeroline": false,
            "zerolinecolor": "rgb(36,36,36)"
           },
           "yaxis": {
            "backgroundcolor": "white",
            "gridcolor": "rgb(232,232,232)",
            "gridwidth": 2,
            "linecolor": "rgb(36,36,36)",
            "showbackground": true,
            "showgrid": false,
            "showline": true,
            "ticks": "outside",
            "zeroline": false,
            "zerolinecolor": "rgb(36,36,36)"
           },
           "zaxis": {
            "backgroundcolor": "white",
            "gridcolor": "rgb(232,232,232)",
            "gridwidth": 2,
            "linecolor": "rgb(36,36,36)",
            "showbackground": true,
            "showgrid": false,
            "showline": true,
            "ticks": "outside",
            "zeroline": false,
            "zerolinecolor": "rgb(36,36,36)"
           }
          },
          "shapedefaults": {
           "fillcolor": "black",
           "line": {
            "width": 0
           },
           "opacity": 0.3
          },
          "ternary": {
           "aaxis": {
            "gridcolor": "rgb(232,232,232)",
            "linecolor": "rgb(36,36,36)",
            "showgrid": false,
            "showline": true,
            "ticks": "outside"
           },
           "baxis": {
            "gridcolor": "rgb(232,232,232)",
            "linecolor": "rgb(36,36,36)",
            "showgrid": false,
            "showline": true,
            "ticks": "outside"
           },
           "bgcolor": "white",
           "caxis": {
            "gridcolor": "rgb(232,232,232)",
            "linecolor": "rgb(36,36,36)",
            "showgrid": false,
            "showline": true,
            "ticks": "outside"
           }
          },
          "title": {
           "x": 0.05
          },
          "xaxis": {
           "automargin": true,
           "gridcolor": "rgb(232,232,232)",
           "linecolor": "rgb(36,36,36)",
           "showgrid": false,
           "showline": true,
           "ticks": "outside",
           "title": {
            "standoff": 15
           },
           "zeroline": false,
           "zerolinecolor": "rgb(36,36,36)"
          },
          "yaxis": {
           "automargin": true,
           "gridcolor": "rgb(232,232,232)",
           "linecolor": "rgb(36,36,36)",
           "showgrid": false,
           "showline": true,
           "ticks": "outside",
           "title": {
            "standoff": 15
           },
           "zeroline": false,
           "zerolinecolor": "rgb(36,36,36)"
          }
         }
        },
        "title": {
         "font": {
          "color": "Black",
          "size": 22
         },
         "text": "<b>Intertopic Distance Map</b>",
         "x": 0.5,
         "xanchor": "center",
         "y": 0.95,
         "yanchor": "top"
        },
        "width": 650,
        "xaxis": {
         "anchor": "y",
         "domain": [
          0,
          1
         ],
         "range": [
          2.154198443889618,
          5.146675419807434
         ],
         "title": {
          "text": ""
         },
         "visible": false
        },
        "yaxis": {
         "anchor": "x",
         "domain": [
          0,
          1
         ],
         "range": [
          -12.531633710861206,
          -8.639056730270386
         ],
         "title": {
          "text": ""
         },
         "visible": false
        }
       }
      }
     },
     "metadata": {},
     "output_type": "display_data"
    }
   ],
   "source": [
    "topic_model.visualize_topics()"
   ]
  },
  {
   "cell_type": "code",
   "execution_count": null,
   "metadata": {},
   "outputs": [],
   "source": [
    "df = topic_model.get_topic_info()"
   ]
  },
  {
   "cell_type": "code",
   "execution_count": null,
   "metadata": {},
   "outputs": [
    {
     "data": {
      "text/plain": [
       "['0_and_to_the',\n",
       " '1_and_the_to',\n",
       " '2_the_cystitis_interstitial',\n",
       " '3_vomiting_and_to']"
      ]
     },
     "execution_count": 27,
     "metadata": {},
     "output_type": "execute_result"
    }
   ],
   "source": [
    "topic_model.generate_topic_labels()"
   ]
  },
  {
   "cell_type": "code",
   "execution_count": null,
   "metadata": {},
   "outputs": [],
   "source": [
    "fin = []\n",
    "for i in range(len(df)):\n",
    "    fin.append((df.iloc[i].Topic, df.iloc[i].Count, df.iloc[i].Name))"
   ]
  },
  {
   "cell_type": "code",
   "execution_count": null,
   "metadata": {},
   "outputs": [],
   "source": [
    "li = df.iloc[0].Representative_Docs"
   ]
  },
  {
   "cell_type": "code",
   "execution_count": null,
   "metadata": {},
   "outputs": [
    {
     "data": {
      "text/plain": [
       "['I just had my second Mirena put in and still love it. I had the first one put in three months after my first child was born. I was a little scared after reading the negative reviews, but I had no side effects and no period after having it in for a couple of months. I had it removed two years later to get pregnant with my second and again no problems.  I was pregnant in three months.  There was a little cramping when it was put in and during that day.  I have recommended this form of birth control to all my friends.  So don&#039;t be scared!  As my doctor said people early post the positive but love to post the negative!',\n",
       " 'After reading mostly horrible reviews, I was pretty scared to get it put in. It was really the only option for me though, I have had very heavy periods since having my 2 kids. My Dr. recommended an ablation to control the bleeding, but when she sent me to an ob, she said Mirena could be something to think about. Hubby and I are done with kids, so this is only to control the bleeding. Anyways when I went in for the Mirena I barely felt a thing. A little bit of cramping that was it. Since then, I have had some spotting here and there. But no acne, weight gain, or moodiness. Sex drive is still great as ever. Nothing had changed for me. Everyone is different. You will only know how your body will react if you try it.',\n",
       " 'I&#039;m 24 years old and this is my second time to have the mirena. I had it the first time for 5 years then had it taken out due to the 5 year period and got put on the pill. The pill was not for me at all. So I decided to get the mirena again. I do not have a child. The mirena did hurt when I got it put in and did have bad cramping and some spotting but it was no unbearable. I was fine the next day. I have no gained weight being on the mirena or have had trouble with it. I still sometimes spot And my period is not regular anymore but that comes with it. I personally believe if you are not ready or do not want to have a child right now the mirena is the best thing!']"
      ]
     },
     "execution_count": 262,
     "metadata": {},
     "output_type": "execute_result"
    }
   ],
   "source": [
    "li"
   ]
  },
  {
   "cell_type": "code",
   "execution_count": null,
   "metadata": {},
   "outputs": [
    {
     "name": "stdout",
     "output_type": "stream",
     "text": [
      "['I&rsquo;ve had this for roughly 2 1/2 months and I really like it, besides the what seems never ending period. I&rsquo;ve been bleeding for well over 20 days straight, but it hasn&rsquo;t really effected my mood (none that my boyfriend can tell) and my sex life is still pretty great! Yeah, it&rsquo;s not ideal to have sex while on your period, but considering sometimes I get very few cramps (after never having them before) I&rsquo;ve done what I&rsquo;ve had to do to relieve the bit of pain! Honestly, I&rsquo;m not upset with it at all and I think it&rsquo;s a great thing to have. All I can say is, no babies for me!', 'I had an exploratory laparoscopy and a mirena coil inserted as I had been experiencing very painful and heavy periods for some time. The laparoscopy recovery was horrendous, painful, the trapped gas in my chest was soul destroying ... it was the worst thing I have ever been through. The coil on the other hand has been an unexpected blessing. I am about 3 months post having it fitted. Month 1 I experienced bleeding daily, but light. Month 2 I had a couple of spotting days. Its now month 3 and it appears that my periods have stopped. I still get twinges and sharp pains in my hip bones and coxic bone daily that last a few seconds.  When I do yoga I need to be careful with some of the poses. But Im really optimistic that its going to settle.', 0]\n"
     ]
    }
   ],
   "source": [
    "print(li)"
   ]
  },
  {
   "cell_type": "code",
   "execution_count": null,
   "metadata": {},
   "outputs": [],
   "source": [
    "ans = {f\"num_{i}\": li[i] for i in range(len(li))}"
   ]
  },
  {
   "cell_type": "code",
   "execution_count": null,
   "metadata": {},
   "outputs": [
    {
     "data": {
      "text/plain": [
       "{'num_0': 'I just had my second Mirena put in and still love it. I had the first one put in three months after my first child was born. I was a little scared after reading the negative reviews, but I had no side effects and no period after having it in for a couple of months. I had it removed two years later to get pregnant with my second and again no problems.  I was pregnant in three months.  There was a little cramping when it was put in and during that day.  I have recommended this form of birth control to all my friends.  So don&#039;t be scared!  As my doctor said people early post the positive but love to post the negative!',\n",
       " 'num_1': 'After reading mostly horrible reviews, I was pretty scared to get it put in. It was really the only option for me though, I have had very heavy periods since having my 2 kids. My Dr. recommended an ablation to control the bleeding, but when she sent me to an ob, she said Mirena could be something to think about. Hubby and I are done with kids, so this is only to control the bleeding. Anyways when I went in for the Mirena I barely felt a thing. A little bit of cramping that was it. Since then, I have had some spotting here and there. But no acne, weight gain, or moodiness. Sex drive is still great as ever. Nothing had changed for me. Everyone is different. You will only know how your body will react if you try it.',\n",
       " 'num_2': 'I&#039;m 24 years old and this is my second time to have the mirena. I had it the first time for 5 years then had it taken out due to the 5 year period and got put on the pill. The pill was not for me at all. So I decided to get the mirena again. I do not have a child. The mirena did hurt when I got it put in and did have bad cramping and some spotting but it was no unbearable. I was fine the next day. I have no gained weight being on the mirena or have had trouble with it. I still sometimes spot And my period is not regular anymore but that comes with it. I personally believe if you are not ready or do not want to have a child right now the mirena is the best thing!'}"
      ]
     },
     "execution_count": 264,
     "metadata": {},
     "output_type": "execute_result"
    }
   ],
   "source": [
    "ans"
   ]
  },
  {
   "cell_type": "code",
   "execution_count": null,
   "metadata": {},
   "outputs": [
    {
     "data": {
      "text/plain": [
       "[(-1, 31, '-1_to_it_the_and'),\n",
       " (0, 1200, '0_the_and_it_my'),\n",
       " (1, 11, '1_it_and_in_removed')]"
      ]
     },
     "execution_count": 158,
     "metadata": {},
     "output_type": "execute_result"
    }
   ],
   "source": [
    "fin"
   ]
  },
  {
   "cell_type": "code",
   "execution_count": null,
   "metadata": {},
   "outputs": [
    {
     "data": {
      "text/plain": [
       "[('it', 0.15264684520266888),\n",
       " ('and', 0.11586675167036871),\n",
       " ('in', 0.08983025929119294),\n",
       " ('removed', 0.08546619701273075),\n",
       " ('had', 0.07435521776802097),\n",
       " ('headache', 0.070867190598421),\n",
       " ('depression', 0.06141097787585349),\n",
       " ('headaches', 0.059061553077450896),\n",
       " ('got', 0.05666126589185071),\n",
       " ('my', 0.051477865554523154)]"
      ]
     },
     "execution_count": 159,
     "metadata": {},
     "output_type": "execute_result"
    }
   ],
   "source": [
    "topic_model.get_topic(1)"
   ]
  },
  {
   "cell_type": "code",
   "execution_count": null,
   "metadata": {},
   "outputs": [],
   "source": [
    "docs = topic_model.get_representative_docs(0)"
   ]
  },
  {
   "cell_type": "code",
   "execution_count": null,
   "metadata": {},
   "outputs": [
    {
     "data": {
      "text/plain": [
       "3"
      ]
     },
     "execution_count": 164,
     "metadata": {},
     "output_type": "execute_result"
    }
   ],
   "source": [
    "len(docs)"
   ]
  },
  {
   "cell_type": "code",
   "execution_count": null,
   "metadata": {},
   "outputs": [],
   "source": [
    "drug = \"teri ma / ki chut\""
   ]
  },
  {
   "cell_type": "code",
   "execution_count": null,
   "metadata": {},
   "outputs": [
    {
     "data": {
      "text/plain": [
       "'teri_ma'"
      ]
     },
     "execution_count": 166,
     "metadata": {},
     "output_type": "execute_result"
    }
   ],
   "source": [
    "drug.replace(\" \", \"_\").split('/')[0].rstrip(\"_\")"
   ]
  }
 ],
 "metadata": {
  "kernelspec": {
   "display_name": "torch",
   "language": "python",
   "name": "python3"
  },
  "language_info": {
   "codemirror_mode": {
    "name": "ipython",
    "version": 3
   },
   "file_extension": ".py",
   "mimetype": "text/x-python",
   "name": "python",
   "nbconvert_exporter": "python",
   "pygments_lexer": "ipython3",
   "version": "3.11.8"
  }
 },
 "nbformat": 4,
 "nbformat_minor": 2
}
